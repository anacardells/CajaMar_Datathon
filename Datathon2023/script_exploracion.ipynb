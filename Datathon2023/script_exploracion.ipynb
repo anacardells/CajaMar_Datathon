{
 "cells": [
  {
   "attachments": {},
   "cell_type": "markdown",
   "metadata": {},
   "source": [
    "# CajaMar University Hack 2023"
   ]
  },
  {
   "attachments": {},
   "cell_type": "markdown",
   "metadata": {},
   "source": [
    "La Viña Wine Prediction\n",
    "\n",
    "Ana Cardells\n"
   ]
  },
  {
   "attachments": {},
   "cell_type": "markdown",
   "metadata": {},
   "source": [
    "Info somelier: \n",
    "* La producción depende de muchísimas cosas: luz, humedad, tipo de suelo, variedad de la uva, modo de cultivo...\n",
    "* Normalmente a finales de junio, si no hay piedra o enfermedad, la producción ya está bastante \"fija\".\n",
    "* También está controlada por la DO. En España, el máximo de kg/ha suele ser de 12.000\n",
    "* Modos de cultivo: espaldera (más rendimiento porque le toca más el sol y está más aireado, lo que evita enfermedades) y vaso (tipo arbusto, menos producción)\n",
    "* Normalmente los viñedos viejos suelen ir en vaso y tener menor rendimiento\n",
    "* Clima: en primavera es importante la lluvia, en mayo es muy peligrosa la piedra (destruye lo que está brotando), en verano es muy imporante el sol (y cuanta menos lluvia mejor)\n",
    "* La cepa es bastante de secano\n",
    "* La humedad es un foco de enfermedades. Las enfermedades son uno de los focos de pérdidas principales.\n",
    "* El tipo de suelo es importante. Suelos muy pobres y con pocos nutrientes dan menos rendimiento (aunque luego la calidad puede ser alta)\n",
    "* La variedad de la uva también influye. No todas producen lo mismo. \n",
    "* En las viñas no hay barbecho.\n",
    "\n",
    "\n",
    "Web:\n",
    "* La DO Valencia no impone un límite de producción específico para los vinos amparados bajo su denominación. En su lugar, establece una serie de normas y requisitos en cuanto a los viñedos, las variedades de uva, la elaboración del vino, el envejecimiento, etc. con el objetivo de garantizar la calidad y la autenticidad de los vinos producidos bajo su sello."
   ]
  },
  {
   "attachments": {},
   "cell_type": "markdown",
   "metadata": {},
   "source": [
    "## Imports"
   ]
  },
  {
   "cell_type": "code",
   "execution_count": 1,
   "metadata": {},
   "outputs": [],
   "source": [
    "from math import sqrt\n",
    "import numpy as np\n",
    "import pandas as pd\n",
    "import matplotlib.pyplot as plt \n",
    "import seaborn as sns\n",
    "\n",
    "from datetime import datetime"
   ]
  },
  {
   "cell_type": "code",
   "execution_count": 2,
   "metadata": {},
   "outputs": [],
   "source": [
    "# import sklearn.metrics as metrics\n",
    "from sklearn.preprocessing import StandardScaler, MinMaxScaler, OneHotEncoder, PolynomialFeatures\n",
    "from sklearn.cluster import KMeans, DBSCAN, SpectralClustering, AffinityPropagation, AgglomerativeClustering\n",
    "from sklearn.compose import ColumnTransformer, make_column_transformer\n",
    "from sklearn.decomposition import PCA\n",
    "from sklearn.pipeline import make_pipeline, Pipeline\n",
    "from sklearn.model_selection import train_test_split, cross_val_score, cross_val_predict, cross_validate, KFold, GridSearchCV\n",
    "from sklearn.metrics import mean_squared_error, r2_score, make_scorer, silhouette_score\n",
    "from sklearn.linear_model import LinearRegression, Ridge, GammaRegressor\n",
    "from sklearn.neighbors import KNeighborsRegressor\n",
    "from sklearn.ensemble import RandomForestRegressor\n",
    "from sklearn.svm import SVR\n",
    "from sklearn.feature_selection import f_regression, SelectKBest, SelectPercentile, f_classif\n",
    "from sklearn import preprocessing\n",
    "from sklearn.datasets import make_regression\n",
    "from sklearn.tree import plot_tree"
   ]
  },
  {
   "attachments": {},
   "cell_type": "markdown",
   "metadata": {},
   "source": [
    "## Carga de datos TRAIN y análisis"
   ]
  },
  {
   "cell_type": "code",
   "execution_count": 3,
   "metadata": {},
   "outputs": [
    {
     "data": {
      "text/html": [
       "<div>\n",
       "<style scoped>\n",
       "    .dataframe tbody tr th:only-of-type {\n",
       "        vertical-align: middle;\n",
       "    }\n",
       "\n",
       "    .dataframe tbody tr th {\n",
       "        vertical-align: top;\n",
       "    }\n",
       "\n",
       "    .dataframe thead th {\n",
       "        text-align: right;\n",
       "    }\n",
       "</style>\n",
       "<table border=\"1\" class=\"dataframe\">\n",
       "  <thead>\n",
       "    <tr style=\"text-align: right;\">\n",
       "      <th></th>\n",
       "      <th>CAMPAÑA</th>\n",
       "      <th>ID_FINCA</th>\n",
       "      <th>ID_ZONA</th>\n",
       "      <th>ID_ESTACION</th>\n",
       "      <th>ALTITUD</th>\n",
       "      <th>VARIEDAD</th>\n",
       "      <th>MODO</th>\n",
       "      <th>TIPO</th>\n",
       "      <th>COLOR</th>\n",
       "      <th>SUPERFICIE</th>\n",
       "      <th>PRODUCCION</th>\n",
       "    </tr>\n",
       "  </thead>\n",
       "  <tbody>\n",
       "    <tr>\n",
       "      <th>0</th>\n",
       "      <td>14</td>\n",
       "      <td>76953</td>\n",
       "      <td>515</td>\n",
       "      <td>4</td>\n",
       "      <td>660</td>\n",
       "      <td>26</td>\n",
       "      <td>2</td>\n",
       "      <td>0</td>\n",
       "      <td>1</td>\n",
       "      <td>0.0</td>\n",
       "      <td>22215.0</td>\n",
       "    </tr>\n",
       "    <tr>\n",
       "      <th>1</th>\n",
       "      <td>14</td>\n",
       "      <td>84318</td>\n",
       "      <td>515</td>\n",
       "      <td>4</td>\n",
       "      <td>660</td>\n",
       "      <td>26</td>\n",
       "      <td>2</td>\n",
       "      <td>0</td>\n",
       "      <td>1</td>\n",
       "      <td>0.0</td>\n",
       "      <td>22215.0</td>\n",
       "    </tr>\n",
       "    <tr>\n",
       "      <th>2</th>\n",
       "      <td>14</td>\n",
       "      <td>85579</td>\n",
       "      <td>340</td>\n",
       "      <td>4</td>\n",
       "      <td>520</td>\n",
       "      <td>32</td>\n",
       "      <td>2</td>\n",
       "      <td>0</td>\n",
       "      <td>1</td>\n",
       "      <td>0.0</td>\n",
       "      <td>20978.0</td>\n",
       "    </tr>\n",
       "    <tr>\n",
       "      <th>3</th>\n",
       "      <td>14</td>\n",
       "      <td>69671</td>\n",
       "      <td>340</td>\n",
       "      <td>4</td>\n",
       "      <td>520</td>\n",
       "      <td>32</td>\n",
       "      <td>2</td>\n",
       "      <td>0</td>\n",
       "      <td>1</td>\n",
       "      <td>0.0</td>\n",
       "      <td>40722.0</td>\n",
       "    </tr>\n",
       "    <tr>\n",
       "      <th>4</th>\n",
       "      <td>14</td>\n",
       "      <td>14001</td>\n",
       "      <td>852</td>\n",
       "      <td>14</td>\n",
       "      <td>NaN</td>\n",
       "      <td>81</td>\n",
       "      <td>1</td>\n",
       "      <td>0</td>\n",
       "      <td>1</td>\n",
       "      <td>0.0</td>\n",
       "      <td>14126.0</td>\n",
       "    </tr>\n",
       "  </tbody>\n",
       "</table>\n",
       "</div>"
      ],
      "text/plain": [
       "   CAMPAÑA  ID_FINCA  ID_ZONA  ID_ESTACION ALTITUD  VARIEDAD  MODO  TIPO   \n",
       "0       14     76953      515            4     660        26     2     0  \\\n",
       "1       14     84318      515            4     660        26     2     0   \n",
       "2       14     85579      340            4     520        32     2     0   \n",
       "3       14     69671      340            4     520        32     2     0   \n",
       "4       14     14001      852           14     NaN        81     1     0   \n",
       "\n",
       "   COLOR  SUPERFICIE  PRODUCCION  \n",
       "0      1         0.0     22215.0  \n",
       "1      1         0.0     22215.0  \n",
       "2      1         0.0     20978.0  \n",
       "3      1         0.0     40722.0  \n",
       "4      1         0.0     14126.0  "
      ]
     },
     "execution_count": 3,
     "metadata": {},
     "output_type": "execute_result"
    }
   ],
   "source": [
    "file = 'UH_2023_TRAIN.txt'\n",
    "df_train = pd.read_csv(file, sep=\"|\")\n",
    "df_train.head(5)"
   ]
  },
  {
   "cell_type": "code",
   "execution_count": 4,
   "metadata": {},
   "outputs": [],
   "source": [
    "# CAMPAÑA: Año de la campaña.\n",
    "# ID_FINCA: Identificador de finca.\n",
    "# ID_ZONA: Identificador de una zona con una tipología de suelo común\n",
    "# ID_ESTACION: Identificador de estación meteorológica.\n",
    "# ALTITUD: Altitud media de la finca sobre el nivel del mar en metros.\n",
    "# VARIEDAD: Código de variedad de la uva que se cultiva en la finca.\n",
    "# MODO: Código del modo de cultivo.\n",
    "# TIPO: Tipo de cultivo dentro de la variedad.\n",
    "# COLOR: Identificador del color de la uva.\n",
    "# SUPERFICIE: Superficie en hectáreas que ocupa la finca.\n",
    "# PRODUCCION: Producción en kg. Obtenida en la campaña."
   ]
  },
  {
   "attachments": {},
   "cell_type": "markdown",
   "metadata": {},
   "source": [
    "### Tipos de datos y NaN"
   ]
  },
  {
   "cell_type": "code",
   "execution_count": 5,
   "metadata": {},
   "outputs": [
    {
     "data": {
      "text/html": [
       "<div>\n",
       "<style scoped>\n",
       "    .dataframe tbody tr th:only-of-type {\n",
       "        vertical-align: middle;\n",
       "    }\n",
       "\n",
       "    .dataframe tbody tr th {\n",
       "        vertical-align: top;\n",
       "    }\n",
       "\n",
       "    .dataframe thead th {\n",
       "        text-align: right;\n",
       "    }\n",
       "</style>\n",
       "<table border=\"1\" class=\"dataframe\">\n",
       "  <thead>\n",
       "    <tr style=\"text-align: right;\">\n",
       "      <th></th>\n",
       "      <th>CAMPAÑA</th>\n",
       "      <th>ID_FINCA</th>\n",
       "      <th>ID_ZONA</th>\n",
       "      <th>ID_ESTACION</th>\n",
       "      <th>VARIEDAD</th>\n",
       "      <th>MODO</th>\n",
       "      <th>TIPO</th>\n",
       "      <th>COLOR</th>\n",
       "      <th>SUPERFICIE</th>\n",
       "      <th>PRODUCCION</th>\n",
       "    </tr>\n",
       "  </thead>\n",
       "  <tbody>\n",
       "    <tr>\n",
       "      <th>count</th>\n",
       "      <td>9601.000000</td>\n",
       "      <td>9601.000000</td>\n",
       "      <td>9601.000000</td>\n",
       "      <td>9601.000000</td>\n",
       "      <td>9601.000000</td>\n",
       "      <td>9601.000000</td>\n",
       "      <td>9601.000000</td>\n",
       "      <td>9601.00000</td>\n",
       "      <td>9601.000000</td>\n",
       "      <td>8526.000000</td>\n",
       "    </tr>\n",
       "    <tr>\n",
       "      <th>mean</th>\n",
       "      <td>17.935840</td>\n",
       "      <td>50818.244766</td>\n",
       "      <td>498.496407</td>\n",
       "      <td>12.161337</td>\n",
       "      <td>45.487658</td>\n",
       "      <td>1.509426</td>\n",
       "      <td>0.012290</td>\n",
       "      <td>0.84335</td>\n",
       "      <td>0.697517</td>\n",
       "      <td>9209.190958</td>\n",
       "    </tr>\n",
       "    <tr>\n",
       "      <th>std</th>\n",
       "      <td>2.609687</td>\n",
       "      <td>29016.567919</td>\n",
       "      <td>261.430506</td>\n",
       "      <td>4.763217</td>\n",
       "      <td>23.814567</td>\n",
       "      <td>0.499937</td>\n",
       "      <td>0.110184</td>\n",
       "      <td>0.36349</td>\n",
       "      <td>1.786268</td>\n",
       "      <td>13268.812623</td>\n",
       "    </tr>\n",
       "    <tr>\n",
       "      <th>min</th>\n",
       "      <td>14.000000</td>\n",
       "      <td>200.000000</td>\n",
       "      <td>7.000000</td>\n",
       "      <td>0.000000</td>\n",
       "      <td>4.000000</td>\n",
       "      <td>1.000000</td>\n",
       "      <td>0.000000</td>\n",
       "      <td>0.00000</td>\n",
       "      <td>0.000000</td>\n",
       "      <td>0.718000</td>\n",
       "    </tr>\n",
       "    <tr>\n",
       "      <th>25%</th>\n",
       "      <td>16.000000</td>\n",
       "      <td>25104.000000</td>\n",
       "      <td>284.000000</td>\n",
       "      <td>7.000000</td>\n",
       "      <td>17.000000</td>\n",
       "      <td>1.000000</td>\n",
       "      <td>0.000000</td>\n",
       "      <td>1.00000</td>\n",
       "      <td>0.000000</td>\n",
       "      <td>1940.000000</td>\n",
       "    </tr>\n",
       "    <tr>\n",
       "      <th>50%</th>\n",
       "      <td>18.000000</td>\n",
       "      <td>50946.000000</td>\n",
       "      <td>464.000000</td>\n",
       "      <td>12.000000</td>\n",
       "      <td>52.000000</td>\n",
       "      <td>2.000000</td>\n",
       "      <td>0.000000</td>\n",
       "      <td>1.00000</td>\n",
       "      <td>0.000000</td>\n",
       "      <td>4620.000000</td>\n",
       "    </tr>\n",
       "    <tr>\n",
       "      <th>75%</th>\n",
       "      <td>20.000000</td>\n",
       "      <td>76361.000000</td>\n",
       "      <td>726.000000</td>\n",
       "      <td>16.000000</td>\n",
       "      <td>59.000000</td>\n",
       "      <td>2.000000</td>\n",
       "      <td>0.000000</td>\n",
       "      <td>1.00000</td>\n",
       "      <td>0.561900</td>\n",
       "      <td>11137.500000</td>\n",
       "    </tr>\n",
       "    <tr>\n",
       "      <th>max</th>\n",
       "      <td>22.000000</td>\n",
       "      <td>99793.000000</td>\n",
       "      <td>990.000000</td>\n",
       "      <td>19.000000</td>\n",
       "      <td>94.000000</td>\n",
       "      <td>2.000000</td>\n",
       "      <td>1.000000</td>\n",
       "      <td>1.00000</td>\n",
       "      <td>26.850000</td>\n",
       "      <td>177520.000000</td>\n",
       "    </tr>\n",
       "  </tbody>\n",
       "</table>\n",
       "</div>"
      ],
      "text/plain": [
       "           CAMPAÑA      ID_FINCA      ID_ZONA  ID_ESTACION     VARIEDAD   \n",
       "count  9601.000000   9601.000000  9601.000000  9601.000000  9601.000000  \\\n",
       "mean     17.935840  50818.244766   498.496407    12.161337    45.487658   \n",
       "std       2.609687  29016.567919   261.430506     4.763217    23.814567   \n",
       "min      14.000000    200.000000     7.000000     0.000000     4.000000   \n",
       "25%      16.000000  25104.000000   284.000000     7.000000    17.000000   \n",
       "50%      18.000000  50946.000000   464.000000    12.000000    52.000000   \n",
       "75%      20.000000  76361.000000   726.000000    16.000000    59.000000   \n",
       "max      22.000000  99793.000000   990.000000    19.000000    94.000000   \n",
       "\n",
       "              MODO         TIPO       COLOR   SUPERFICIE     PRODUCCION  \n",
       "count  9601.000000  9601.000000  9601.00000  9601.000000    8526.000000  \n",
       "mean      1.509426     0.012290     0.84335     0.697517    9209.190958  \n",
       "std       0.499937     0.110184     0.36349     1.786268   13268.812623  \n",
       "min       1.000000     0.000000     0.00000     0.000000       0.718000  \n",
       "25%       1.000000     0.000000     1.00000     0.000000    1940.000000  \n",
       "50%       2.000000     0.000000     1.00000     0.000000    4620.000000  \n",
       "75%       2.000000     0.000000     1.00000     0.561900   11137.500000  \n",
       "max       2.000000     1.000000     1.00000    26.850000  177520.000000  "
      ]
     },
     "execution_count": 5,
     "metadata": {},
     "output_type": "execute_result"
    }
   ],
   "source": [
    "df_train.describe()"
   ]
  },
  {
   "cell_type": "code",
   "execution_count": 7,
   "metadata": {},
   "outputs": [
    {
     "name": "stdout",
     "output_type": "stream",
     "text": [
      "CAMPAÑA        False\n",
      "ID_FINCA       False\n",
      "ID_ZONA        False\n",
      "ID_ESTACION    False\n",
      "ALTITUD         True\n",
      "VARIEDAD       False\n",
      "MODO           False\n",
      "TIPO           False\n",
      "COLOR          False\n",
      "SUPERFICIE     False\n",
      "PRODUCCION      True\n",
      "dtype: bool\n"
     ]
    }
   ],
   "source": [
    "# Verificar si hay valores NaN en alguna columna del DataFrame\n",
    "print(df_train.isna().any())"
   ]
  },
  {
   "cell_type": "code",
   "execution_count": 8,
   "metadata": {},
   "outputs": [
    {
     "name": "stdout",
     "output_type": "stream",
     "text": [
      "<class 'pandas.core.frame.DataFrame'>\n",
      "RangeIndex: 9601 entries, 0 to 9600\n",
      "Data columns (total 11 columns):\n",
      " #   Column       Non-Null Count  Dtype  \n",
      "---  ------       --------------  -----  \n",
      " 0   CAMPAÑA      9601 non-null   int64  \n",
      " 1   ID_FINCA     9601 non-null   int64  \n",
      " 2   ID_ZONA      9601 non-null   int64  \n",
      " 3   ID_ESTACION  9601 non-null   int64  \n",
      " 4   ALTITUD      9547 non-null   object \n",
      " 5   VARIEDAD     9601 non-null   int64  \n",
      " 6   MODO         9601 non-null   int64  \n",
      " 7   TIPO         9601 non-null   int64  \n",
      " 8   COLOR        9601 non-null   int64  \n",
      " 9   SUPERFICIE   9601 non-null   float64\n",
      " 10  PRODUCCION   8526 non-null   float64\n",
      "dtypes: float64(2), int64(8), object(1)\n",
      "memory usage: 825.2+ KB\n"
     ]
    }
   ],
   "source": [
    "df_train.info()"
   ]
  },
  {
   "attachments": {},
   "cell_type": "markdown",
   "metadata": {},
   "source": [
    "Resumen:\n",
    "* Altitud tiene tipos de datos \"object\" y valores Nan\n",
    "* Produccion tienen valores Nan (miraremos si son solo los del 2022)\n",
    "* Superficie tienen valor mínimo 0. \n"
   ]
  },
  {
   "attachments": {},
   "cell_type": "markdown",
   "metadata": {},
   "source": [
    "### ID_FINCA"
   ]
  },
  {
   "cell_type": "code",
   "execution_count": 9,
   "metadata": {},
   "outputs": [
    {
     "data": {
      "text/plain": [
       "1231"
      ]
     },
     "execution_count": 9,
     "metadata": {},
     "output_type": "execute_result"
    }
   ],
   "source": [
    "# Comprobar de cuántas fincas hay información\n",
    "df_train.ID_FINCA.nunique()"
   ]
  },
  {
   "cell_type": "code",
   "execution_count": 10,
   "metadata": {},
   "outputs": [
    {
     "data": {
      "text/plain": [
       "(1075, 11)"
      ]
     },
     "execution_count": 10,
     "metadata": {},
     "output_type": "execute_result"
    }
   ],
   "source": [
    "# Verificar que hay 1.075 entradas en 2022\n",
    "df_train[df_train['CAMPAÑA'] == 22].shape"
   ]
  },
  {
   "cell_type": "code",
   "execution_count": 11,
   "metadata": {},
   "outputs": [
    {
     "data": {
      "text/plain": [
       "825"
      ]
     },
     "execution_count": 11,
     "metadata": {},
     "output_type": "execute_result"
    }
   ],
   "source": [
    "# Contar cuantas fincas (únicas) hay en 2022\n",
    "df_train[df_train['CAMPAÑA'] == 22].ID_FINCA.nunique()"
   ]
  },
  {
   "cell_type": "code",
   "execution_count": 12,
   "metadata": {},
   "outputs": [
    {
     "data": {
      "text/html": [
       "<div>\n",
       "<style scoped>\n",
       "    .dataframe tbody tr th:only-of-type {\n",
       "        vertical-align: middle;\n",
       "    }\n",
       "\n",
       "    .dataframe tbody tr th {\n",
       "        vertical-align: top;\n",
       "    }\n",
       "\n",
       "    .dataframe thead th {\n",
       "        text-align: right;\n",
       "    }\n",
       "</style>\n",
       "<table border=\"1\" class=\"dataframe\">\n",
       "  <thead>\n",
       "    <tr style=\"text-align: right;\">\n",
       "      <th></th>\n",
       "      <th>CAMPAÑA</th>\n",
       "      <th>ID_FINCA</th>\n",
       "      <th>ID_ZONA</th>\n",
       "      <th>ID_ESTACION</th>\n",
       "      <th>ALTITUD</th>\n",
       "      <th>VARIEDAD</th>\n",
       "      <th>MODO</th>\n",
       "      <th>TIPO</th>\n",
       "      <th>COLOR</th>\n",
       "      <th>SUPERFICIE</th>\n",
       "      <th>PRODUCCION</th>\n",
       "    </tr>\n",
       "  </thead>\n",
       "  <tbody>\n",
       "    <tr>\n",
       "      <th>8529</th>\n",
       "      <td>22</td>\n",
       "      <td>98814</td>\n",
       "      <td>919</td>\n",
       "      <td>14</td>\n",
       "      <td>650-660</td>\n",
       "      <td>32</td>\n",
       "      <td>2</td>\n",
       "      <td>0</td>\n",
       "      <td>1</td>\n",
       "      <td>3.3267</td>\n",
       "      <td>NaN</td>\n",
       "    </tr>\n",
       "    <tr>\n",
       "      <th>8530</th>\n",
       "      <td>22</td>\n",
       "      <td>98814</td>\n",
       "      <td>919</td>\n",
       "      <td>14</td>\n",
       "      <td>650-660</td>\n",
       "      <td>40</td>\n",
       "      <td>2</td>\n",
       "      <td>0</td>\n",
       "      <td>1</td>\n",
       "      <td>2.7724</td>\n",
       "      <td>NaN</td>\n",
       "    </tr>\n",
       "    <tr>\n",
       "      <th>8531</th>\n",
       "      <td>22</td>\n",
       "      <td>4024</td>\n",
       "      <td>919</td>\n",
       "      <td>14</td>\n",
       "      <td>650-660</td>\n",
       "      <td>15</td>\n",
       "      <td>2</td>\n",
       "      <td>0</td>\n",
       "      <td>1</td>\n",
       "      <td>0.6622</td>\n",
       "      <td>NaN</td>\n",
       "    </tr>\n",
       "    <tr>\n",
       "      <th>8532</th>\n",
       "      <td>22</td>\n",
       "      <td>4024</td>\n",
       "      <td>919</td>\n",
       "      <td>14</td>\n",
       "      <td>650-660</td>\n",
       "      <td>32</td>\n",
       "      <td>2</td>\n",
       "      <td>0</td>\n",
       "      <td>1</td>\n",
       "      <td>21.1100</td>\n",
       "      <td>NaN</td>\n",
       "    </tr>\n",
       "    <tr>\n",
       "      <th>8533</th>\n",
       "      <td>22</td>\n",
       "      <td>4024</td>\n",
       "      <td>919</td>\n",
       "      <td>14</td>\n",
       "      <td>650-660</td>\n",
       "      <td>87</td>\n",
       "      <td>2</td>\n",
       "      <td>0</td>\n",
       "      <td>0</td>\n",
       "      <td>11.9238</td>\n",
       "      <td>NaN</td>\n",
       "    </tr>\n",
       "    <tr>\n",
       "      <th>8534</th>\n",
       "      <td>22</td>\n",
       "      <td>4024</td>\n",
       "      <td>919</td>\n",
       "      <td>14</td>\n",
       "      <td>650-660</td>\n",
       "      <td>40</td>\n",
       "      <td>2</td>\n",
       "      <td>0</td>\n",
       "      <td>1</td>\n",
       "      <td>18.1746</td>\n",
       "      <td>NaN</td>\n",
       "    </tr>\n",
       "    <tr>\n",
       "      <th>8535</th>\n",
       "      <td>22</td>\n",
       "      <td>4024</td>\n",
       "      <td>919</td>\n",
       "      <td>14</td>\n",
       "      <td>650-660</td>\n",
       "      <td>52</td>\n",
       "      <td>2</td>\n",
       "      <td>0</td>\n",
       "      <td>1</td>\n",
       "      <td>8.0726</td>\n",
       "      <td>NaN</td>\n",
       "    </tr>\n",
       "    <tr>\n",
       "      <th>8536</th>\n",
       "      <td>22</td>\n",
       "      <td>4024</td>\n",
       "      <td>919</td>\n",
       "      <td>14</td>\n",
       "      <td>650-660</td>\n",
       "      <td>59</td>\n",
       "      <td>2</td>\n",
       "      <td>0</td>\n",
       "      <td>1</td>\n",
       "      <td>0.0000</td>\n",
       "      <td>NaN</td>\n",
       "    </tr>\n",
       "    <tr>\n",
       "      <th>8537</th>\n",
       "      <td>22</td>\n",
       "      <td>4024</td>\n",
       "      <td>919</td>\n",
       "      <td>14</td>\n",
       "      <td>650-660</td>\n",
       "      <td>81</td>\n",
       "      <td>2</td>\n",
       "      <td>0</td>\n",
       "      <td>1</td>\n",
       "      <td>13.8600</td>\n",
       "      <td>NaN</td>\n",
       "    </tr>\n",
       "  </tbody>\n",
       "</table>\n",
       "</div>"
      ],
      "text/plain": [
       "      CAMPAÑA  ID_FINCA  ID_ZONA  ID_ESTACION  ALTITUD  VARIEDAD  MODO  TIPO   \n",
       "8529       22     98814      919           14  650-660        32     2     0  \\\n",
       "8530       22     98814      919           14  650-660        40     2     0   \n",
       "8531       22      4024      919           14  650-660        15     2     0   \n",
       "8532       22      4024      919           14  650-660        32     2     0   \n",
       "8533       22      4024      919           14  650-660        87     2     0   \n",
       "8534       22      4024      919           14  650-660        40     2     0   \n",
       "8535       22      4024      919           14  650-660        52     2     0   \n",
       "8536       22      4024      919           14  650-660        59     2     0   \n",
       "8537       22      4024      919           14  650-660        81     2     0   \n",
       "\n",
       "      COLOR  SUPERFICIE  PRODUCCION  \n",
       "8529      1      3.3267         NaN  \n",
       "8530      1      2.7724         NaN  \n",
       "8531      1      0.6622         NaN  \n",
       "8532      1     21.1100         NaN  \n",
       "8533      0     11.9238         NaN  \n",
       "8534      1     18.1746         NaN  \n",
       "8535      1      8.0726         NaN  \n",
       "8536      1      0.0000         NaN  \n",
       "8537      1     13.8600         NaN  "
      ]
     },
     "execution_count": 12,
     "metadata": {},
     "output_type": "execute_result"
    }
   ],
   "source": [
    "# Mirar las fincas de 2022 y ver por qué hay fincas repetidas: porque son diferentes tipos de uva (VARIEDAD)\n",
    "df_fincas_22 = df_train.query(\"CAMPAÑA == 22\")\n",
    "df_fincas_22_dup = df_fincas_22[df_fincas_22.duplicated(['ID_FINCA'], keep=False)]\n",
    "# print(len(set(df_fincas_22_dup['ID_FINCA']))) # 155\n",
    "# print(len(df_fincas_22_dup['ID_FINCA']))  # 405\n",
    "# 825 - 155 + 405 = 1075\n",
    "df_fincas_22_dup.head(9)\n"
   ]
  },
  {
   "cell_type": "code",
   "execution_count": 13,
   "metadata": {},
   "outputs": [
    {
     "name": "stdout",
     "output_type": "stream",
     "text": [
      "Entradas en el año  14 :  1148 y Fincas en el año  14 :  912\n",
      "Entradas en el año  15 :  1116 y Fincas en el año  15 :  880\n",
      "Entradas en el año  16 :  1079 y Fincas en el año  16 :  854\n",
      "Entradas en el año  17 :  1017 y Fincas en el año  17 :  805\n",
      "Entradas en el año  18 :  1061 y Fincas en el año  18 :  814\n",
      "Entradas en el año  19 :  1055 y Fincas en el año  19 :  809\n",
      "Entradas en el año  20 :  1006 y Fincas en el año  20 :  780\n",
      "Entradas en el año  21 :  1044 y Fincas en el año  21 :  803\n",
      "Entradas en el año  22 :  1075 y Fincas en el año  22 :  825\n"
     ]
    }
   ],
   "source": [
    "# ID_FINCA: Calcular número de fincas por año\n",
    "años = list(range(14,23))\n",
    "for año in años:\n",
    "    df_fincas_anteriores = df_train.loc[df_train['CAMPAÑA'] == año, 'ID_FINCA']\n",
    "    print(\"Entradas en el año \", año, \": \", df_fincas_anteriores.shape[0], end=\" y \")\n",
    "    print(\"Fincas en el año \", año, \": \", len(set(df_fincas_anteriores)))\n",
    "    # df_train.loc[df_train['CAMPAÑA'] == año,['ID_FINCA']].nunique()\n"
   ]
  },
  {
   "cell_type": "code",
   "execution_count": 14,
   "metadata": {},
   "outputs": [
    {
     "name": "stdout",
     "output_type": "stream",
     "text": [
      "755\n",
      "721\n",
      "701\n",
      "656\n",
      "655\n",
      "633\n",
      "628\n",
      "646\n",
      "670\n"
     ]
    }
   ],
   "source": [
    "# ID_FINCA: Calcular cuantas fincas aparecen solo una vez cada año\n",
    "años = list(range(14,23))\n",
    "for año in años:\n",
    "    s = df_train.loc[df_train['CAMPAÑA'] == año]['ID_FINCA']\n",
    "    s_unique = s[s.duplicated(keep=False) == False].unique()\n",
    "    print(len(s_unique))\n"
   ]
  },
  {
   "attachments": {},
   "cell_type": "markdown",
   "metadata": {},
   "source": [
    "Resumen:\n",
    "* Hay 1231 fincas\n",
    "* Las fincas no son valores unívocos, ya que a veces aparecen varias veces. Por ejemplo si en la misma finca se cultivan diferentes tipos de uvas\n",
    "* Cada año hay unas 670 - 750 fincas que aparecen una única vez"
   ]
  },
  {
   "attachments": {},
   "cell_type": "markdown",
   "metadata": {},
   "source": [
    "### ALTITUD"
   ]
  },
  {
   "attachments": {},
   "cell_type": "markdown",
   "metadata": {},
   "source": [
    "Hay 54 NaN y 9547 object (texto)"
   ]
  },
  {
   "cell_type": "code",
   "execution_count": 15,
   "metadata": {},
   "outputs": [],
   "source": [
    "# Convertir los valores texto a float y dejar los NaaN como NaaN\n",
    "def altitud_a_num(altitud):\n",
    "    if not pd.isna(altitud):\n",
    "        if '-' not in altitud:\n",
    "            altitud = float(altitud)\n",
    "        else:\n",
    "            a,b = altitud.split('-')\n",
    "            altitud = (float(b)+float(a))/2\n",
    "    return altitud\n",
    "\n",
    "df_train['ALTITUD'] = df_train['ALTITUD'].apply(altitud_a_num)"
   ]
  },
  {
   "cell_type": "code",
   "execution_count": 16,
   "metadata": {},
   "outputs": [
    {
     "name": "stdout",
     "output_type": "stream",
     "text": [
      "1\n",
      "1\n"
     ]
    }
   ],
   "source": [
    "# Comprobar que cada finca tiene un único valor de altitud (sea numérico o nan)\n",
    "print(df_train.groupby('ID_FINCA')['ALTITUD'].nunique(dropna=False).min())\n",
    "print(df_train.groupby('ID_FINCA')['ALTITUD'].nunique(dropna=False).max())"
   ]
  },
  {
   "cell_type": "code",
   "execution_count": 17,
   "metadata": {},
   "outputs": [
    {
     "data": {
      "text/plain": [
       "<Axes: >"
      ]
     },
     "execution_count": 17,
     "metadata": {},
     "output_type": "execute_result"
    },
    {
     "data": {
      "image/png": "[encoded data removed]",
      "text/plain": [
       "<Figure size 640x480 with 1 Axes>"
      ]
     },
     "metadata": {},
     "output_type": "display_data"
    }
   ],
   "source": [
    "# Representar distribución de alturas\n",
    "df_train['ALTITUD'].hist(bins=100)"
   ]
  },
  {
   "cell_type": "code",
   "execution_count": 18,
   "metadata": {},
   "outputs": [],
   "source": [
    "# Tomar una decisión: qué hacer con los Nan? Reemplazar los NaN por la mediana de alturas de la estacion meteorologica\n",
    "df_altitud_mediana = df_train.groupby('ID_ESTACION')['ALTITUD'].median()\n",
    "\n",
    "# Definir una función para mapear los valores de reemplazo\n",
    "def valor_reemplazo(row):\n",
    "    if pd.isna(row['ALTITUD']):\n",
    "        return df_altitud_mediana[row['ID_ESTACION']]\n",
    "    else:\n",
    "        return row['ALTITUD']\n",
    "\n",
    "# Aplicar la función para reemplazar los NaN en \"altura\"\n",
    "df_train['ALTITUD'] = df_train.apply(valor_reemplazo, axis=1)"
   ]
  },
  {
   "cell_type": "code",
   "execution_count": 19,
   "metadata": {},
   "outputs": [],
   "source": [
    "# Guardar el archivo modificado\n",
    "df_train.to_csv('UH_2023_TRAIN_alt.txt', index=False, sep='|')"
   ]
  },
  {
   "attachments": {},
   "cell_type": "markdown",
   "metadata": {},
   "source": [
    "Resumen:\n",
    "* La mayoria de altitudes estaban definidas en un rango. Por ejemplo 650-660. Se ha sustituido por un float que es la media. En este ejemplo 655. \n",
    "* Cada finca (id_finca) tiene un único valor de altitud (sea numérico o Nan)\n",
    "* Hay 15 fincas que no conocemos la altura. Además, aparecen 5 veces en el año 2022 (predicción)\n",
    "* La altitud va desde 370 a 820 m, pero se tiene un pico de fincas en torno a 460 m y otro en torno a 630 m\n",
    "* Se sustituyen las alturas no conocidas por la mediana de alturas de la estacion meteorológica\n",
    "* Se ha grabado el archivo como UH_2023_TRAIN_alt.txt"
   ]
  },
  {
   "attachments": {},
   "cell_type": "markdown",
   "metadata": {},
   "source": [
    "#### PRODUCCION"
   ]
  },
  {
   "cell_type": "code",
   "execution_count": 20,
   "metadata": {},
   "outputs": [
    {
     "name": "stdout",
     "output_type": "stream",
     "text": [
      "1075\n",
      "[22]\n"
     ]
    }
   ],
   "source": [
    "# NaN: Analizar los valores NaN en PRODUCCION\n",
    "# PRODUCCION   8526 non-null   float64\n",
    "# Deben ser los de 2022\n",
    "print(df_train.loc[df_train['PRODUCCION'].isna()]['CAMPAÑA'].count())\n",
    "print(df_train.loc[df_train['PRODUCCION'].isna()]['CAMPAÑA'].unique())"
   ]
  },
  {
   "cell_type": "code",
   "execution_count": 21,
   "metadata": {},
   "outputs": [
    {
     "data": {
      "text/html": [
       "<div>\n",
       "<style scoped>\n",
       "    .dataframe tbody tr th:only-of-type {\n",
       "        vertical-align: middle;\n",
       "    }\n",
       "\n",
       "    .dataframe tbody tr th {\n",
       "        vertical-align: top;\n",
       "    }\n",
       "\n",
       "    .dataframe thead th {\n",
       "        text-align: right;\n",
       "    }\n",
       "</style>\n",
       "<table border=\"1\" class=\"dataframe\">\n",
       "  <thead>\n",
       "    <tr style=\"text-align: right;\">\n",
       "      <th></th>\n",
       "      <th>PRODUCCION</th>\n",
       "    </tr>\n",
       "  </thead>\n",
       "  <tbody>\n",
       "    <tr>\n",
       "      <th>count</th>\n",
       "      <td>2050.000000</td>\n",
       "    </tr>\n",
       "    <tr>\n",
       "      <th>mean</th>\n",
       "      <td>9782.112158</td>\n",
       "    </tr>\n",
       "    <tr>\n",
       "      <th>std</th>\n",
       "      <td>13539.832429</td>\n",
       "    </tr>\n",
       "    <tr>\n",
       "      <th>min</th>\n",
       "      <td>0.718000</td>\n",
       "    </tr>\n",
       "    <tr>\n",
       "      <th>25%</th>\n",
       "      <td>2046.859750</td>\n",
       "    </tr>\n",
       "    <tr>\n",
       "      <th>50%</th>\n",
       "      <td>4812.209000</td>\n",
       "    </tr>\n",
       "    <tr>\n",
       "      <th>75%</th>\n",
       "      <td>11785.292250</td>\n",
       "    </tr>\n",
       "    <tr>\n",
       "      <th>max</th>\n",
       "      <td>130950.000000</td>\n",
       "    </tr>\n",
       "  </tbody>\n",
       "</table>\n",
       "</div>"
      ],
      "text/plain": [
       "          PRODUCCION\n",
       "count    2050.000000\n",
       "mean     9782.112158\n",
       "std     13539.832429\n",
       "min         0.718000\n",
       "25%      2046.859750\n",
       "50%      4812.209000\n",
       "75%     11785.292250\n",
       "max    130950.000000"
      ]
     },
     "execution_count": 21,
     "metadata": {},
     "output_type": "execute_result"
    }
   ],
   "source": [
    "# Averiguar distribución de valores de producción\n",
    "df_train.loc[df_train['CAMPAÑA'].isin([20,21]),['PRODUCCION']].describe()"
   ]
  },
  {
   "cell_type": "code",
   "execution_count": 22,
   "metadata": {},
   "outputs": [
    {
     "data": {
      "text/plain": [
       "<Axes: >"
      ]
     },
     "execution_count": 22,
     "metadata": {},
     "output_type": "execute_result"
    },
    {
     "data": {
      "image/png": "[encoded data removed]",
      "text/plain": [
       "<Figure size 640x480 with 1 Axes>"
      ]
     },
     "metadata": {},
     "output_type": "display_data"
    }
   ],
   "source": [
    "df_train.loc[df_train['CAMPAÑA'].isin([20,21])]['PRODUCCION'].hist(bins=100)"
   ]
  },
  {
   "cell_type": "code",
   "execution_count": 23,
   "metadata": {},
   "outputs": [
    {
     "name": "stdout",
     "output_type": "stream",
     "text": [
      "Produccion en la campaña 14 :  9.2 millones de kilos de uva\n",
      "Produccion en la campaña 15 :  10.96 millones de kilos de uva\n",
      "Produccion en la campaña 16 :  10.38 millones de kilos de uva\n",
      "Produccion en la campaña 17 :  7.79 millones de kilos de uva\n",
      "Produccion en la campaña 18 :  10.79 millones de kilos de uva\n",
      "Produccion en la campaña 19 :  9.35 millones de kilos de uva\n",
      "Produccion en la campaña 20 :  9.65 millones de kilos de uva\n",
      "Produccion en la campaña 21 :  10.4 millones de kilos de uva\n"
     ]
    }
   ],
   "source": [
    "# Segun la web: 2.400 Ha. que producen anualmente 11,3 millones de kilos de uva. \n",
    "# Miramos datos anuales para comprobar que tiene sentido\n",
    "for año_i in range(14,22):\n",
    "    print(\"Produccion en la campaña\", año_i, \": \", round(df_train.loc[df_train['CAMPAÑA'] == año_i]['PRODUCCION'].sum()/1e6, 2), \"millones de kilos de uva\")"
   ]
  },
  {
   "attachments": {},
   "cell_type": "markdown",
   "metadata": {},
   "source": [
    "Resumen:\n",
    "* En la columna produccion hay 1075 NaN que corresponden con los valores de 2022 que hay que predecir\n",
    "* La produccion anual aparentemente ha ido aumentando en los últimos años con 9.6M en 2020, 10.4M en 2021 y 11.3M en 2022 (datos de la web)\n",
    "* La suma de las producciones anuales \"tiene sentido\"\n"
   ]
  },
  {
   "attachments": {},
   "cell_type": "markdown",
   "metadata": {},
   "source": [
    "### SUPERFICIE"
   ]
  },
  {
   "cell_type": "code",
   "execution_count": 24,
   "metadata": {},
   "outputs": [
    {
     "name": "stdout",
     "output_type": "stream",
     "text": [
      "Años previos a 2020, datos de superficie: \n",
      " count    6476.0\n",
      "mean        0.0\n",
      "std         0.0\n",
      "min         0.0\n",
      "25%         0.0\n",
      "50%         0.0\n",
      "75%         0.0\n",
      "max         0.0\n",
      "Name: SUPERFICIE, dtype: float64\n"
     ]
    }
   ],
   "source": [
    "# SUPERFICIE: Comprobar que antes del 2020 está a cero. \n",
    "años_a = list(range(14,20))\n",
    "print(\"Años previos a 2020, datos de superficie: \\n\", df_train.loc[df_train['CAMPAÑA'].isin(años_a),'SUPERFICIE'].describe())"
   ]
  },
  {
   "cell_type": "code",
   "execution_count": 25,
   "metadata": {},
   "outputs": [
    {
     "name": "stdout",
     "output_type": "stream",
     "text": [
      "Años 2020 y siguientes, datos de superficie: \n",
      " count    3125.000000\n",
      "mean        2.142997\n",
      "std         2.589688\n",
      "min         0.000000\n",
      "25%         0.600000\n",
      "50%         1.320000\n",
      "75%         2.680000\n",
      "max        26.850000\n",
      "Name: SUPERFICIE, dtype: float64\n",
      "Años 2020 y siguientes, numero de nan: \n",
      " 0\n"
     ]
    }
   ],
   "source": [
    "# SUPERFICIE: Comprobar si en 2020-2021-2022 sí hay datos de superficie para todas las parcelas\n",
    "años_d = [20, 21, 22]\n",
    "print(\"Años 2020 y siguientes, datos de superficie: \\n\", df_train.loc[df_train['CAMPAÑA'].isin(años_d),'SUPERFICIE'].describe())\n",
    "print(\"Años 2020 y siguientes, numero de nan: \\n\", df_train.loc[df_train['CAMPAÑA'].isin(años_d),'SUPERFICIE'].isna().sum())"
   ]
  },
  {
   "cell_type": "code",
   "execution_count": 26,
   "metadata": {},
   "outputs": [
    {
     "name": "stdout",
     "output_type": "stream",
     "text": [
      "Número de filas con superficie a cero en 2020-2022:  42\n"
     ]
    }
   ],
   "source": [
    "# Numero de entradas con superficie 0 en 2020-2022\n",
    "print(\"Número de filas con superficie a cero en 2020-2022: \", df_train.query('CAMPAÑA in @años_d and SUPERFICIE == 0').shape[0])"
   ]
  },
  {
   "cell_type": "code",
   "execution_count": 28,
   "metadata": {},
   "outputs": [
    {
     "data": {
      "text/html": [
       "<div>\n",
       "<style scoped>\n",
       "    .dataframe tbody tr th:only-of-type {\n",
       "        vertical-align: middle;\n",
       "    }\n",
       "\n",
       "    .dataframe tbody tr th {\n",
       "        vertical-align: top;\n",
       "    }\n",
       "\n",
       "    .dataframe thead th {\n",
       "        text-align: right;\n",
       "    }\n",
       "</style>\n",
       "<table border=\"1\" class=\"dataframe\">\n",
       "  <thead>\n",
       "    <tr style=\"text-align: right;\">\n",
       "      <th></th>\n",
       "      <th>CAMPAÑA</th>\n",
       "      <th>ID_FINCA</th>\n",
       "      <th>ID_ZONA</th>\n",
       "      <th>ID_ESTACION</th>\n",
       "      <th>ALTITUD</th>\n",
       "      <th>VARIEDAD</th>\n",
       "      <th>MODO</th>\n",
       "      <th>TIPO</th>\n",
       "      <th>COLOR</th>\n",
       "      <th>SUPERFICIE</th>\n",
       "      <th>PRODUCCION</th>\n",
       "    </tr>\n",
       "  </thead>\n",
       "  <tbody>\n",
       "    <tr>\n",
       "      <th>6653</th>\n",
       "      <td>20</td>\n",
       "      <td>797</td>\n",
       "      <td>845</td>\n",
       "      <td>16</td>\n",
       "      <td>647.5</td>\n",
       "      <td>68</td>\n",
       "      <td>1</td>\n",
       "      <td>0</td>\n",
       "      <td>0</td>\n",
       "      <td>2.3854</td>\n",
       "      <td>3130.0</td>\n",
       "    </tr>\n",
       "    <tr>\n",
       "      <th>6654</th>\n",
       "      <td>20</td>\n",
       "      <td>797</td>\n",
       "      <td>845</td>\n",
       "      <td>16</td>\n",
       "      <td>647.5</td>\n",
       "      <td>59</td>\n",
       "      <td>1</td>\n",
       "      <td>0</td>\n",
       "      <td>1</td>\n",
       "      <td>3.3577</td>\n",
       "      <td>6950.0</td>\n",
       "    </tr>\n",
       "    <tr>\n",
       "      <th>7672</th>\n",
       "      <td>21</td>\n",
       "      <td>797</td>\n",
       "      <td>845</td>\n",
       "      <td>16</td>\n",
       "      <td>647.5</td>\n",
       "      <td>68</td>\n",
       "      <td>1</td>\n",
       "      <td>0</td>\n",
       "      <td>0</td>\n",
       "      <td>2.3854</td>\n",
       "      <td>10180.0</td>\n",
       "    </tr>\n",
       "    <tr>\n",
       "      <th>7673</th>\n",
       "      <td>21</td>\n",
       "      <td>797</td>\n",
       "      <td>845</td>\n",
       "      <td>16</td>\n",
       "      <td>647.5</td>\n",
       "      <td>59</td>\n",
       "      <td>1</td>\n",
       "      <td>0</td>\n",
       "      <td>1</td>\n",
       "      <td>7.5143</td>\n",
       "      <td>11710.0</td>\n",
       "    </tr>\n",
       "    <tr>\n",
       "      <th>8745</th>\n",
       "      <td>22</td>\n",
       "      <td>797</td>\n",
       "      <td>845</td>\n",
       "      <td>16</td>\n",
       "      <td>647.5</td>\n",
       "      <td>68</td>\n",
       "      <td>1</td>\n",
       "      <td>0</td>\n",
       "      <td>0</td>\n",
       "      <td>2.3854</td>\n",
       "      <td>NaN</td>\n",
       "    </tr>\n",
       "    <tr>\n",
       "      <th>8746</th>\n",
       "      <td>22</td>\n",
       "      <td>797</td>\n",
       "      <td>845</td>\n",
       "      <td>16</td>\n",
       "      <td>647.5</td>\n",
       "      <td>59</td>\n",
       "      <td>1</td>\n",
       "      <td>0</td>\n",
       "      <td>1</td>\n",
       "      <td>7.5143</td>\n",
       "      <td>NaN</td>\n",
       "    </tr>\n",
       "  </tbody>\n",
       "</table>\n",
       "</div>"
      ],
      "text/plain": [
       "      CAMPAÑA  ID_FINCA  ID_ZONA  ID_ESTACION  ALTITUD  VARIEDAD  MODO  TIPO   \n",
       "6653       20       797      845           16    647.5        68     1     0  \\\n",
       "6654       20       797      845           16    647.5        59     1     0   \n",
       "7672       21       797      845           16    647.5        68     1     0   \n",
       "7673       21       797      845           16    647.5        59     1     0   \n",
       "8745       22       797      845           16    647.5        68     1     0   \n",
       "8746       22       797      845           16    647.5        59     1     0   \n",
       "\n",
       "      COLOR  SUPERFICIE  PRODUCCION  \n",
       "6653      0      2.3854      3130.0  \n",
       "6654      1      3.3577      6950.0  \n",
       "7672      0      2.3854     10180.0  \n",
       "7673      1      7.5143     11710.0  \n",
       "8745      0      2.3854         NaN  \n",
       "8746      1      7.5143         NaN  "
      ]
     },
     "execution_count": 28,
     "metadata": {},
     "output_type": "execute_result"
    }
   ],
   "source": [
    "# Analizar valores de superficie en un ejemplo de finca\n",
    "finca_i = 797\n",
    "df_train.query('CAMPAÑA in @años_d and ID_FINCA == @finca_i')"
   ]
  },
  {
   "cell_type": "code",
   "execution_count": 29,
   "metadata": {},
   "outputs": [
    {
     "data": {
      "text/plain": [
       "1"
      ]
     },
     "execution_count": 29,
     "metadata": {},
     "output_type": "execute_result"
    }
   ],
   "source": [
    "# Revisar que el color siempre va asociado a una variedad\n",
    "df_train.groupby('VARIEDAD')['COLOR'].nunique().max()"
   ]
  },
  {
   "cell_type": "code",
   "execution_count": 30,
   "metadata": {},
   "outputs": [
    {
     "data": {
      "text/plain": [
       "2"
      ]
     },
     "execution_count": 30,
     "metadata": {},
     "output_type": "execute_result"
    }
   ],
   "source": [
    "# Revisar si el tipo siempre va asociado a una variedad (respuesta: no)\n",
    "df_train.groupby('VARIEDAD')['TIPO'].nunique().max()"
   ]
  },
  {
   "cell_type": "code",
   "execution_count": 31,
   "metadata": {},
   "outputs": [
    {
     "data": {
      "text/plain": [
       "2"
      ]
     },
     "execution_count": 31,
     "metadata": {},
     "output_type": "execute_result"
    }
   ],
   "source": [
    "# Revisar si el modo siempre va asociado a una variedad (respuesta: no)\n",
    "df_train.groupby('VARIEDAD')['MODO'].nunique().max()"
   ]
  },
  {
   "cell_type": "code",
   "execution_count": 32,
   "metadata": {},
   "outputs": [
    {
     "data": {
      "image/png": "[encoded data removed]",
      "text/plain": [
       "<Figure size 640x480 with 1 Axes>"
      ]
     },
     "metadata": {},
     "output_type": "display_data"
    }
   ],
   "source": [
    "# Representar los tamaños de las parcelas\n",
    "df_train.query('CAMPAÑA in @años_d')['SUPERFICIE'].hist(bins=100)\n",
    "plt.xlabel('Superficie')\n",
    "plt.ylabel('Frecuencia')\n",
    "plt.title('Histograma de superficie')\n",
    "plt.show()"
   ]
  },
  {
   "cell_type": "code",
   "execution_count": 33,
   "metadata": {},
   "outputs": [
    {
     "data": {
      "image/png": "[encoded data removed]",
      "text/plain": [
       "<Figure size 640x480 with 1 Axes>"
      ]
     },
     "metadata": {},
     "output_type": "display_data"
    }
   ],
   "source": [
    "plt.boxplot(df_train.query('CAMPAÑA in @años_d')['SUPERFICIE'])\n",
    "plt.title('Histograma de superficie')\n",
    "plt.show()"
   ]
  },
  {
   "cell_type": "code",
   "execution_count": 34,
   "metadata": {},
   "outputs": [
    {
     "name": "stdout",
     "output_type": "stream",
     "text": [
      " La superficie total en ha en 2020 es de:  2187.48\n",
      " La superficie total en ha en 2021 es de:  2224.05\n",
      " La superficie total en ha en 2022 es de:  2285.34\n"
     ]
    }
   ],
   "source": [
    "# Segun la web: 2.400 Ha. que producen anualmente 11,3 millones de kilos de uva \n",
    "print(\" La superficie total en ha en 2020 es de: \", round(df_train.query('CAMPAÑA == 20')['SUPERFICIE'].sum(),2))\n",
    "print(\" La superficie total en ha en 2021 es de: \", round(df_train.query('CAMPAÑA == 21')['SUPERFICIE'].sum(),2))\n",
    "print(\" La superficie total en ha en 2022 es de: \", round(df_train.query('CAMPAÑA == 22')['SUPERFICIE'].sum(),2))"
   ]
  },
  {
   "attachments": {},
   "cell_type": "markdown",
   "metadata": {},
   "source": [
    "#### Añadir info a fincas sin superficie"
   ]
  },
  {
   "cell_type": "code",
   "execution_count": 35,
   "metadata": {},
   "outputs": [
    {
     "name": "stdout",
     "output_type": "stream",
     "text": [
      "Filas dataset:  9601\n",
      "Filas dataset con superficie a 0:  6518\n"
     ]
    }
   ],
   "source": [
    "# Calcular numero de filas sin superficie en el dataset\n",
    "print('Filas dataset: ', df_train.shape[0])\n",
    "print('Filas dataset con superficie a 0: ', df_train.query('SUPERFICIE == 0').shape[0])"
   ]
  },
  {
   "cell_type": "code",
   "execution_count": 36,
   "metadata": {},
   "outputs": [],
   "source": [
    "# Transformar los 0 a NaN\n",
    "df_train['SUPERFICIE'] = df_train['SUPERFICIE'].replace(0, np.nan)"
   ]
  },
  {
   "cell_type": "code",
   "execution_count": 37,
   "metadata": {},
   "outputs": [],
   "source": [
    "# Aquellas fincas que en 2020, 2021 y 2022 tienen la misma superficie (si es que tienen alguna)\n",
    "# para la misma variedad, serviran para completar las otras \n",
    "\n",
    "# Crear lista con superficies \"confiables\"\n",
    "df_superficies = df_train.query('CAMPAÑA in @años_d')[['ID_FINCA', 'VARIEDAD', 'SUPERFICIE']]\n",
    "df_superficies = df_superficies.groupby(['ID_FINCA', 'VARIEDAD']).filter(lambda x: x['SUPERFICIE'].nunique() == 1)\n",
    "df_superficies = df_superficies.drop_duplicates()"
   ]
  },
  {
   "cell_type": "code",
   "execution_count": 38,
   "metadata": {},
   "outputs": [],
   "source": [
    "# Completar las superficies que están a cero\n",
    "df_merged = pd.merge(df_train, df_superficies, on=['ID_FINCA', 'VARIEDAD'], suffixes=('', '_superficies'), how='left')\n",
    "df_merged['SUPERFICIE'] = np.where(df_merged['SUPERFICIE'].isna(), df_merged['SUPERFICIE_superficies'], df_merged['SUPERFICIE'])\n",
    "df_merged = df_merged.drop(['SUPERFICIE_superficies'], axis=1)"
   ]
  },
  {
   "cell_type": "code",
   "execution_count": 39,
   "metadata": {},
   "outputs": [
    {
     "data": {
      "text/html": [
       "<div>\n",
       "<style scoped>\n",
       "    .dataframe tbody tr th:only-of-type {\n",
       "        vertical-align: middle;\n",
       "    }\n",
       "\n",
       "    .dataframe tbody tr th {\n",
       "        vertical-align: top;\n",
       "    }\n",
       "\n",
       "    .dataframe thead th {\n",
       "        text-align: right;\n",
       "    }\n",
       "</style>\n",
       "<table border=\"1\" class=\"dataframe\">\n",
       "  <thead>\n",
       "    <tr style=\"text-align: right;\">\n",
       "      <th></th>\n",
       "      <th>CAMPAÑA</th>\n",
       "      <th>ID_FINCA</th>\n",
       "      <th>ID_ZONA</th>\n",
       "      <th>ID_ESTACION</th>\n",
       "      <th>ALTITUD</th>\n",
       "      <th>VARIEDAD</th>\n",
       "      <th>MODO</th>\n",
       "      <th>TIPO</th>\n",
       "      <th>COLOR</th>\n",
       "      <th>SUPERFICIE</th>\n",
       "      <th>PRODUCCION</th>\n",
       "    </tr>\n",
       "  </thead>\n",
       "  <tbody>\n",
       "    <tr>\n",
       "      <th>201</th>\n",
       "      <td>14</td>\n",
       "      <td>797</td>\n",
       "      <td>845</td>\n",
       "      <td>16</td>\n",
       "      <td>647.5</td>\n",
       "      <td>68</td>\n",
       "      <td>1</td>\n",
       "      <td>0</td>\n",
       "      <td>0</td>\n",
       "      <td>2.3854</td>\n",
       "      <td>10140.0</td>\n",
       "    </tr>\n",
       "    <tr>\n",
       "      <th>202</th>\n",
       "      <td>14</td>\n",
       "      <td>797</td>\n",
       "      <td>845</td>\n",
       "      <td>16</td>\n",
       "      <td>647.5</td>\n",
       "      <td>59</td>\n",
       "      <td>1</td>\n",
       "      <td>0</td>\n",
       "      <td>1</td>\n",
       "      <td>NaN</td>\n",
       "      <td>32610.0</td>\n",
       "    </tr>\n",
       "    <tr>\n",
       "      <th>1349</th>\n",
       "      <td>15</td>\n",
       "      <td>797</td>\n",
       "      <td>845</td>\n",
       "      <td>16</td>\n",
       "      <td>647.5</td>\n",
       "      <td>68</td>\n",
       "      <td>1</td>\n",
       "      <td>0</td>\n",
       "      <td>0</td>\n",
       "      <td>2.3854</td>\n",
       "      <td>16960.0</td>\n",
       "    </tr>\n",
       "    <tr>\n",
       "      <th>1350</th>\n",
       "      <td>15</td>\n",
       "      <td>797</td>\n",
       "      <td>845</td>\n",
       "      <td>16</td>\n",
       "      <td>647.5</td>\n",
       "      <td>59</td>\n",
       "      <td>1</td>\n",
       "      <td>0</td>\n",
       "      <td>1</td>\n",
       "      <td>NaN</td>\n",
       "      <td>36490.0</td>\n",
       "    </tr>\n",
       "    <tr>\n",
       "      <th>2469</th>\n",
       "      <td>16</td>\n",
       "      <td>797</td>\n",
       "      <td>845</td>\n",
       "      <td>16</td>\n",
       "      <td>647.5</td>\n",
       "      <td>68</td>\n",
       "      <td>1</td>\n",
       "      <td>0</td>\n",
       "      <td>0</td>\n",
       "      <td>2.3854</td>\n",
       "      <td>14690.0</td>\n",
       "    </tr>\n",
       "    <tr>\n",
       "      <th>2470</th>\n",
       "      <td>16</td>\n",
       "      <td>797</td>\n",
       "      <td>845</td>\n",
       "      <td>16</td>\n",
       "      <td>647.5</td>\n",
       "      <td>59</td>\n",
       "      <td>1</td>\n",
       "      <td>0</td>\n",
       "      <td>1</td>\n",
       "      <td>NaN</td>\n",
       "      <td>41240.0</td>\n",
       "    </tr>\n",
       "    <tr>\n",
       "      <th>3554</th>\n",
       "      <td>17</td>\n",
       "      <td>797</td>\n",
       "      <td>845</td>\n",
       "      <td>16</td>\n",
       "      <td>647.5</td>\n",
       "      <td>68</td>\n",
       "      <td>1</td>\n",
       "      <td>0</td>\n",
       "      <td>0</td>\n",
       "      <td>2.3854</td>\n",
       "      <td>11350.0</td>\n",
       "    </tr>\n",
       "    <tr>\n",
       "      <th>3555</th>\n",
       "      <td>17</td>\n",
       "      <td>797</td>\n",
       "      <td>845</td>\n",
       "      <td>16</td>\n",
       "      <td>647.5</td>\n",
       "      <td>59</td>\n",
       "      <td>1</td>\n",
       "      <td>0</td>\n",
       "      <td>1</td>\n",
       "      <td>NaN</td>\n",
       "      <td>25510.0</td>\n",
       "    </tr>\n",
       "    <tr>\n",
       "      <th>3556</th>\n",
       "      <td>17</td>\n",
       "      <td>797</td>\n",
       "      <td>845</td>\n",
       "      <td>16</td>\n",
       "      <td>647.5</td>\n",
       "      <td>59</td>\n",
       "      <td>2</td>\n",
       "      <td>0</td>\n",
       "      <td>1</td>\n",
       "      <td>NaN</td>\n",
       "      <td>8980.0</td>\n",
       "    </tr>\n",
       "    <tr>\n",
       "      <th>4589</th>\n",
       "      <td>18</td>\n",
       "      <td>797</td>\n",
       "      <td>845</td>\n",
       "      <td>16</td>\n",
       "      <td>647.5</td>\n",
       "      <td>68</td>\n",
       "      <td>1</td>\n",
       "      <td>0</td>\n",
       "      <td>0</td>\n",
       "      <td>2.3854</td>\n",
       "      <td>12930.0</td>\n",
       "    </tr>\n",
       "    <tr>\n",
       "      <th>4590</th>\n",
       "      <td>18</td>\n",
       "      <td>797</td>\n",
       "      <td>845</td>\n",
       "      <td>16</td>\n",
       "      <td>647.5</td>\n",
       "      <td>59</td>\n",
       "      <td>1</td>\n",
       "      <td>0</td>\n",
       "      <td>1</td>\n",
       "      <td>NaN</td>\n",
       "      <td>26560.0</td>\n",
       "    </tr>\n",
       "    <tr>\n",
       "      <th>5655</th>\n",
       "      <td>19</td>\n",
       "      <td>797</td>\n",
       "      <td>845</td>\n",
       "      <td>16</td>\n",
       "      <td>647.5</td>\n",
       "      <td>68</td>\n",
       "      <td>1</td>\n",
       "      <td>0</td>\n",
       "      <td>0</td>\n",
       "      <td>2.3854</td>\n",
       "      <td>14320.0</td>\n",
       "    </tr>\n",
       "    <tr>\n",
       "      <th>5656</th>\n",
       "      <td>19</td>\n",
       "      <td>797</td>\n",
       "      <td>845</td>\n",
       "      <td>16</td>\n",
       "      <td>647.5</td>\n",
       "      <td>59</td>\n",
       "      <td>1</td>\n",
       "      <td>0</td>\n",
       "      <td>1</td>\n",
       "      <td>NaN</td>\n",
       "      <td>29040.0</td>\n",
       "    </tr>\n",
       "    <tr>\n",
       "      <th>6704</th>\n",
       "      <td>20</td>\n",
       "      <td>797</td>\n",
       "      <td>845</td>\n",
       "      <td>16</td>\n",
       "      <td>647.5</td>\n",
       "      <td>68</td>\n",
       "      <td>1</td>\n",
       "      <td>0</td>\n",
       "      <td>0</td>\n",
       "      <td>2.3854</td>\n",
       "      <td>3130.0</td>\n",
       "    </tr>\n",
       "    <tr>\n",
       "      <th>6705</th>\n",
       "      <td>20</td>\n",
       "      <td>797</td>\n",
       "      <td>845</td>\n",
       "      <td>16</td>\n",
       "      <td>647.5</td>\n",
       "      <td>59</td>\n",
       "      <td>1</td>\n",
       "      <td>0</td>\n",
       "      <td>1</td>\n",
       "      <td>3.3577</td>\n",
       "      <td>6950.0</td>\n",
       "    </tr>\n",
       "    <tr>\n",
       "      <th>7733</th>\n",
       "      <td>21</td>\n",
       "      <td>797</td>\n",
       "      <td>845</td>\n",
       "      <td>16</td>\n",
       "      <td>647.5</td>\n",
       "      <td>68</td>\n",
       "      <td>1</td>\n",
       "      <td>0</td>\n",
       "      <td>0</td>\n",
       "      <td>2.3854</td>\n",
       "      <td>10180.0</td>\n",
       "    </tr>\n",
       "    <tr>\n",
       "      <th>7734</th>\n",
       "      <td>21</td>\n",
       "      <td>797</td>\n",
       "      <td>845</td>\n",
       "      <td>16</td>\n",
       "      <td>647.5</td>\n",
       "      <td>59</td>\n",
       "      <td>1</td>\n",
       "      <td>0</td>\n",
       "      <td>1</td>\n",
       "      <td>7.5143</td>\n",
       "      <td>11710.0</td>\n",
       "    </tr>\n",
       "    <tr>\n",
       "      <th>8816</th>\n",
       "      <td>22</td>\n",
       "      <td>797</td>\n",
       "      <td>845</td>\n",
       "      <td>16</td>\n",
       "      <td>647.5</td>\n",
       "      <td>68</td>\n",
       "      <td>1</td>\n",
       "      <td>0</td>\n",
       "      <td>0</td>\n",
       "      <td>2.3854</td>\n",
       "      <td>NaN</td>\n",
       "    </tr>\n",
       "    <tr>\n",
       "      <th>8817</th>\n",
       "      <td>22</td>\n",
       "      <td>797</td>\n",
       "      <td>845</td>\n",
       "      <td>16</td>\n",
       "      <td>647.5</td>\n",
       "      <td>59</td>\n",
       "      <td>1</td>\n",
       "      <td>0</td>\n",
       "      <td>1</td>\n",
       "      <td>7.5143</td>\n",
       "      <td>NaN</td>\n",
       "    </tr>\n",
       "  </tbody>\n",
       "</table>\n",
       "</div>"
      ],
      "text/plain": [
       "      CAMPAÑA  ID_FINCA  ID_ZONA  ID_ESTACION  ALTITUD  VARIEDAD  MODO  TIPO   \n",
       "201        14       797      845           16    647.5        68     1     0  \\\n",
       "202        14       797      845           16    647.5        59     1     0   \n",
       "1349       15       797      845           16    647.5        68     1     0   \n",
       "1350       15       797      845           16    647.5        59     1     0   \n",
       "2469       16       797      845           16    647.5        68     1     0   \n",
       "2470       16       797      845           16    647.5        59     1     0   \n",
       "3554       17       797      845           16    647.5        68     1     0   \n",
       "3555       17       797      845           16    647.5        59     1     0   \n",
       "3556       17       797      845           16    647.5        59     2     0   \n",
       "4589       18       797      845           16    647.5        68     1     0   \n",
       "4590       18       797      845           16    647.5        59     1     0   \n",
       "5655       19       797      845           16    647.5        68     1     0   \n",
       "5656       19       797      845           16    647.5        59     1     0   \n",
       "6704       20       797      845           16    647.5        68     1     0   \n",
       "6705       20       797      845           16    647.5        59     1     0   \n",
       "7733       21       797      845           16    647.5        68     1     0   \n",
       "7734       21       797      845           16    647.5        59     1     0   \n",
       "8816       22       797      845           16    647.5        68     1     0   \n",
       "8817       22       797      845           16    647.5        59     1     0   \n",
       "\n",
       "      COLOR  SUPERFICIE  PRODUCCION  \n",
       "201       0      2.3854     10140.0  \n",
       "202       1         NaN     32610.0  \n",
       "1349      0      2.3854     16960.0  \n",
       "1350      1         NaN     36490.0  \n",
       "2469      0      2.3854     14690.0  \n",
       "2470      1         NaN     41240.0  \n",
       "3554      0      2.3854     11350.0  \n",
       "3555      1         NaN     25510.0  \n",
       "3556      1         NaN      8980.0  \n",
       "4589      0      2.3854     12930.0  \n",
       "4590      1         NaN     26560.0  \n",
       "5655      0      2.3854     14320.0  \n",
       "5656      1         NaN     29040.0  \n",
       "6704      0      2.3854      3130.0  \n",
       "6705      1      3.3577      6950.0  \n",
       "7733      0      2.3854     10180.0  \n",
       "7734      1      7.5143     11710.0  \n",
       "8816      0      2.3854         NaN  \n",
       "8817      1      7.5143         NaN  "
      ]
     },
     "execution_count": 39,
     "metadata": {},
     "output_type": "execute_result"
    }
   ],
   "source": [
    "df_merged.query('ID_FINCA == @finca_i')"
   ]
  },
  {
   "cell_type": "code",
   "execution_count": 56,
   "metadata": {},
   "outputs": [],
   "source": [
    "df_train = df_merged.copy()"
   ]
  },
  {
   "cell_type": "code",
   "execution_count": 57,
   "metadata": {},
   "outputs": [
    {
     "name": "stdout",
     "output_type": "stream",
     "text": [
      "Filas dataset:  9672\n",
      "Filas dataset con superficie a 0:  0\n",
      "Filas dataset con superficie a NaN:  2554\n"
     ]
    }
   ],
   "source": [
    "# Calcular numero de filas sin superficie en el dataset\n",
    "print('Filas dataset: ', df_train.shape[0])\n",
    "print('Filas dataset con superficie a 0: ', df_train.query('SUPERFICIE == 0').shape[0])\n",
    "print('Filas dataset con superficie a NaN: ', df_train['SUPERFICIE'].isna().sum())"
   ]
  },
  {
   "cell_type": "code",
   "execution_count": 58,
   "metadata": {},
   "outputs": [],
   "source": [
    "# Guardar el archivo modificado\n",
    "df_train.to_csv('UH_2023_TRAIN_alt_sup.txt', index=False, sep='|')"
   ]
  },
  {
   "attachments": {},
   "cell_type": "markdown",
   "metadata": {},
   "source": [
    "Resumen:\n",
    "* Se añade valores de superficie a partir de fincas de otros años según esta estrategia: buscar aquellas fincas que en los años en que aparecen con superficie, ésta vale lo mismo siempre (para cierta variedad). "
   ]
  },
  {
   "cell_type": "code",
   "execution_count": 62,
   "metadata": {},
   "outputs": [
    {
     "data": {
      "text/html": [
       "<div>\n",
       "<style scoped>\n",
       "    .dataframe tbody tr th:only-of-type {\n",
       "        vertical-align: middle;\n",
       "    }\n",
       "\n",
       "    .dataframe tbody tr th {\n",
       "        vertical-align: top;\n",
       "    }\n",
       "\n",
       "    .dataframe thead th {\n",
       "        text-align: right;\n",
       "    }\n",
       "</style>\n",
       "<table border=\"1\" class=\"dataframe\">\n",
       "  <thead>\n",
       "    <tr style=\"text-align: right;\">\n",
       "      <th></th>\n",
       "      <th>CAMPAÑA</th>\n",
       "      <th>ID_FINCA</th>\n",
       "      <th>ID_ZONA</th>\n",
       "      <th>ID_ESTACION</th>\n",
       "      <th>ALTITUD</th>\n",
       "      <th>VARIEDAD</th>\n",
       "      <th>MODO</th>\n",
       "      <th>TIPO</th>\n",
       "      <th>COLOR</th>\n",
       "      <th>SUPERFICIE</th>\n",
       "      <th>PRODUCCION</th>\n",
       "    </tr>\n",
       "  </thead>\n",
       "  <tbody>\n",
       "    <tr>\n",
       "      <th>0</th>\n",
       "      <td>14</td>\n",
       "      <td>76953</td>\n",
       "      <td>515</td>\n",
       "      <td>4</td>\n",
       "      <td>660.0</td>\n",
       "      <td>26</td>\n",
       "      <td>2</td>\n",
       "      <td>0</td>\n",
       "      <td>1</td>\n",
       "      <td>NaN</td>\n",
       "      <td>22215.0</td>\n",
       "    </tr>\n",
       "    <tr>\n",
       "      <th>1</th>\n",
       "      <td>14</td>\n",
       "      <td>84318</td>\n",
       "      <td>515</td>\n",
       "      <td>4</td>\n",
       "      <td>660.0</td>\n",
       "      <td>26</td>\n",
       "      <td>2</td>\n",
       "      <td>0</td>\n",
       "      <td>1</td>\n",
       "      <td>NaN</td>\n",
       "      <td>22215.0</td>\n",
       "    </tr>\n",
       "    <tr>\n",
       "      <th>2</th>\n",
       "      <td>14</td>\n",
       "      <td>85579</td>\n",
       "      <td>340</td>\n",
       "      <td>4</td>\n",
       "      <td>520.0</td>\n",
       "      <td>32</td>\n",
       "      <td>2</td>\n",
       "      <td>0</td>\n",
       "      <td>1</td>\n",
       "      <td>NaN</td>\n",
       "      <td>20978.0</td>\n",
       "    </tr>\n",
       "    <tr>\n",
       "      <th>3</th>\n",
       "      <td>14</td>\n",
       "      <td>69671</td>\n",
       "      <td>340</td>\n",
       "      <td>4</td>\n",
       "      <td>520.0</td>\n",
       "      <td>32</td>\n",
       "      <td>2</td>\n",
       "      <td>0</td>\n",
       "      <td>1</td>\n",
       "      <td>NaN</td>\n",
       "      <td>40722.0</td>\n",
       "    </tr>\n",
       "    <tr>\n",
       "      <th>4</th>\n",
       "      <td>14</td>\n",
       "      <td>14001</td>\n",
       "      <td>852</td>\n",
       "      <td>14</td>\n",
       "      <td>655.0</td>\n",
       "      <td>81</td>\n",
       "      <td>1</td>\n",
       "      <td>0</td>\n",
       "      <td>1</td>\n",
       "      <td>NaN</td>\n",
       "      <td>14126.0</td>\n",
       "    </tr>\n",
       "  </tbody>\n",
       "</table>\n",
       "</div>"
      ],
      "text/plain": [
       "   CAMPAÑA  ID_FINCA  ID_ZONA  ID_ESTACION  ALTITUD  VARIEDAD  MODO  TIPO   \n",
       "0       14     76953      515            4    660.0        26     2     0  \\\n",
       "1       14     84318      515            4    660.0        26     2     0   \n",
       "2       14     85579      340            4    520.0        32     2     0   \n",
       "3       14     69671      340            4    520.0        32     2     0   \n",
       "4       14     14001      852           14    655.0        81     1     0   \n",
       "\n",
       "   COLOR  SUPERFICIE  PRODUCCION  \n",
       "0      1         NaN     22215.0  \n",
       "1      1         NaN     22215.0  \n",
       "2      1         NaN     20978.0  \n",
       "3      1         NaN     40722.0  \n",
       "4      1         NaN     14126.0  "
      ]
     },
     "execution_count": 62,
     "metadata": {},
     "output_type": "execute_result"
    }
   ],
   "source": [
    "df_train.head()"
   ]
  },
  {
   "cell_type": "code",
   "execution_count": 61,
   "metadata": {},
   "outputs": [],
   "source": [
    "# df_train['RENDIMIENTO'] = df_train['PRODUCCION'] / df_train['SUPERFICIE']\n",
    "# df_train['RENDIMIENTO'].describe()"
   ]
  },
  {
   "attachments": {},
   "cell_type": "markdown",
   "metadata": {},
   "source": [
    "### ID_ZONA\n",
    "Tipo de suelo"
   ]
  },
  {
   "cell_type": "code",
   "execution_count": 64,
   "metadata": {},
   "outputs": [
    {
     "data": {
      "text/plain": [
       "count    99.000000\n",
       "mean     10.959596\n",
       "std      11.983764\n",
       "min       1.000000\n",
       "25%       3.000000\n",
       "50%       7.000000\n",
       "75%      15.000000\n",
       "max      66.000000\n",
       "Name: ID_ZONA, dtype: float64"
      ]
     },
     "execution_count": 64,
     "metadata": {},
     "output_type": "execute_result"
    }
   ],
   "source": [
    "df_train[df_train['CAMPAÑA'] == 22].groupby('ID_ZONA')['ID_ZONA'].count().describe()"
   ]
  },
  {
   "cell_type": "code",
   "execution_count": 67,
   "metadata": {},
   "outputs": [
    {
     "data": {
      "text/plain": [
       "<Axes: >"
      ]
     },
     "execution_count": 67,
     "metadata": {},
     "output_type": "execute_result"
    },
    {
     "data": {
      "image/png": "[encoded data removed]",
      "text/plain": [
       "<Figure size 640x480 with 1 Axes>"
      ]
     },
     "metadata": {},
     "output_type": "display_data"
    }
   ],
   "source": [
    "df_train[df_train['CAMPAÑA'] == 22].groupby('ID_ZONA')['ID_ZONA'].count().hist(bins=99)"
   ]
  },
  {
   "cell_type": "code",
   "execution_count": 68,
   "metadata": {},
   "outputs": [
    {
     "data": {
      "text/plain": [
       "count    1231.0\n",
       "mean        1.0\n",
       "std         0.0\n",
       "min         1.0\n",
       "25%         1.0\n",
       "50%         1.0\n",
       "75%         1.0\n",
       "max         1.0\n",
       "Name: ID_ZONA, dtype: float64"
      ]
     },
     "execution_count": 68,
     "metadata": {},
     "output_type": "execute_result"
    }
   ],
   "source": [
    "# Verificar si cada finca tiene un solo tipo de suelo\n",
    "df_train.groupby('ID_FINCA')['ID_ZONA'].nunique().describe()"
   ]
  },
  {
   "attachments": {},
   "cell_type": "markdown",
   "metadata": {},
   "source": [
    "Resumen (id_zona):\n",
    "* Hay 125 tipos de suelo\n",
    "* Cada finca tiene un único tipo de suelo"
   ]
  },
  {
   "attachments": {},
   "cell_type": "markdown",
   "metadata": {},
   "source": [
    "### ID_ESTACION"
   ]
  },
  {
   "cell_type": "code",
   "execution_count": 69,
   "metadata": {},
   "outputs": [
    {
     "data": {
      "text/plain": [
       "ID_ESTACION\n",
       "0        2\n",
       "1        2\n",
       "2       45\n",
       "3      305\n",
       "4        4\n",
       "5     1155\n",
       "6       46\n",
       "7     1113\n",
       "8       93\n",
       "9      182\n",
       "10     252\n",
       "11      15\n",
       "12    2060\n",
       "13      16\n",
       "14     621\n",
       "15     956\n",
       "16    1087\n",
       "17       8\n",
       "18     773\n",
       "19     937\n",
       "Name: ID_FINCA, dtype: int64"
      ]
     },
     "execution_count": 69,
     "metadata": {},
     "output_type": "execute_result"
    }
   ],
   "source": [
    "# Verificar cuantas veces aparece cada estación\n",
    "df_train.groupby('ID_ESTACION')['ID_FINCA'].count()"
   ]
  },
  {
   "cell_type": "code",
   "execution_count": 70,
   "metadata": {},
   "outputs": [
    {
     "data": {
      "text/plain": [
       "ID_ESTACION\n",
       "2       5\n",
       "3      39\n",
       "5     122\n",
       "6       5\n",
       "7     135\n",
       "8       7\n",
       "9      31\n",
       "10     26\n",
       "11      3\n",
       "12    201\n",
       "13      2\n",
       "14     91\n",
       "15     90\n",
       "16    121\n",
       "18     93\n",
       "19    114\n",
       "Name: ID_FINCA, dtype: int64"
      ]
     },
     "execution_count": 70,
     "metadata": {},
     "output_type": "execute_result"
    }
   ],
   "source": [
    "# Número de veces que aparece cada estación en los datos de 2022\n",
    "df_train.loc[df_train['CAMPAÑA'] == 22].groupby('ID_ESTACION')['ID_FINCA'].count()"
   ]
  },
  {
   "cell_type": "code",
   "execution_count": 71,
   "metadata": {},
   "outputs": [
    {
     "data": {
      "text/plain": [
       "1"
      ]
     },
     "execution_count": 71,
     "metadata": {},
     "output_type": "execute_result"
    }
   ],
   "source": [
    "# Entender si cada parcela tiene una única estación\n",
    "df_train.groupby('ID_FINCA')['ID_ESTACION'].nunique().max()"
   ]
  },
  {
   "cell_type": "code",
   "execution_count": 72,
   "metadata": {},
   "outputs": [
    {
     "data": {
      "text/html": [
       "<div>\n",
       "<style scoped>\n",
       "    .dataframe tbody tr th:only-of-type {\n",
       "        vertical-align: middle;\n",
       "    }\n",
       "\n",
       "    .dataframe tbody tr th {\n",
       "        vertical-align: top;\n",
       "    }\n",
       "\n",
       "    .dataframe thead th {\n",
       "        text-align: right;\n",
       "    }\n",
       "</style>\n",
       "<table border=\"1\" class=\"dataframe\">\n",
       "  <thead>\n",
       "    <tr style=\"text-align: right;\">\n",
       "      <th></th>\n",
       "      <th>CAMPAÑA</th>\n",
       "      <th>ID_FINCA</th>\n",
       "      <th>ID_ZONA</th>\n",
       "      <th>ID_ESTACION</th>\n",
       "      <th>ALTITUD</th>\n",
       "      <th>VARIEDAD</th>\n",
       "      <th>MODO</th>\n",
       "      <th>TIPO</th>\n",
       "      <th>COLOR</th>\n",
       "      <th>SUPERFICIE</th>\n",
       "      <th>PRODUCCION</th>\n",
       "    </tr>\n",
       "  </thead>\n",
       "  <tbody>\n",
       "    <tr>\n",
       "      <th>302</th>\n",
       "      <td>14</td>\n",
       "      <td>60635</td>\n",
       "      <td>700</td>\n",
       "      <td>16</td>\n",
       "      <td>605.0</td>\n",
       "      <td>17</td>\n",
       "      <td>1</td>\n",
       "      <td>0</td>\n",
       "      <td>1</td>\n",
       "      <td>2.4754</td>\n",
       "      <td>22310.0</td>\n",
       "    </tr>\n",
       "    <tr>\n",
       "      <th>303</th>\n",
       "      <td>14</td>\n",
       "      <td>60635</td>\n",
       "      <td>700</td>\n",
       "      <td>16</td>\n",
       "      <td>605.0</td>\n",
       "      <td>17</td>\n",
       "      <td>2</td>\n",
       "      <td>0</td>\n",
       "      <td>1</td>\n",
       "      <td>2.4754</td>\n",
       "      <td>1380.0</td>\n",
       "    </tr>\n",
       "    <tr>\n",
       "      <th>1450</th>\n",
       "      <td>15</td>\n",
       "      <td>60635</td>\n",
       "      <td>700</td>\n",
       "      <td>16</td>\n",
       "      <td>605.0</td>\n",
       "      <td>17</td>\n",
       "      <td>1</td>\n",
       "      <td>0</td>\n",
       "      <td>1</td>\n",
       "      <td>2.4754</td>\n",
       "      <td>12740.0</td>\n",
       "    </tr>\n",
       "    <tr>\n",
       "      <th>2568</th>\n",
       "      <td>16</td>\n",
       "      <td>60635</td>\n",
       "      <td>700</td>\n",
       "      <td>16</td>\n",
       "      <td>605.0</td>\n",
       "      <td>17</td>\n",
       "      <td>1</td>\n",
       "      <td>0</td>\n",
       "      <td>1</td>\n",
       "      <td>2.4754</td>\n",
       "      <td>21740.0</td>\n",
       "    </tr>\n",
       "    <tr>\n",
       "      <th>3653</th>\n",
       "      <td>17</td>\n",
       "      <td>60635</td>\n",
       "      <td>700</td>\n",
       "      <td>16</td>\n",
       "      <td>605.0</td>\n",
       "      <td>17</td>\n",
       "      <td>1</td>\n",
       "      <td>0</td>\n",
       "      <td>1</td>\n",
       "      <td>2.4754</td>\n",
       "      <td>10660.0</td>\n",
       "    </tr>\n",
       "    <tr>\n",
       "      <th>4700</th>\n",
       "      <td>18</td>\n",
       "      <td>60635</td>\n",
       "      <td>700</td>\n",
       "      <td>16</td>\n",
       "      <td>605.0</td>\n",
       "      <td>17</td>\n",
       "      <td>1</td>\n",
       "      <td>0</td>\n",
       "      <td>1</td>\n",
       "      <td>2.4754</td>\n",
       "      <td>12980.0</td>\n",
       "    </tr>\n",
       "    <tr>\n",
       "      <th>5764</th>\n",
       "      <td>19</td>\n",
       "      <td>60635</td>\n",
       "      <td>700</td>\n",
       "      <td>16</td>\n",
       "      <td>605.0</td>\n",
       "      <td>17</td>\n",
       "      <td>1</td>\n",
       "      <td>0</td>\n",
       "      <td>1</td>\n",
       "      <td>2.4754</td>\n",
       "      <td>17180.0</td>\n",
       "    </tr>\n",
       "    <tr>\n",
       "      <th>6831</th>\n",
       "      <td>20</td>\n",
       "      <td>60635</td>\n",
       "      <td>700</td>\n",
       "      <td>16</td>\n",
       "      <td>605.0</td>\n",
       "      <td>17</td>\n",
       "      <td>1</td>\n",
       "      <td>0</td>\n",
       "      <td>1</td>\n",
       "      <td>2.4754</td>\n",
       "      <td>16660.0</td>\n",
       "    </tr>\n",
       "    <tr>\n",
       "      <th>6832</th>\n",
       "      <td>20</td>\n",
       "      <td>60635</td>\n",
       "      <td>700</td>\n",
       "      <td>16</td>\n",
       "      <td>605.0</td>\n",
       "      <td>81</td>\n",
       "      <td>2</td>\n",
       "      <td>0</td>\n",
       "      <td>1</td>\n",
       "      <td>1.1044</td>\n",
       "      <td>7090.0</td>\n",
       "    </tr>\n",
       "    <tr>\n",
       "      <th>7845</th>\n",
       "      <td>21</td>\n",
       "      <td>60635</td>\n",
       "      <td>700</td>\n",
       "      <td>16</td>\n",
       "      <td>605.0</td>\n",
       "      <td>17</td>\n",
       "      <td>1</td>\n",
       "      <td>0</td>\n",
       "      <td>1</td>\n",
       "      <td>2.4754</td>\n",
       "      <td>19910.0</td>\n",
       "    </tr>\n",
       "    <tr>\n",
       "      <th>7846</th>\n",
       "      <td>21</td>\n",
       "      <td>60635</td>\n",
       "      <td>700</td>\n",
       "      <td>16</td>\n",
       "      <td>605.0</td>\n",
       "      <td>81</td>\n",
       "      <td>2</td>\n",
       "      <td>0</td>\n",
       "      <td>1</td>\n",
       "      <td>1.1044</td>\n",
       "      <td>6058.7</td>\n",
       "    </tr>\n",
       "    <tr>\n",
       "      <th>8927</th>\n",
       "      <td>22</td>\n",
       "      <td>60635</td>\n",
       "      <td>700</td>\n",
       "      <td>16</td>\n",
       "      <td>605.0</td>\n",
       "      <td>17</td>\n",
       "      <td>1</td>\n",
       "      <td>0</td>\n",
       "      <td>1</td>\n",
       "      <td>2.4754</td>\n",
       "      <td>NaN</td>\n",
       "    </tr>\n",
       "  </tbody>\n",
       "</table>\n",
       "</div>"
      ],
      "text/plain": [
       "      CAMPAÑA  ID_FINCA  ID_ZONA  ID_ESTACION  ALTITUD  VARIEDAD  MODO  TIPO   \n",
       "302        14     60635      700           16    605.0        17     1     0  \\\n",
       "303        14     60635      700           16    605.0        17     2     0   \n",
       "1450       15     60635      700           16    605.0        17     1     0   \n",
       "2568       16     60635      700           16    605.0        17     1     0   \n",
       "3653       17     60635      700           16    605.0        17     1     0   \n",
       "4700       18     60635      700           16    605.0        17     1     0   \n",
       "5764       19     60635      700           16    605.0        17     1     0   \n",
       "6831       20     60635      700           16    605.0        17     1     0   \n",
       "6832       20     60635      700           16    605.0        81     2     0   \n",
       "7845       21     60635      700           16    605.0        17     1     0   \n",
       "7846       21     60635      700           16    605.0        81     2     0   \n",
       "8927       22     60635      700           16    605.0        17     1     0   \n",
       "\n",
       "      COLOR  SUPERFICIE  PRODUCCION  \n",
       "302       1      2.4754     22310.0  \n",
       "303       1      2.4754      1380.0  \n",
       "1450      1      2.4754     12740.0  \n",
       "2568      1      2.4754     21740.0  \n",
       "3653      1      2.4754     10660.0  \n",
       "4700      1      2.4754     12980.0  \n",
       "5764      1      2.4754     17180.0  \n",
       "6831      1      2.4754     16660.0  \n",
       "6832      1      1.1044      7090.0  \n",
       "7845      1      2.4754     19910.0  \n",
       "7846      1      1.1044      6058.7  \n",
       "8927      1      2.4754         NaN  "
      ]
     },
     "execution_count": 72,
     "metadata": {},
     "output_type": "execute_result"
    }
   ],
   "source": [
    "# Visualizar un ejemplo\n",
    "finca_i = 60635\n",
    "df_train.loc[df_train['ID_FINCA'] == finca_i]"
   ]
  },
  {
   "cell_type": "code",
   "execution_count": 73,
   "metadata": {},
   "outputs": [
    {
     "data": {
      "text/html": [
       "<div>\n",
       "<style scoped>\n",
       "    .dataframe tbody tr th:only-of-type {\n",
       "        vertical-align: middle;\n",
       "    }\n",
       "\n",
       "    .dataframe tbody tr th {\n",
       "        vertical-align: top;\n",
       "    }\n",
       "\n",
       "    .dataframe thead th {\n",
       "        text-align: right;\n",
       "    }\n",
       "</style>\n",
       "<table border=\"1\" class=\"dataframe\">\n",
       "  <thead>\n",
       "    <tr style=\"text-align: right;\">\n",
       "      <th></th>\n",
       "      <th>ID_ESTACION</th>\n",
       "      <th>ID_FINCA</th>\n",
       "      <th>ALTITUD</th>\n",
       "    </tr>\n",
       "  </thead>\n",
       "  <tbody>\n",
       "    <tr>\n",
       "      <th>619</th>\n",
       "      <td>12</td>\n",
       "      <td>87539</td>\n",
       "      <td>625.0</td>\n",
       "    </tr>\n",
       "    <tr>\n",
       "      <th>621</th>\n",
       "      <td>12</td>\n",
       "      <td>9006</td>\n",
       "      <td>625.0</td>\n",
       "    </tr>\n",
       "    <tr>\n",
       "      <th>622</th>\n",
       "      <td>12</td>\n",
       "      <td>75075</td>\n",
       "      <td>625.0</td>\n",
       "    </tr>\n",
       "    <tr>\n",
       "      <th>623</th>\n",
       "      <td>12</td>\n",
       "      <td>69180</td>\n",
       "      <td>625.0</td>\n",
       "    </tr>\n",
       "    <tr>\n",
       "      <th>624</th>\n",
       "      <td>12</td>\n",
       "      <td>3579</td>\n",
       "      <td>625.0</td>\n",
       "    </tr>\n",
       "    <tr>\n",
       "      <th>...</th>\n",
       "      <td>...</td>\n",
       "      <td>...</td>\n",
       "      <td>...</td>\n",
       "    </tr>\n",
       "    <tr>\n",
       "      <th>9624</th>\n",
       "      <td>12</td>\n",
       "      <td>25885</td>\n",
       "      <td>490.0</td>\n",
       "    </tr>\n",
       "    <tr>\n",
       "      <th>9629</th>\n",
       "      <td>12</td>\n",
       "      <td>84804</td>\n",
       "      <td>500.0</td>\n",
       "    </tr>\n",
       "    <tr>\n",
       "      <th>9630</th>\n",
       "      <td>12</td>\n",
       "      <td>84804</td>\n",
       "      <td>500.0</td>\n",
       "    </tr>\n",
       "    <tr>\n",
       "      <th>9631</th>\n",
       "      <td>12</td>\n",
       "      <td>95287</td>\n",
       "      <td>500.0</td>\n",
       "    </tr>\n",
       "    <tr>\n",
       "      <th>9640</th>\n",
       "      <td>12</td>\n",
       "      <td>52069</td>\n",
       "      <td>445.0</td>\n",
       "    </tr>\n",
       "  </tbody>\n",
       "</table>\n",
       "<p>2060 rows × 3 columns</p>\n",
       "</div>"
      ],
      "text/plain": [
       "      ID_ESTACION  ID_FINCA  ALTITUD\n",
       "619            12     87539    625.0\n",
       "621            12      9006    625.0\n",
       "622            12     75075    625.0\n",
       "623            12     69180    625.0\n",
       "624            12      3579    625.0\n",
       "...           ...       ...      ...\n",
       "9624           12     25885    490.0\n",
       "9629           12     84804    500.0\n",
       "9630           12     84804    500.0\n",
       "9631           12     95287    500.0\n",
       "9640           12     52069    445.0\n",
       "\n",
       "[2060 rows x 3 columns]"
      ]
     },
     "execution_count": 73,
     "metadata": {},
     "output_type": "execute_result"
    }
   ],
   "source": [
    "# La estación da idea de proximidad de fincas? Similar altura?\n",
    "estacion_i = 12\n",
    "df_train.loc[df_train['ID_ESTACION'] == estacion_i, ['ID_ESTACION', 'ID_FINCA', 'ALTITUD']]"
   ]
  },
  {
   "cell_type": "code",
   "execution_count": 74,
   "metadata": {},
   "outputs": [
    {
     "data": {
      "text/html": [
       "<div>\n",
       "<style scoped>\n",
       "    .dataframe tbody tr th:only-of-type {\n",
       "        vertical-align: middle;\n",
       "    }\n",
       "\n",
       "    .dataframe tbody tr th {\n",
       "        vertical-align: top;\n",
       "    }\n",
       "\n",
       "    .dataframe thead th {\n",
       "        text-align: right;\n",
       "    }\n",
       "</style>\n",
       "<table border=\"1\" class=\"dataframe\">\n",
       "  <thead>\n",
       "    <tr style=\"text-align: right;\">\n",
       "      <th></th>\n",
       "      <th>ID_ESTACION</th>\n",
       "      <th>ID_FINCA</th>\n",
       "      <th>ID_ZONA</th>\n",
       "    </tr>\n",
       "  </thead>\n",
       "  <tbody>\n",
       "    <tr>\n",
       "      <th>619</th>\n",
       "      <td>12</td>\n",
       "      <td>87539</td>\n",
       "      <td>449</td>\n",
       "    </tr>\n",
       "    <tr>\n",
       "      <th>621</th>\n",
       "      <td>12</td>\n",
       "      <td>9006</td>\n",
       "      <td>449</td>\n",
       "    </tr>\n",
       "    <tr>\n",
       "      <th>622</th>\n",
       "      <td>12</td>\n",
       "      <td>75075</td>\n",
       "      <td>449</td>\n",
       "    </tr>\n",
       "    <tr>\n",
       "      <th>623</th>\n",
       "      <td>12</td>\n",
       "      <td>69180</td>\n",
       "      <td>449</td>\n",
       "    </tr>\n",
       "    <tr>\n",
       "      <th>624</th>\n",
       "      <td>12</td>\n",
       "      <td>3579</td>\n",
       "      <td>449</td>\n",
       "    </tr>\n",
       "    <tr>\n",
       "      <th>...</th>\n",
       "      <td>...</td>\n",
       "      <td>...</td>\n",
       "      <td>...</td>\n",
       "    </tr>\n",
       "    <tr>\n",
       "      <th>9624</th>\n",
       "      <td>12</td>\n",
       "      <td>25885</td>\n",
       "      <td>698</td>\n",
       "    </tr>\n",
       "    <tr>\n",
       "      <th>9629</th>\n",
       "      <td>12</td>\n",
       "      <td>84804</td>\n",
       "      <td>804</td>\n",
       "    </tr>\n",
       "    <tr>\n",
       "      <th>9630</th>\n",
       "      <td>12</td>\n",
       "      <td>84804</td>\n",
       "      <td>804</td>\n",
       "    </tr>\n",
       "    <tr>\n",
       "      <th>9631</th>\n",
       "      <td>12</td>\n",
       "      <td>95287</td>\n",
       "      <td>804</td>\n",
       "    </tr>\n",
       "    <tr>\n",
       "      <th>9640</th>\n",
       "      <td>12</td>\n",
       "      <td>52069</td>\n",
       "      <td>881</td>\n",
       "    </tr>\n",
       "  </tbody>\n",
       "</table>\n",
       "<p>2060 rows × 3 columns</p>\n",
       "</div>"
      ],
      "text/plain": [
       "      ID_ESTACION  ID_FINCA  ID_ZONA\n",
       "619            12     87539      449\n",
       "621            12      9006      449\n",
       "622            12     75075      449\n",
       "623            12     69180      449\n",
       "624            12      3579      449\n",
       "...           ...       ...      ...\n",
       "9624           12     25885      698\n",
       "9629           12     84804      804\n",
       "9630           12     84804      804\n",
       "9631           12     95287      804\n",
       "9640           12     52069      881\n",
       "\n",
       "[2060 rows x 3 columns]"
      ]
     },
     "execution_count": 74,
     "metadata": {},
     "output_type": "execute_result"
    }
   ],
   "source": [
    "# La estación da idea de proximidad de fincas? Tipo de suelo?\n",
    "estacion_i = 12\n",
    "df_train.loc[df_train['ID_ESTACION'] == estacion_i, ['ID_ESTACION', 'ID_FINCA', 'ID_ZONA']]"
   ]
  },
  {
   "attachments": {},
   "cell_type": "markdown",
   "metadata": {},
   "source": [
    "Resumen:\n",
    "* Cada parcela está asociada a una única estación meteorológica\n",
    "* Cada estacion meteorológica es usada por parcelas que están a alturas diferentes y que tienen un tipo diferente de suelo"
   ]
  },
  {
   "attachments": {},
   "cell_type": "markdown",
   "metadata": {},
   "source": [
    "### VARIEDAD"
   ]
  },
  {
   "cell_type": "code",
   "execution_count": 75,
   "metadata": {},
   "outputs": [
    {
     "name": "stdout",
     "output_type": "stream",
     "text": [
      "Cuántas veces aparece cada variedad en la base de datos train:\n",
      " VARIEDAD\n",
      "4       45\n",
      "8       35\n",
      "9      240\n",
      "10       5\n",
      "15     259\n",
      "17    2167\n",
      "23      74\n",
      "26     150\n",
      "32    1045\n",
      "38       8\n",
      "40     401\n",
      "43      57\n",
      "48       4\n",
      "52     611\n",
      "55      18\n",
      "59    2770\n",
      "62      18\n",
      "65      39\n",
      "68     503\n",
      "71      16\n",
      "81     568\n",
      "84      54\n",
      "87     431\n",
      "92      62\n",
      "94      92\n",
      "Name: ID_FINCA, dtype: int64\n",
      "Número de variedades de uva:  25\n"
     ]
    }
   ],
   "source": [
    "# Hay muchas variedades de uva codificadas en números entre el 4 y el 94. Veamos cuántas se cultivan en esta finca\n",
    "df_variedades = df_train.groupby('VARIEDAD')['ID_FINCA'].count()\n",
    "print(\"Cuántas veces aparece cada variedad en la base de datos train:\\n\", df_variedades)\n",
    "print(\"Número de variedades de uva: \", df_variedades.count())\n",
    "# print(df_variedades.sum())"
   ]
  },
  {
   "cell_type": "code",
   "execution_count": 76,
   "metadata": {},
   "outputs": [
    {
     "data": {
      "text/plain": [
       "VARIEDAD\n",
       "59    0.235783\n",
       "32    0.380930\n",
       "17    0.524295\n",
       "52    0.595701\n",
       "81    0.663844\n",
       "40    0.711852\n",
       "9     0.755232\n",
       "15    0.796568\n",
       "87    0.834873\n",
       "26    0.867398\n",
       "68    0.897109\n",
       "94    0.923326\n",
       "4     0.943121\n",
       "23    0.959805\n",
       "43    0.969831\n",
       "8     0.976737\n",
       "62    0.981831\n",
       "84    0.985422\n",
       "92    0.988872\n",
       "65    0.991648\n",
       "55    0.993954\n",
       "48    0.996164\n",
       "38    0.997936\n",
       "71    0.999195\n",
       "10    1.000000\n",
       "Name: Porcentaje, dtype: float64"
      ]
     },
     "execution_count": 76,
     "metadata": {},
     "output_type": "execute_result"
    }
   ],
   "source": [
    "# Cuáles son las variedades que más se cultivan? Por ha\n",
    "df_variedades_ha = df_train.loc[df_train['CAMPAÑA'].isin([20,21,22])].groupby('VARIEDAD')['SUPERFICIE'].sum()\n",
    "df_variedades_ha.sort_values(ascending=False, inplace=True)\n",
    "df_variedades_ha = df_variedades_ha.to_frame() \n",
    "df_variedades_ha['Porcentaje'] = df_variedades_ha['SUPERFICIE']/df_variedades_ha['SUPERFICIE'].sum()\n",
    "df_variedades_ha['Porcentaje'].cumsum()"
   ]
  },
  {
   "cell_type": "code",
   "execution_count": 77,
   "metadata": {},
   "outputs": [
    {
     "data": {
      "text/plain": [
       "VARIEDAD\n",
       "59    0.235783\n",
       "32    0.380930\n",
       "17    0.524295\n",
       "52    0.595701\n",
       "81    0.663844\n",
       "40    0.711852\n",
       "9     0.755232\n",
       "15    0.796568\n",
       "87    0.834873\n",
       "26    0.867398\n",
       "68    0.897109\n",
       "94    0.923326\n",
       "4     0.943121\n",
       "23    0.959805\n",
       "43    0.969831\n",
       "8     0.976737\n",
       "62    0.981831\n",
       "84    0.985422\n",
       "92    0.988872\n",
       "65    0.991648\n",
       "55    0.993954\n",
       "48    0.996164\n",
       "38    0.997936\n",
       "71    0.999195\n",
       "10    1.000000\n",
       "Name: Porcentaje, dtype: float64"
      ]
     },
     "execution_count": 77,
     "metadata": {},
     "output_type": "execute_result"
    }
   ],
   "source": [
    "# Ha cambiado las uvas que mas se cultivan (por ha) en los ultimos años? (top 3)\n",
    "df_variedades_ha = df_train.loc[df_train['CAMPAÑA'].isin([20,21,22])].groupby('VARIEDAD')['SUPERFICIE'].sum()\n",
    "df_variedades_ha.sort_values(ascending=False, inplace=True)\n",
    "df_variedades_ha = df_variedades_ha.to_frame() \n",
    "df_variedades_ha['Porcentaje'] = df_variedades_ha['SUPERFICIE']/df_variedades_ha['SUPERFICIE'].sum()\n",
    "df_variedades_ha['Porcentaje'].cumsum()\n"
   ]
  },
  {
   "cell_type": "code",
   "execution_count": 78,
   "metadata": {},
   "outputs": [
    {
     "name": "stdout",
     "output_type": "stream",
     "text": [
      "Las variedades que más se cultivan por ha en el año  20 son:  [32, 59, 17]\n",
      "            PRODUCCION  Porcentaje\n",
      "VARIEDAD                          \n",
      "32        1.811545e+06    0.186913\n",
      "59        1.755640e+06    0.181145\n",
      "17        1.234820e+06    0.127407\n",
      "Las variedades que más se cultivan por ha en el año  21 son:  [59, 32, 17]\n",
      "            PRODUCCION  Porcentaje\n",
      "VARIEDAD                          \n",
      "59        2.057070e+06    0.196919\n",
      "32        1.735439e+06    0.166130\n",
      "17        1.327676e+06    0.127096\n"
     ]
    }
   ],
   "source": [
    "# Cuáles son las variedades que más se cultivan? Por produccion\n",
    "for año_i in range(20,22):\n",
    "    df_variedades_prod = df_train.loc[df_train['CAMPAÑA'] == año_i].groupby('VARIEDAD')['PRODUCCION'].sum()\n",
    "    df_variedades_prod.sort_values(ascending=False, inplace=True)\n",
    "    df_variedades_prod = df_variedades_prod.to_frame() \n",
    "    df_variedades_prod['Porcentaje'] = df_variedades_prod['PRODUCCION']/df_variedades_prod['PRODUCCION'].sum()\n",
    "    print(\"Las variedades que más se cultivan por ha en el año \", año_i\t,\\\n",
    "          \"son: \", df_variedades_prod.iloc[0:3].index.values.tolist())\n",
    "    print(df_variedades_prod.iloc[0:3])"
   ]
  },
  {
   "cell_type": "code",
   "execution_count": 79,
   "metadata": {},
   "outputs": [
    {
     "data": {
      "text/plain": [
       "VARIEDAD\n",
       "4      2\n",
       "8      5\n",
       "9     29\n",
       "10     1\n",
       "15    24\n",
       "17    73\n",
       "23    13\n",
       "26    14\n",
       "32    51\n",
       "38     3\n",
       "40    31\n",
       "43     8\n",
       "48     1\n",
       "52    36\n",
       "55     3\n",
       "59    86\n",
       "62     1\n",
       "65     7\n",
       "68    34\n",
       "71     1\n",
       "81    43\n",
       "84     5\n",
       "87    40\n",
       "92     9\n",
       "94    20\n",
       "Name: ID_ZONA, dtype: int64"
      ]
     },
     "execution_count": 79,
     "metadata": {},
     "output_type": "execute_result"
    }
   ],
   "source": [
    "# Una variedad está asociada a un tipo de suelo (ID_ZONA)? No\n",
    "df_train.groupby('VARIEDAD')['ID_ZONA'].nunique()"
   ]
  },
  {
   "cell_type": "code",
   "execution_count": 80,
   "metadata": {},
   "outputs": [
    {
     "data": {
      "text/html": [
       "<div>\n",
       "<style scoped>\n",
       "    .dataframe tbody tr th:only-of-type {\n",
       "        vertical-align: middle;\n",
       "    }\n",
       "\n",
       "    .dataframe tbody tr th {\n",
       "        vertical-align: top;\n",
       "    }\n",
       "\n",
       "    .dataframe thead th {\n",
       "        text-align: right;\n",
       "    }\n",
       "</style>\n",
       "<table border=\"1\" class=\"dataframe\">\n",
       "  <thead>\n",
       "    <tr style=\"text-align: right;\">\n",
       "      <th></th>\n",
       "      <th>CAMPAÑA</th>\n",
       "      <th>ID_FINCA</th>\n",
       "      <th>ID_ZONA</th>\n",
       "      <th>ID_ESTACION</th>\n",
       "      <th>ALTITUD</th>\n",
       "      <th>VARIEDAD</th>\n",
       "      <th>MODO</th>\n",
       "      <th>TIPO</th>\n",
       "      <th>COLOR</th>\n",
       "      <th>SUPERFICIE</th>\n",
       "      <th>PRODUCCION</th>\n",
       "    </tr>\n",
       "  </thead>\n",
       "  <tbody>\n",
       "    <tr>\n",
       "      <th>2</th>\n",
       "      <td>14</td>\n",
       "      <td>85579</td>\n",
       "      <td>340</td>\n",
       "      <td>4</td>\n",
       "      <td>520.0</td>\n",
       "      <td>32</td>\n",
       "      <td>2</td>\n",
       "      <td>0</td>\n",
       "      <td>1</td>\n",
       "      <td>NaN</td>\n",
       "      <td>20978.0</td>\n",
       "    </tr>\n",
       "    <tr>\n",
       "      <th>3</th>\n",
       "      <td>14</td>\n",
       "      <td>69671</td>\n",
       "      <td>340</td>\n",
       "      <td>4</td>\n",
       "      <td>520.0</td>\n",
       "      <td>32</td>\n",
       "      <td>2</td>\n",
       "      <td>0</td>\n",
       "      <td>1</td>\n",
       "      <td>NaN</td>\n",
       "      <td>40722.0</td>\n",
       "    </tr>\n",
       "    <tr>\n",
       "      <th>13</th>\n",
       "      <td>14</td>\n",
       "      <td>98814</td>\n",
       "      <td>919</td>\n",
       "      <td>14</td>\n",
       "      <td>655.0</td>\n",
       "      <td>32</td>\n",
       "      <td>2</td>\n",
       "      <td>0</td>\n",
       "      <td>1</td>\n",
       "      <td>NaN</td>\n",
       "      <td>31496.5</td>\n",
       "    </tr>\n",
       "    <tr>\n",
       "      <th>15</th>\n",
       "      <td>14</td>\n",
       "      <td>4024</td>\n",
       "      <td>919</td>\n",
       "      <td>14</td>\n",
       "      <td>655.0</td>\n",
       "      <td>32</td>\n",
       "      <td>2</td>\n",
       "      <td>0</td>\n",
       "      <td>1</td>\n",
       "      <td>NaN</td>\n",
       "      <td>54893.9</td>\n",
       "    </tr>\n",
       "    <tr>\n",
       "      <th>21</th>\n",
       "      <td>14</td>\n",
       "      <td>73332</td>\n",
       "      <td>919</td>\n",
       "      <td>3</td>\n",
       "      <td>655.0</td>\n",
       "      <td>32</td>\n",
       "      <td>2</td>\n",
       "      <td>0</td>\n",
       "      <td>1</td>\n",
       "      <td>NaN</td>\n",
       "      <td>3599.6</td>\n",
       "    </tr>\n",
       "    <tr>\n",
       "      <th>...</th>\n",
       "      <td>...</td>\n",
       "      <td>...</td>\n",
       "      <td>...</td>\n",
       "      <td>...</td>\n",
       "      <td>...</td>\n",
       "      <td>...</td>\n",
       "      <td>...</td>\n",
       "      <td>...</td>\n",
       "      <td>...</td>\n",
       "      <td>...</td>\n",
       "      <td>...</td>\n",
       "    </tr>\n",
       "    <tr>\n",
       "      <th>9646</th>\n",
       "      <td>22</td>\n",
       "      <td>9944</td>\n",
       "      <td>301</td>\n",
       "      <td>10</td>\n",
       "      <td>485.0</td>\n",
       "      <td>32</td>\n",
       "      <td>2</td>\n",
       "      <td>0</td>\n",
       "      <td>1</td>\n",
       "      <td>0.900</td>\n",
       "      <td>NaN</td>\n",
       "    </tr>\n",
       "    <tr>\n",
       "      <th>9663</th>\n",
       "      <td>22</td>\n",
       "      <td>84174</td>\n",
       "      <td>473</td>\n",
       "      <td>10</td>\n",
       "      <td>465.0</td>\n",
       "      <td>32</td>\n",
       "      <td>2</td>\n",
       "      <td>0</td>\n",
       "      <td>1</td>\n",
       "      <td>2.628</td>\n",
       "      <td>NaN</td>\n",
       "    </tr>\n",
       "    <tr>\n",
       "      <th>9665</th>\n",
       "      <td>22</td>\n",
       "      <td>61478</td>\n",
       "      <td>831</td>\n",
       "      <td>10</td>\n",
       "      <td>460.0</td>\n",
       "      <td>32</td>\n",
       "      <td>2</td>\n",
       "      <td>0</td>\n",
       "      <td>1</td>\n",
       "      <td>2.490</td>\n",
       "      <td>NaN</td>\n",
       "    </tr>\n",
       "    <tr>\n",
       "      <th>9666</th>\n",
       "      <td>22</td>\n",
       "      <td>34244</td>\n",
       "      <td>831</td>\n",
       "      <td>10</td>\n",
       "      <td>460.0</td>\n",
       "      <td>32</td>\n",
       "      <td>2</td>\n",
       "      <td>0</td>\n",
       "      <td>1</td>\n",
       "      <td>5.190</td>\n",
       "      <td>NaN</td>\n",
       "    </tr>\n",
       "    <tr>\n",
       "      <th>9668</th>\n",
       "      <td>22</td>\n",
       "      <td>58769</td>\n",
       "      <td>239</td>\n",
       "      <td>6</td>\n",
       "      <td>700.0</td>\n",
       "      <td>32</td>\n",
       "      <td>2</td>\n",
       "      <td>0</td>\n",
       "      <td>1</td>\n",
       "      <td>4.250</td>\n",
       "      <td>NaN</td>\n",
       "    </tr>\n",
       "  </tbody>\n",
       "</table>\n",
       "<p>1045 rows × 11 columns</p>\n",
       "</div>"
      ],
      "text/plain": [
       "      CAMPAÑA  ID_FINCA  ID_ZONA  ID_ESTACION  ALTITUD  VARIEDAD  MODO  TIPO   \n",
       "2          14     85579      340            4    520.0        32     2     0  \\\n",
       "3          14     69671      340            4    520.0        32     2     0   \n",
       "13         14     98814      919           14    655.0        32     2     0   \n",
       "15         14      4024      919           14    655.0        32     2     0   \n",
       "21         14     73332      919            3    655.0        32     2     0   \n",
       "...       ...       ...      ...          ...      ...       ...   ...   ...   \n",
       "9646       22      9944      301           10    485.0        32     2     0   \n",
       "9663       22     84174      473           10    465.0        32     2     0   \n",
       "9665       22     61478      831           10    460.0        32     2     0   \n",
       "9666       22     34244      831           10    460.0        32     2     0   \n",
       "9668       22     58769      239            6    700.0        32     2     0   \n",
       "\n",
       "      COLOR  SUPERFICIE  PRODUCCION  \n",
       "2         1         NaN     20978.0  \n",
       "3         1         NaN     40722.0  \n",
       "13        1         NaN     31496.5  \n",
       "15        1         NaN     54893.9  \n",
       "21        1         NaN      3599.6  \n",
       "...     ...         ...         ...  \n",
       "9646      1       0.900         NaN  \n",
       "9663      1       2.628         NaN  \n",
       "9665      1       2.490         NaN  \n",
       "9666      1       5.190         NaN  \n",
       "9668      1       4.250         NaN  \n",
       "\n",
       "[1045 rows x 11 columns]"
      ]
     },
     "execution_count": 80,
     "metadata": {},
     "output_type": "execute_result"
    }
   ],
   "source": [
    "df_train[df_train['VARIEDAD'] == 32]"
   ]
  },
  {
   "cell_type": "code",
   "execution_count": 81,
   "metadata": {},
   "outputs": [
    {
     "data": {
      "text/plain": [
       "VARIEDAD\n",
       "4     1\n",
       "8     2\n",
       "9     2\n",
       "10    1\n",
       "15    2\n",
       "17    2\n",
       "23    2\n",
       "26    2\n",
       "32    2\n",
       "38    1\n",
       "40    2\n",
       "43    2\n",
       "48    2\n",
       "52    2\n",
       "55    2\n",
       "59    2\n",
       "62    1\n",
       "65    2\n",
       "68    2\n",
       "71    1\n",
       "81    2\n",
       "84    2\n",
       "87    2\n",
       "92    1\n",
       "94    2\n",
       "Name: MODO, dtype: int64"
      ]
     },
     "execution_count": 81,
     "metadata": {},
     "output_type": "execute_result"
    }
   ],
   "source": [
    "# Una variedad está asociada a un modo de cultivo?\n",
    "df_train.groupby('VARIEDAD')['MODO'].nunique()"
   ]
  },
  {
   "cell_type": "code",
   "execution_count": 82,
   "metadata": {},
   "outputs": [
    {
     "data": {
      "text/plain": [
       "VARIEDAD\n",
       "4     1\n",
       "8     1\n",
       "9     1\n",
       "10    1\n",
       "15    2\n",
       "17    2\n",
       "23    1\n",
       "26    2\n",
       "32    1\n",
       "38    2\n",
       "40    1\n",
       "43    1\n",
       "48    1\n",
       "52    2\n",
       "55    1\n",
       "59    2\n",
       "62    1\n",
       "65    1\n",
       "68    1\n",
       "71    1\n",
       "81    2\n",
       "84    1\n",
       "87    1\n",
       "92    1\n",
       "94    1\n",
       "Name: TIPO, dtype: int64"
      ]
     },
     "execution_count": 82,
     "metadata": {},
     "output_type": "execute_result"
    }
   ],
   "source": [
    "# Una variedad está asociada a un tipo de cultivo? No\n",
    "df_train.groupby('VARIEDAD')['TIPO'].nunique()"
   ]
  },
  {
   "cell_type": "code",
   "execution_count": 83,
   "metadata": {},
   "outputs": [
    {
     "data": {
      "text/plain": [
       "1"
      ]
     },
     "execution_count": 83,
     "metadata": {},
     "output_type": "execute_result"
    }
   ],
   "source": [
    "# Una variedad está asociada a un color? Si\n",
    "df_train.groupby('VARIEDAD')['COLOR'].nunique().max()"
   ]
  },
  {
   "attachments": {},
   "cell_type": "markdown",
   "metadata": {},
   "source": [
    "Resumen:\n",
    "* Se cultivan un total de 25 variedades de uva\n",
    "* El 95% de la superficie cultivada en los años 20-22 lo acumulan 14 uvas\n",
    "        $$\n",
    "        59,         17,        32,        52,        81,              40,        9,        15,        87,        26,         68,         94,         4,         23, \n",
    "        $$\n",
    "* El 95% de la produccion obtenida en los años 20-21 lo acumulan 14 uvas\n",
    "        $$\n",
    "        59,        32,        17,        52,        81,        40,        87,        15,        26,        9,        94,        68,        23,        8\n",
    "        $$\n",
    "* Cada uva (variedad) se cultiva en parcelas a distintas alturas y distintos suelos\n",
    "* Cada variedad puede tener los dos MODOS de cultivo\n",
    "* La mayoría de las variedades solo tiene un TIPO de cultivo, pero hay 7 que tienen los dos\n",
    "* Cada variedad solo tiene un COLOR"
   ]
  },
  {
   "attachments": {},
   "cell_type": "markdown",
   "metadata": {},
   "source": [
    "### MODO"
   ]
  },
  {
   "attachments": {},
   "cell_type": "markdown",
   "metadata": {},
   "source": [
    "Web:\n",
    "Existen dos modos de cultivo de uvas: el cultivo en espaldera y el cultivo en vaso. \n",
    "\n",
    "El **cultivo en espaldera** implica entrenar las vides en un sistema de alambres y postes para que crezcan en una forma específica, lo que permite un mejor control del crecimiento y una mayor exposición al sol. \n",
    "\n",
    "El **cultivo en vaso**, por otro lado, implica dejar que las vides crezcan naturalmente en un sistema de ramas y troncos sin un sistema de soporte estructural."
   ]
  },
  {
   "cell_type": "code",
   "execution_count": 84,
   "metadata": {},
   "outputs": [
    {
     "data": {
      "text/plain": [
       "MODO\n",
       "1    4710\n",
       "2    4962\n",
       "Name: MODO, dtype: int64"
      ]
     },
     "execution_count": 84,
     "metadata": {},
     "output_type": "execute_result"
    }
   ],
   "source": [
    "# Hay dos modos de cultivo. Ver como se distribuyen en el dataset\n",
    "df_train.groupby('MODO')['MODO'].count()"
   ]
  },
  {
   "cell_type": "code",
   "execution_count": 85,
   "metadata": {},
   "outputs": [
    {
     "name": "stdout",
     "output_type": "stream",
     "text": [
      "Porcentajes de la producción realizadas con modo 1: [0.47, 0.35, 0.38, 0.31, 0.3, 0.3, 0.19, 0.2]\n"
     ]
    }
   ],
   "source": [
    "# Ver cómo se distribuyen los dos modos de cultivo por produccion y por años\n",
    "modo_1 = []\n",
    "modo_2 = []\n",
    "modo_1_porcentaje = []\n",
    "\n",
    "for año_i in range(14,22):\n",
    "    m1 = df_train[df_train['CAMPAÑA'] == año_i].groupby('MODO')['PRODUCCION'].sum().iloc[0]\n",
    "    m2 = df_train[df_train['CAMPAÑA'] == año_i].groupby('MODO')['PRODUCCION'].sum().iloc[1]\n",
    "    modo_1.append(m1)\n",
    "    modo_2.append(m2)\n",
    "    modo_1_porcentaje.append(round(m1/(m1+m2),2))\n",
    "\n",
    "print(\"Porcentajes de la producción realizadas con modo 1:\", modo_1_porcentaje)"
   ]
  },
  {
   "cell_type": "code",
   "execution_count": 86,
   "metadata": {},
   "outputs": [
    {
     "name": "stdout",
     "output_type": "stream",
     "text": [
      "En el año  14 el modo 1 se usó en  14  uvas y el modo 2 se usó en  23  uvas\n",
      "En el año  15 el modo 1 se usó en  14  uvas y el modo 2 se usó en  23  uvas\n",
      "En el año  16 el modo 1 se usó en  14  uvas y el modo 2 se usó en  23  uvas\n",
      "En el año  17 el modo 1 se usó en  14  uvas y el modo 2 se usó en  23  uvas\n",
      "En el año  18 el modo 1 se usó en  14  uvas y el modo 2 se usó en  23  uvas\n",
      "En el año  19 el modo 1 se usó en  14  uvas y el modo 2 se usó en  23  uvas\n",
      "En el año  20 el modo 1 se usó en  14  uvas y el modo 2 se usó en  23  uvas\n",
      "En el año  21 el modo 1 se usó en  14  uvas y el modo 2 se usó en  23  uvas\n",
      "En el año  22 el modo 1 se usó en  14  uvas y el modo 2 se usó en  23  uvas\n"
     ]
    }
   ],
   "source": [
    "# Verificar si el modo de cultivo depende de la uva\n",
    "df_train.loc[df_train['CAMPAÑA'] == 22].groupby('MODO')['ID_FINCA'].count()\n",
    "\n",
    "for i in range(14,23):\n",
    "    print(\"En el año \", i, \"el modo 1 se usó en \", df_train.loc[(df_train['CAMPAÑA'] == 22) & (df_train['MODO'] == 1)]['VARIEDAD'].nunique(), \" uvas\", end = \"\")\n",
    "    print(\" y el modo 2 se usó en \", df_train.loc[(df_train['CAMPAÑA'] == 22) & (df_train['MODO'] == 2)]['VARIEDAD'].nunique(), \" uvas\")"
   ]
  },
  {
   "attachments": {},
   "cell_type": "markdown",
   "metadata": {},
   "source": [
    "Resumen\n",
    "* Se ha ido disminuyendo el modo de cultivo tipo 1 gradualmente hasta llegar a representar un 21% de la produccion en 2022.\n",
    "* El modo 1 solo se usa en 14 uvas mientras que el modo 2 se usó en 23 uvas (de las 25 que existen)"
   ]
  },
  {
   "attachments": {},
   "cell_type": "markdown",
   "metadata": {},
   "source": [
    "### TIPO"
   ]
  },
  {
   "attachments": {},
   "cell_type": "markdown",
   "metadata": {},
   "source": [
    "En cuanto al tipo de cultivo, hay dos tipos principales de uvas: uvas de vino y uvas de mesa. \n",
    "\n",
    "Las **uvas de vino** (0) son cultivadas para producir vino y tienen una piel más gruesa y un sabor más ácido. Dentro de cada tipo, hay muchas variedades diferentes de uvas, cada una con sus propias características únicas.\n",
    "\n",
    "Las **uvas de mesa** (1) son cultivadas principalmente para consumo fresco y se caracterizan por tener una piel delgada y jugosa, y un sabor dulce. "
   ]
  },
  {
   "cell_type": "code",
   "execution_count": 87,
   "metadata": {},
   "outputs": [
    {
     "data": {
      "text/html": [
       "<div>\n",
       "<style scoped>\n",
       "    .dataframe tbody tr th:only-of-type {\n",
       "        vertical-align: middle;\n",
       "    }\n",
       "\n",
       "    .dataframe tbody tr th {\n",
       "        vertical-align: top;\n",
       "    }\n",
       "\n",
       "    .dataframe thead th {\n",
       "        text-align: right;\n",
       "    }\n",
       "</style>\n",
       "<table border=\"1\" class=\"dataframe\">\n",
       "  <thead>\n",
       "    <tr style=\"text-align: right;\">\n",
       "      <th></th>\n",
       "      <th>CAMPAÑA</th>\n",
       "      <th>ID_FINCA</th>\n",
       "      <th>ID_ZONA</th>\n",
       "      <th>ID_ESTACION</th>\n",
       "      <th>ALTITUD</th>\n",
       "      <th>VARIEDAD</th>\n",
       "      <th>MODO</th>\n",
       "      <th>COLOR</th>\n",
       "      <th>SUPERFICIE</th>\n",
       "      <th>PRODUCCION</th>\n",
       "    </tr>\n",
       "    <tr>\n",
       "      <th>TIPO</th>\n",
       "      <th></th>\n",
       "      <th></th>\n",
       "      <th></th>\n",
       "      <th></th>\n",
       "      <th></th>\n",
       "      <th></th>\n",
       "      <th></th>\n",
       "      <th></th>\n",
       "      <th></th>\n",
       "      <th></th>\n",
       "    </tr>\n",
       "  </thead>\n",
       "  <tbody>\n",
       "    <tr>\n",
       "      <th>0</th>\n",
       "      <td>9554</td>\n",
       "      <td>9554</td>\n",
       "      <td>9554</td>\n",
       "      <td>9554</td>\n",
       "      <td>9554</td>\n",
       "      <td>9554</td>\n",
       "      <td>9554</td>\n",
       "      <td>9554</td>\n",
       "      <td>7040</td>\n",
       "      <td>8485</td>\n",
       "    </tr>\n",
       "    <tr>\n",
       "      <th>1</th>\n",
       "      <td>118</td>\n",
       "      <td>118</td>\n",
       "      <td>118</td>\n",
       "      <td>118</td>\n",
       "      <td>118</td>\n",
       "      <td>118</td>\n",
       "      <td>118</td>\n",
       "      <td>118</td>\n",
       "      <td>78</td>\n",
       "      <td>102</td>\n",
       "    </tr>\n",
       "  </tbody>\n",
       "</table>\n",
       "</div>"
      ],
      "text/plain": [
       "      CAMPAÑA  ID_FINCA  ID_ZONA  ID_ESTACION  ALTITUD  VARIEDAD  MODO  COLOR   \n",
       "TIPO                                                                            \n",
       "0        9554      9554     9554         9554     9554      9554  9554   9554  \\\n",
       "1         118       118      118          118      118       118   118    118   \n",
       "\n",
       "      SUPERFICIE  PRODUCCION  \n",
       "TIPO                          \n",
       "0           7040        8485  \n",
       "1             78         102  "
      ]
     },
     "execution_count": 87,
     "metadata": {},
     "output_type": "execute_result"
    }
   ],
   "source": [
    "# Hay dos TIPOS de cultivo. Ver como se distribuyen en el dataset\n",
    "df_train.groupby('TIPO').count()"
   ]
  },
  {
   "cell_type": "code",
   "execution_count": 88,
   "metadata": {},
   "outputs": [
    {
     "data": {
      "text/plain": [
       "[1.0, 0.98, 0.98, 0.99, 0.99, 0.99, 0.99, 0.99, 0.99]"
      ]
     },
     "execution_count": 88,
     "metadata": {},
     "output_type": "execute_result"
    }
   ],
   "source": [
    "# Distribucion por numero de entradas\n",
    "tipo_0 = []\n",
    "tipo_1 = []\n",
    "tipo_0_porcentaje = []\n",
    "\n",
    "for año_i in range(14,23):\n",
    "    t0 = df_train[df_train['CAMPAÑA'] == año_i].groupby('TIPO')['CAMPAÑA'].count().iloc[0]\n",
    "\n",
    "    if len(df_train[df_train['CAMPAÑA'] == año_i].groupby('TIPO')['CAMPAÑA'].count()) == 2:\n",
    "        t1 = df_train[df_train['CAMPAÑA'] == año_i].groupby('TIPO')['CAMPAÑA'].count().iloc[1]\n",
    "    else:\n",
    "        t1 = 0\n",
    "    \n",
    "    tipo_0.append(t0)\n",
    "    tipo_1.append(t1)\n",
    "    tipo_0_porcentaje.append(round(t0/(t0+t1),2))\n",
    "\n",
    "tipo_0_porcentaje"
   ]
  },
  {
   "cell_type": "code",
   "execution_count": 89,
   "metadata": {},
   "outputs": [
    {
     "name": "stdout",
     "output_type": "stream",
     "text": [
      "Porcentaje de ha destinados a uva de mesa en 2022:  0.03\n"
     ]
    }
   ],
   "source": [
    "# Ver cuantas ha hay en 2022 de tipo de mesa\n",
    "m2_mesa = df_train.loc[(df_train['CAMPAÑA'] == 22) & (df_train['TIPO'] == 1)]['SUPERFICIE'].sum()\n",
    "m2_vino = df_train.loc[(df_train['CAMPAÑA'] == 22) & (df_train['TIPO'] == 0)]['SUPERFICIE'].sum()\n",
    "\n",
    "print(\"Porcentaje de ha destinados a uva de mesa en 2022: \", round((m2_mesa/(m2_mesa+m2_vino)),2))"
   ]
  },
  {
   "cell_type": "code",
   "execution_count": 90,
   "metadata": {},
   "outputs": [
    {
     "name": "stdout",
     "output_type": "stream",
     "text": [
      "Porcentaje de ha destinados a uva de mesa en 2021:  3.16\n",
      "Porcentaje de la producción destinados a uva de mesa en 2021:  1.38\n"
     ]
    }
   ],
   "source": [
    "# Comparar ha y produccion\n",
    "m2_mesa = df_train.loc[(df_train['CAMPAÑA'] == 21) & (df_train['TIPO'] == 1)]['SUPERFICIE'].sum()\n",
    "m2_vino = df_train.loc[(df_train['CAMPAÑA'] == 21) & (df_train['TIPO'] == 0)]['SUPERFICIE'].sum()\n",
    "\n",
    "print(\"Porcentaje de ha destinados a uva de mesa en 2021: \", round((m2_mesa/(m2_mesa+m2_vino))*100,2))\n",
    "\n",
    "m2_mesa = df_train.loc[(df_train['CAMPAÑA'] == 21) & (df_train['TIPO'] == 1)]['PRODUCCION'].sum()\n",
    "m2_vino = df_train.loc[(df_train['CAMPAÑA'] == 21) & (df_train['TIPO'] == 0)]['PRODUCCION'].sum()\n",
    "\n",
    "print(\"Porcentaje de la producción destinados a uva de mesa en 2021: \", round((m2_mesa/(m2_mesa+m2_vino))*100,2))"
   ]
  },
  {
   "cell_type": "code",
   "execution_count": 91,
   "metadata": {},
   "outputs": [
    {
     "data": {
      "text/plain": [
       "VARIEDAD\n",
       "4     45\n",
       "52    28\n",
       "59    15\n",
       "81    13\n",
       "26     7\n",
       "15     6\n",
       "17     2\n",
       "38     2\n",
       "Name: VARIEDAD, dtype: int64"
      ]
     },
     "execution_count": 91,
     "metadata": {},
     "output_type": "execute_result"
    }
   ],
   "source": [
    "# Qué tipo de uva suele ser de mesa?\n",
    "df_train[df_train['TIPO']==1].groupby('VARIEDAD')['VARIEDAD'].count().sort_values(ascending=False)"
   ]
  },
  {
   "attachments": {},
   "cell_type": "markdown",
   "metadata": {},
   "source": [
    "Resumen:\n",
    "* Entre el 98 y el 100% de la producción va destinado a tipo 0 (vino)\n",
    "* En 2022, un 97% de la superficie se dedicó a uva de vino\n",
    "* En 2021 un 3.19% de la superficie se dedicó a uva de mesa pero solo un 1.38% de la produccion se decicó a uva de mesa\n",
    "* Solo algunas variedades serán uva de mesa (las 4 mas importantes):\n",
    "    $$\n",
    "    4, 52, 59, 81\n",
    "    $$"
   ]
  },
  {
   "attachments": {},
   "cell_type": "markdown",
   "metadata": {},
   "source": [
    "### COLOR"
   ]
  },
  {
   "cell_type": "code",
   "execution_count": 92,
   "metadata": {},
   "outputs": [
    {
     "name": "stdout",
     "output_type": "stream",
     "text": [
      "Porcentaje de la producción del año  14  destinado a uva de color 1:  89.42\n",
      "Porcentaje de la producción del año  15  destinado a uva de color 1:  89.06\n",
      "Porcentaje de la producción del año  16  destinado a uva de color 1:  90.09\n",
      "Porcentaje de la producción del año  17  destinado a uva de color 1:  87.66\n",
      "Porcentaje de la producción del año  18  destinado a uva de color 1:  87.38\n",
      "Porcentaje de la producción del año  19  destinado a uva de color 1:  86.5\n",
      "Porcentaje de la producción del año  20  destinado a uva de color 1:  84.45\n",
      "Porcentaje de la producción del año  21  destinado a uva de color 1:  81.61\n"
     ]
    }
   ],
   "source": [
    "# Ver la distribucion de uvas por color\n",
    "\n",
    "for año_i in range(14,22):\n",
    "    c0 = df_train.loc[(df_train['CAMPAÑA'] == año_i) & (df_train['COLOR'] == 0)]['PRODUCCION'].sum()\n",
    "    c1 = df_train.loc[(df_train['CAMPAÑA'] == año_i) & (df_train['COLOR'] == 1)]['PRODUCCION'].sum()\n",
    "    print(\"Porcentaje de la producción del año \", año_i, \" destinado a uva de color 1: \", round((c1/(c1 + c0))*100,2))"
   ]
  },
  {
   "attachments": {},
   "cell_type": "markdown",
   "metadata": {},
   "source": [
    "Resumen:\n",
    "* Como ya se dijo, cada variedad tienen un unico color\n",
    "* Se cultiva más uva de color 1\n",
    "* Aún así, el porcentaje de uva de color 1 ha ido descendiendo en los último 3 años"
   ]
  },
  {
   "attachments": {},
   "cell_type": "markdown",
   "metadata": {},
   "source": [
    "### Visualizacion \n",
    "\n",
    "Visualizar los datos para  buscar patrones"
   ]
  },
  {
   "attachments": {},
   "cell_type": "markdown",
   "metadata": {},
   "source": [
    "#### SUPERFICIE Y PRODUCCION"
   ]
  },
  {
   "cell_type": "code",
   "execution_count": 94,
   "metadata": {},
   "outputs": [
    {
     "data": {
      "text/html": [
       "<div>\n",
       "<style scoped>\n",
       "    .dataframe tbody tr th:only-of-type {\n",
       "        vertical-align: middle;\n",
       "    }\n",
       "\n",
       "    .dataframe tbody tr th {\n",
       "        vertical-align: top;\n",
       "    }\n",
       "\n",
       "    .dataframe thead th {\n",
       "        text-align: right;\n",
       "    }\n",
       "</style>\n",
       "<table border=\"1\" class=\"dataframe\">\n",
       "  <thead>\n",
       "    <tr style=\"text-align: right;\">\n",
       "      <th></th>\n",
       "      <th>CAMPAÑA</th>\n",
       "      <th>ID_FINCA</th>\n",
       "      <th>ID_ZONA</th>\n",
       "      <th>ID_ESTACION</th>\n",
       "      <th>ALTITUD</th>\n",
       "      <th>VARIEDAD</th>\n",
       "      <th>MODO</th>\n",
       "      <th>TIPO</th>\n",
       "      <th>COLOR</th>\n",
       "      <th>SUPERFICIE</th>\n",
       "      <th>PRODUCCION</th>\n",
       "    </tr>\n",
       "  </thead>\n",
       "  <tbody>\n",
       "    <tr>\n",
       "      <th>6525</th>\n",
       "      <td>20</td>\n",
       "      <td>48626</td>\n",
       "      <td>302</td>\n",
       "      <td>13</td>\n",
       "      <td>600.0</td>\n",
       "      <td>32</td>\n",
       "      <td>2</td>\n",
       "      <td>0</td>\n",
       "      <td>1</td>\n",
       "      <td>3.7503</td>\n",
       "      <td>19511.107</td>\n",
       "    </tr>\n",
       "    <tr>\n",
       "      <th>6526</th>\n",
       "      <td>20</td>\n",
       "      <td>47921</td>\n",
       "      <td>302</td>\n",
       "      <td>13</td>\n",
       "      <td>600.0</td>\n",
       "      <td>32</td>\n",
       "      <td>2</td>\n",
       "      <td>0</td>\n",
       "      <td>1</td>\n",
       "      <td>7.3735</td>\n",
       "      <td>38678.893</td>\n",
       "    </tr>\n",
       "    <tr>\n",
       "      <th>6527</th>\n",
       "      <td>20</td>\n",
       "      <td>5696</td>\n",
       "      <td>919</td>\n",
       "      <td>14</td>\n",
       "      <td>655.0</td>\n",
       "      <td>59</td>\n",
       "      <td>1</td>\n",
       "      <td>0</td>\n",
       "      <td>1</td>\n",
       "      <td>7.6200</td>\n",
       "      <td>7092.800</td>\n",
       "    </tr>\n",
       "  </tbody>\n",
       "</table>\n",
       "</div>"
      ],
      "text/plain": [
       "      CAMPAÑA  ID_FINCA  ID_ZONA  ID_ESTACION  ALTITUD  VARIEDAD  MODO  TIPO   \n",
       "6525       20     48626      302           13    600.0        32     2     0  \\\n",
       "6526       20     47921      302           13    600.0        32     2     0   \n",
       "6527       20      5696      919           14    655.0        59     1     0   \n",
       "\n",
       "      COLOR  SUPERFICIE  PRODUCCION  \n",
       "6525      1      3.7503   19511.107  \n",
       "6526      1      7.3735   38678.893  \n",
       "6527      1      7.6200    7092.800  "
      ]
     },
     "execution_count": 94,
     "metadata": {},
     "output_type": "execute_result"
    }
   ],
   "source": [
    "# Correlacion entre tamaño de parcela y produccion? años 2020 - 2021\n",
    "df_train_mod = df_train.loc[df_train['CAMPAÑA'].isin([20,21])].copy(deep=True)\n",
    "df_train_mod = df_train_mod.dropna(subset=['SUPERFICIE'])\n",
    "df_train_mod.head(3)"
   ]
  },
  {
   "cell_type": "code",
   "execution_count": 95,
   "metadata": {},
   "outputs": [
    {
     "data": {
      "image/png": "[encoded data removed]",
      "text/plain": [
       "<Figure size 640x480 with 1 Axes>"
      ]
     },
     "metadata": {},
     "output_type": "display_data"
    }
   ],
   "source": [
    "# Buscar relacion entre superficie y produccion\n",
    "x = df_train_mod['SUPERFICIE']\n",
    "y = df_train_mod['PRODUCCION']\n",
    "\n",
    "\n",
    "r = np.corrcoef(x, y)[0, 1]\n",
    "m, b = np.polyfit(x, y, 1)\n",
    "regression_line = m * x + b\n",
    "\n",
    "plt.scatter(x, y)\n",
    "plt.plot(x, regression_line, color='red')\n",
    "plt.title(f'Coeficiente de correlación: {r:.2f}')\n",
    "plt.xlabel('Superficie')\n",
    "plt.ylabel('Produccion')\n",
    "plt.show()\n"
   ]
  },
  {
   "cell_type": "code",
   "execution_count": 96,
   "metadata": {},
   "outputs": [
    {
     "data": {
      "image/png": "[encoded data removed]",
      "text/plain": [
       "<Figure size 640x480 with 2 Axes>"
      ]
     },
     "metadata": {},
     "output_type": "display_data"
    }
   ],
   "source": [
    "# Buscar relacion entre superficie y produccion por año (minimizar el efecto clima, suponiendo que no sea tan distinto entre parcelas)\n",
    "\n",
    "for i in range(2):\n",
    "    año_i = 20 + i\n",
    "    x = df_train_mod.loc[df_train_mod['CAMPAÑA'] == año_i]['SUPERFICIE']\n",
    "    y = df_train_mod.loc[df_train_mod['CAMPAÑA'] == año_i]['PRODUCCION']\n",
    "     \n",
    "    r = np.corrcoef(x, y)[0, 1]\n",
    "    m, b = np.polyfit(x, y, 1)\n",
    "    regression_line = m * x + b\n",
    "\n",
    "    # graficar datos y regresión lineal\n",
    "    plt.subplot(1, 2, i+1)\n",
    "    plt.scatter(x, y)\n",
    "    plt.plot(x, regression_line, color='red')\n",
    "    plt.title(f'Año {año_i}\\nCorrelation Coefficient: {r:.2f}')\n",
    "    plt.xlabel('Superficie')\n",
    "    plt.ylabel('Producción')\n",
    "\n",
    "# mostrar gráficas resultantes\n",
    "plt.tight_layout()\n",
    "plt.show()"
   ]
  },
  {
   "attachments": {},
   "cell_type": "markdown",
   "metadata": {},
   "source": [
    "No encuentro patrones claros entre superficie y produccion. Esto seguramente es porque hay más variables endógenas (variedad, id_zona...) y exógenas (clima).\n"
   ]
  },
  {
   "attachments": {},
   "cell_type": "markdown",
   "metadata": {},
   "source": [
    "#### VARIEDAD Y PRODUCCION POR ha"
   ]
  },
  {
   "cell_type": "code",
   "execution_count": 97,
   "metadata": {},
   "outputs": [
    {
     "data": {
      "text/plain": [
       "count      2029.000000\n",
       "mean       4661.234780\n",
       "std        3842.519648\n",
       "min           7.216080\n",
       "25%        2349.129155\n",
       "50%        4155.089311\n",
       "75%        6320.712023\n",
       "max      115879.166667\n",
       "Name: Kgxha, dtype: float64"
      ]
     },
     "execution_count": 97,
     "metadata": {},
     "output_type": "execute_result"
    }
   ],
   "source": [
    "# Entender si hay uvas que dan mas produccion que otras por si vale la pena clusterizar por tipo de uva: crear boxplots\n",
    "df_train_mod['Kgxha'] = df_train_mod['PRODUCCION']/df_train_mod['SUPERFICIE']\n",
    "df_train_mod['Kgxha'].describe()"
   ]
  },
  {
   "cell_type": "code",
   "execution_count": 99,
   "metadata": {},
   "outputs": [
    {
     "data": {
      "text/html": [
       "<div>\n",
       "<style scoped>\n",
       "    .dataframe tbody tr th:only-of-type {\n",
       "        vertical-align: middle;\n",
       "    }\n",
       "\n",
       "    .dataframe tbody tr th {\n",
       "        vertical-align: top;\n",
       "    }\n",
       "\n",
       "    .dataframe thead th {\n",
       "        text-align: right;\n",
       "    }\n",
       "</style>\n",
       "<table border=\"1\" class=\"dataframe\">\n",
       "  <thead>\n",
       "    <tr style=\"text-align: right;\">\n",
       "      <th></th>\n",
       "      <th>CAMPAÑA</th>\n",
       "      <th>ID_FINCA</th>\n",
       "      <th>ID_ZONA</th>\n",
       "      <th>ID_ESTACION</th>\n",
       "      <th>ALTITUD</th>\n",
       "      <th>VARIEDAD</th>\n",
       "      <th>MODO</th>\n",
       "      <th>TIPO</th>\n",
       "      <th>COLOR</th>\n",
       "      <th>SUPERFICIE</th>\n",
       "      <th>PRODUCCION</th>\n",
       "      <th>Kgxha</th>\n",
       "    </tr>\n",
       "  </thead>\n",
       "  <tbody>\n",
       "    <tr>\n",
       "      <th>7141</th>\n",
       "      <td>20</td>\n",
       "      <td>3579</td>\n",
       "      <td>449</td>\n",
       "      <td>12</td>\n",
       "      <td>625.0</td>\n",
       "      <td>32</td>\n",
       "      <td>2</td>\n",
       "      <td>0</td>\n",
       "      <td>1</td>\n",
       "      <td>0.00072</td>\n",
       "      <td>83.433</td>\n",
       "      <td>115879.166667</td>\n",
       "    </tr>\n",
       "    <tr>\n",
       "      <th>7592</th>\n",
       "      <td>21</td>\n",
       "      <td>13802</td>\n",
       "      <td>464</td>\n",
       "      <td>3</td>\n",
       "      <td>655.0</td>\n",
       "      <td>59</td>\n",
       "      <td>2</td>\n",
       "      <td>0</td>\n",
       "      <td>1</td>\n",
       "      <td>0.20670</td>\n",
       "      <td>4440.000</td>\n",
       "      <td>21480.406386</td>\n",
       "    </tr>\n",
       "  </tbody>\n",
       "</table>\n",
       "</div>"
      ],
      "text/plain": [
       "      CAMPAÑA  ID_FINCA  ID_ZONA  ID_ESTACION  ALTITUD  VARIEDAD  MODO  TIPO   \n",
       "7141       20      3579      449           12    625.0        32     2     0  \\\n",
       "7592       21     13802      464            3    655.0        59     2     0   \n",
       "\n",
       "      COLOR  SUPERFICIE  PRODUCCION          Kgxha  \n",
       "7141      1     0.00072      83.433  115879.166667  \n",
       "7592      1     0.20670    4440.000   21480.406386  "
      ]
     },
     "execution_count": 99,
     "metadata": {},
     "output_type": "execute_result"
    }
   ],
   "source": [
    "# Ver qué casos tienen una produccion superior a 20.000kg/ha\n",
    "df_train_mod[df_train_mod['Kgxha'] > 20000]"
   ]
  },
  {
   "cell_type": "code",
   "execution_count": 100,
   "metadata": {},
   "outputs": [
    {
     "data": {
      "image/png": "[encoded data removed]",
      "text/plain": [
       "<Figure size 640x480 with 1 Axes>"
      ]
     },
     "metadata": {},
     "output_type": "display_data"
    }
   ],
   "source": [
    "th = 15000\n",
    "df_produccionxha = df_train_mod.loc[df_train_mod['Kgxha'] < th, ['Kgxha']]\n",
    "plt.hist(df_produccionxha, bins=20)\n",
    "plt.xlabel('Kg por ha (producción por unidad de superficie)')\n",
    "plt.ylabel('Frecuencia')\n",
    "plt.title('Histograma')\n",
    "plt.show()"
   ]
  },
  {
   "cell_type": "code",
   "execution_count": 101,
   "metadata": {},
   "outputs": [
    {
     "data": {
      "image/png": "[encoded data removed]",
      "text/plain": [
       "<Figure size 3000x600 with 10 Axes>"
      ]
     },
     "metadata": {},
     "output_type": "display_data"
    }
   ],
   "source": [
    "# variedad_top = [59, 17, 32, 52, 81, 40, 9, 15, 87, 26, 68, 94, 4, 23]\n",
    "variedad_top = [59, 17, 32, 52, 81, 40, 9, 15, 87, 26]\n",
    "\n",
    "plt.figure(figsize=(30, 6))\n",
    "\n",
    "for i in range(len(variedad_top)):\n",
    "    x = df_train_mod.loc[df_train_mod['VARIEDAD'] == variedad_top[i]]['Kgxha']\n",
    "    media = x.mean()\n",
    "    # graficar datos y regresión lineal\n",
    "    plt.subplot(1, len(variedad_top), i+1)\n",
    "    plt.boxplot(x)\n",
    "    plt.title(f'Var: {variedad_top[i]}')\n",
    "    plt.ylim(0, 20000)\n",
    "    plt.yticks(ticks=[], labels=[])\n",
    "    # plt.ylabel('Valor')\n",
    "    plt.text(1, media, f'Media: {media:.2f}', fontsize=10, color='red')\n",
    "\n",
    "# mostrar gráficas resultantes\n",
    "# plt.tight_layout()\n",
    "plt.show()"
   ]
  },
  {
   "attachments": {},
   "cell_type": "markdown",
   "metadata": {},
   "source": [
    "Cada uva tiene una media y una varianza de la produccion por ha bastante diferente, pero también hay bastante dispersión."
   ]
  },
  {
   "attachments": {},
   "cell_type": "markdown",
   "metadata": {},
   "source": [
    "#### VARIEDAD, PRODUCCION POR ha Y MODO"
   ]
  },
  {
   "cell_type": "code",
   "execution_count": 102,
   "metadata": {},
   "outputs": [
    {
     "data": {
      "image/png": "[encoded data removed]",
      "text/plain": [
       "<Figure size 3000x600 with 12 Axes>"
      ]
     },
     "metadata": {},
     "output_type": "display_data"
    }
   ],
   "source": [
    "# Entender si hay uvas que dan mas produccion DEPENDIENDO DEL MODO (1 ó 2)\n",
    "# variedad_top = [59, 17, 32, 52, 81, 40, 9, 15, 87, 26, 68, 94, 4, 23]\n",
    "variedad_top = [59, 17, 32, 52, 81, 40]\n",
    "\n",
    "plt.figure(figsize=(30, 6))\n",
    "\n",
    "for i in range(len(variedad_top)):\n",
    "    x = df_train_mod.loc[(df_train_mod['VARIEDAD'] == variedad_top[i]) & (df_train_mod['MODO'] == 1)]['Kgxha']\n",
    "    media = x.mean()\n",
    "    # graficar datos y regresión lineal\n",
    "    plt.subplot(2, len(variedad_top), i+1)\n",
    "    plt.boxplot(x)\n",
    "    plt.title(f'Var: {variedad_top[i]}')\n",
    "    plt.ylim(0, 20000)\n",
    "    plt.yticks(ticks=[], labels=[])\n",
    "    plt.text(1, media, f'Media: {media:.2f}', fontsize=10, color='red')\n",
    "\n",
    "for i in range(len(variedad_top)):\n",
    "    x = df_train_mod.loc[(df_train_mod['VARIEDAD'] == variedad_top[i]) & (df_train_mod['MODO'] == 2)]['Kgxha']\n",
    "    media = x.mean()\n",
    "    # graficar datos y regresión lineal\n",
    "    plt.subplot(2, len(variedad_top), i+1+len(variedad_top))\n",
    "    plt.boxplot(x)\n",
    "    plt.title(f'Var: {variedad_top[i]}')\n",
    "    plt.ylim(0, 20000)\n",
    "    plt.yticks(ticks=[], labels=[])\n",
    "    plt.text(1, media, f'Media: {media:.2f}', fontsize=10, color='red')\n",
    "\n",
    "plt.subplots_adjust(hspace=0.4)\n",
    "plt.show()"
   ]
  },
  {
   "attachments": {},
   "cell_type": "markdown",
   "metadata": {},
   "source": [
    "Se ven diferencias enormes en la media de la producción entre el modo de cultivo 1 y el 2. \n",
    "\n",
    "Web: \n",
    "* En promedio, los viñedos con sistema de espaldera pueden producir entre 10.000 y 20.000 kilos de uva por hectárea, mientras que los viñedos con sistema de vaso pueden producir entre 5.000 y 10.000 kilos de uva por hectárea.\n",
    "\n",
    "Se mantienen las diferencias entre uvas."
   ]
  },
  {
   "attachments": {},
   "cell_type": "markdown",
   "metadata": {},
   "source": [
    "#### IMPACTO DEL TIPO DE SUELO"
   ]
  },
  {
   "cell_type": "code",
   "execution_count": 103,
   "metadata": {},
   "outputs": [
    {
     "data": {
      "text/plain": [
       "count    106.000000\n",
       "mean      19.141509\n",
       "std       21.163058\n",
       "min        1.000000\n",
       "25%        4.000000\n",
       "50%       11.500000\n",
       "75%       27.750000\n",
       "max      125.000000\n",
       "Name: CAMPAÑA, dtype: float64"
      ]
     },
     "execution_count": 103,
     "metadata": {},
     "output_type": "execute_result"
    }
   ],
   "source": [
    "df_train_mod.groupby('ID_ZONA')['CAMPAÑA'].count().describe()"
   ]
  },
  {
   "cell_type": "code",
   "execution_count": 104,
   "metadata": {},
   "outputs": [
    {
     "data": {
      "text/plain": [
       "ID_ZONA\n",
       "7       53565.6090\n",
       "36     176980.0000\n",
       "41      77734.5220\n",
       "44     116830.0000\n",
       "47     388939.5920\n",
       "          ...     \n",
       "966     24780.0000\n",
       "973     41917.1520\n",
       "983    201523.5010\n",
       "987     93375.9684\n",
       "990     53020.0000\n",
       "Name: PRODUCCION, Length: 106, dtype: float64"
      ]
     },
     "execution_count": 104,
     "metadata": {},
     "output_type": "execute_result"
    }
   ],
   "source": [
    "df_zona_prod = df_train_mod.groupby('ID_ZONA')['PRODUCCION'].sum()\n",
    "df_zona_prod"
   ]
  },
  {
   "cell_type": "code",
   "execution_count": 105,
   "metadata": {},
   "outputs": [
    {
     "data": {
      "text/plain": [
       "ID_ZONA\n",
       "7       11.1316\n",
       "36      50.9954\n",
       "41      12.3000\n",
       "44      31.9387\n",
       "47     106.4212\n",
       "         ...   \n",
       "966      3.7000\n",
       "973     10.0278\n",
       "983     23.3848\n",
       "987     15.2244\n",
       "990     13.8743\n",
       "Name: SUPERFICIE, Length: 106, dtype: float64"
      ]
     },
     "execution_count": 105,
     "metadata": {},
     "output_type": "execute_result"
    }
   ],
   "source": [
    "df_zona_superf = df_train_mod.groupby('ID_ZONA')['SUPERFICIE'].sum()\n",
    "df_zona_superf"
   ]
  },
  {
   "cell_type": "code",
   "execution_count": 106,
   "metadata": {},
   "outputs": [
    {
     "data": {
      "text/plain": [
       "ID_ZONA\n",
       "7      4812.031424\n",
       "36     3470.509105\n",
       "41     6319.879837\n",
       "44     3657.944750\n",
       "47     3654.719097\n",
       "          ...     \n",
       "966    6697.297297\n",
       "973    4180.094537\n",
       "983    8617.713258\n",
       "987    6133.310239\n",
       "990    3821.454055\n",
       "Length: 106, dtype: float64"
      ]
     },
     "execution_count": 106,
     "metadata": {},
     "output_type": "execute_result"
    }
   ],
   "source": [
    "df_zon_Kgxha = df_zona_prod / df_zona_superf\n",
    "df_zon_Kgxha"
   ]
  },
  {
   "cell_type": "code",
   "execution_count": 107,
   "metadata": {},
   "outputs": [
    {
     "data": {
      "image/png": "[encoded data removed]",
      "text/plain": [
       "<Figure size 640x480 with 1 Axes>"
      ]
     },
     "metadata": {},
     "output_type": "display_data"
    }
   ],
   "source": [
    "plt.hist(df_zon_Kgxha, bins=30)\n",
    "plt.show()"
   ]
  },
  {
   "cell_type": "code",
   "execution_count": 108,
   "metadata": {},
   "outputs": [
    {
     "data": {
      "text/plain": [
       "ID_ZONA\n",
       "239     9788.820894\n",
       "389    13638.712535\n",
       "dtype: float64"
      ]
     },
     "execution_count": 108,
     "metadata": {},
     "output_type": "execute_result"
    }
   ],
   "source": [
    "# Parece que hay suelos con una media de produccion por ha muy baja y otros muy alta\n",
    "# Vamos a analizar las zonas con alta produccion por ha\n",
    "df_zon_Kgxha.loc[df_zon_Kgxha > 9000]"
   ]
  },
  {
   "cell_type": "code",
   "execution_count": 109,
   "metadata": {},
   "outputs": [
    {
     "data": {
      "text/html": [
       "<div>\n",
       "<style scoped>\n",
       "    .dataframe tbody tr th:only-of-type {\n",
       "        vertical-align: middle;\n",
       "    }\n",
       "\n",
       "    .dataframe tbody tr th {\n",
       "        vertical-align: top;\n",
       "    }\n",
       "\n",
       "    .dataframe thead th {\n",
       "        text-align: right;\n",
       "    }\n",
       "</style>\n",
       "<table border=\"1\" class=\"dataframe\">\n",
       "  <thead>\n",
       "    <tr style=\"text-align: right;\">\n",
       "      <th></th>\n",
       "      <th>CAMPAÑA</th>\n",
       "      <th>ID_FINCA</th>\n",
       "      <th>ID_ZONA</th>\n",
       "      <th>ID_ESTACION</th>\n",
       "      <th>ALTITUD</th>\n",
       "      <th>VARIEDAD</th>\n",
       "      <th>MODO</th>\n",
       "      <th>TIPO</th>\n",
       "      <th>COLOR</th>\n",
       "      <th>SUPERFICIE</th>\n",
       "      <th>PRODUCCION</th>\n",
       "      <th>Kgxha</th>\n",
       "    </tr>\n",
       "  </thead>\n",
       "  <tbody>\n",
       "    <tr>\n",
       "      <th>7528</th>\n",
       "      <td>20</td>\n",
       "      <td>37461</td>\n",
       "      <td>239</td>\n",
       "      <td>6</td>\n",
       "      <td>700.0</td>\n",
       "      <td>52</td>\n",
       "      <td>2</td>\n",
       "      <td>0</td>\n",
       "      <td>1</td>\n",
       "      <td>3.680</td>\n",
       "      <td>28468.3</td>\n",
       "      <td>7735.951087</td>\n",
       "    </tr>\n",
       "    <tr>\n",
       "      <th>7529</th>\n",
       "      <td>20</td>\n",
       "      <td>58769</td>\n",
       "      <td>239</td>\n",
       "      <td>6</td>\n",
       "      <td>700.0</td>\n",
       "      <td>32</td>\n",
       "      <td>2</td>\n",
       "      <td>0</td>\n",
       "      <td>1</td>\n",
       "      <td>4.250</td>\n",
       "      <td>38480.0</td>\n",
       "      <td>9054.117647</td>\n",
       "    </tr>\n",
       "    <tr>\n",
       "      <th>7530</th>\n",
       "      <td>20</td>\n",
       "      <td>58769</td>\n",
       "      <td>239</td>\n",
       "      <td>6</td>\n",
       "      <td>700.0</td>\n",
       "      <td>59</td>\n",
       "      <td>2</td>\n",
       "      <td>0</td>\n",
       "      <td>1</td>\n",
       "      <td>4.160</td>\n",
       "      <td>39380.0</td>\n",
       "      <td>9466.346154</td>\n",
       "    </tr>\n",
       "    <tr>\n",
       "      <th>7531</th>\n",
       "      <td>20</td>\n",
       "      <td>88928</td>\n",
       "      <td>239</td>\n",
       "      <td>6</td>\n",
       "      <td>700.0</td>\n",
       "      <td>40</td>\n",
       "      <td>2</td>\n",
       "      <td>0</td>\n",
       "      <td>1</td>\n",
       "      <td>4.750</td>\n",
       "      <td>53060.0</td>\n",
       "      <td>11170.526316</td>\n",
       "    </tr>\n",
       "    <tr>\n",
       "      <th>7532</th>\n",
       "      <td>20</td>\n",
       "      <td>88928</td>\n",
       "      <td>239</td>\n",
       "      <td>6</td>\n",
       "      <td>700.0</td>\n",
       "      <td>52</td>\n",
       "      <td>2</td>\n",
       "      <td>0</td>\n",
       "      <td>1</td>\n",
       "      <td>1.462</td>\n",
       "      <td>14021.7</td>\n",
       "      <td>9590.766074</td>\n",
       "    </tr>\n",
       "    <tr>\n",
       "      <th>8582</th>\n",
       "      <td>21</td>\n",
       "      <td>37461</td>\n",
       "      <td>239</td>\n",
       "      <td>6</td>\n",
       "      <td>700.0</td>\n",
       "      <td>52</td>\n",
       "      <td>2</td>\n",
       "      <td>0</td>\n",
       "      <td>1</td>\n",
       "      <td>3.680</td>\n",
       "      <td>28160.1</td>\n",
       "      <td>7652.201087</td>\n",
       "    </tr>\n",
       "    <tr>\n",
       "      <th>8583</th>\n",
       "      <td>21</td>\n",
       "      <td>58769</td>\n",
       "      <td>239</td>\n",
       "      <td>6</td>\n",
       "      <td>700.0</td>\n",
       "      <td>32</td>\n",
       "      <td>2</td>\n",
       "      <td>0</td>\n",
       "      <td>1</td>\n",
       "      <td>4.250</td>\n",
       "      <td>41310.0</td>\n",
       "      <td>9720.000000</td>\n",
       "    </tr>\n",
       "    <tr>\n",
       "      <th>8584</th>\n",
       "      <td>21</td>\n",
       "      <td>58769</td>\n",
       "      <td>239</td>\n",
       "      <td>6</td>\n",
       "      <td>700.0</td>\n",
       "      <td>59</td>\n",
       "      <td>2</td>\n",
       "      <td>0</td>\n",
       "      <td>1</td>\n",
       "      <td>4.160</td>\n",
       "      <td>45420.0</td>\n",
       "      <td>10918.269231</td>\n",
       "    </tr>\n",
       "    <tr>\n",
       "      <th>8585</th>\n",
       "      <td>21</td>\n",
       "      <td>88928</td>\n",
       "      <td>239</td>\n",
       "      <td>6</td>\n",
       "      <td>700.0</td>\n",
       "      <td>40</td>\n",
       "      <td>2</td>\n",
       "      <td>0</td>\n",
       "      <td>1</td>\n",
       "      <td>4.750</td>\n",
       "      <td>56140.0</td>\n",
       "      <td>11818.947368</td>\n",
       "    </tr>\n",
       "    <tr>\n",
       "      <th>8586</th>\n",
       "      <td>21</td>\n",
       "      <td>88928</td>\n",
       "      <td>239</td>\n",
       "      <td>6</td>\n",
       "      <td>700.0</td>\n",
       "      <td>52</td>\n",
       "      <td>2</td>\n",
       "      <td>0</td>\n",
       "      <td>1</td>\n",
       "      <td>1.462</td>\n",
       "      <td>13869.9</td>\n",
       "      <td>9486.935705</td>\n",
       "    </tr>\n",
       "  </tbody>\n",
       "</table>\n",
       "</div>"
      ],
      "text/plain": [
       "      CAMPAÑA  ID_FINCA  ID_ZONA  ID_ESTACION  ALTITUD  VARIEDAD  MODO  TIPO   \n",
       "7528       20     37461      239            6    700.0        52     2     0  \\\n",
       "7529       20     58769      239            6    700.0        32     2     0   \n",
       "7530       20     58769      239            6    700.0        59     2     0   \n",
       "7531       20     88928      239            6    700.0        40     2     0   \n",
       "7532       20     88928      239            6    700.0        52     2     0   \n",
       "8582       21     37461      239            6    700.0        52     2     0   \n",
       "8583       21     58769      239            6    700.0        32     2     0   \n",
       "8584       21     58769      239            6    700.0        59     2     0   \n",
       "8585       21     88928      239            6    700.0        40     2     0   \n",
       "8586       21     88928      239            6    700.0        52     2     0   \n",
       "\n",
       "      COLOR  SUPERFICIE  PRODUCCION         Kgxha  \n",
       "7528      1       3.680     28468.3   7735.951087  \n",
       "7529      1       4.250     38480.0   9054.117647  \n",
       "7530      1       4.160     39380.0   9466.346154  \n",
       "7531      1       4.750     53060.0  11170.526316  \n",
       "7532      1       1.462     14021.7   9590.766074  \n",
       "8582      1       3.680     28160.1   7652.201087  \n",
       "8583      1       4.250     41310.0   9720.000000  \n",
       "8584      1       4.160     45420.0  10918.269231  \n",
       "8585      1       4.750     56140.0  11818.947368  \n",
       "8586      1       1.462     13869.9   9486.935705  "
      ]
     },
     "execution_count": 109,
     "metadata": {},
     "output_type": "execute_result"
    }
   ],
   "source": [
    "zona_i = 239\n",
    "df_train_mod.loc[df_train_mod['ID_ZONA'] == zona_i]"
   ]
  },
  {
   "cell_type": "code",
   "execution_count": 110,
   "metadata": {},
   "outputs": [
    {
     "data": {
      "text/html": [
       "<div>\n",
       "<style scoped>\n",
       "    .dataframe tbody tr th:only-of-type {\n",
       "        vertical-align: middle;\n",
       "    }\n",
       "\n",
       "    .dataframe tbody tr th {\n",
       "        vertical-align: top;\n",
       "    }\n",
       "\n",
       "    .dataframe thead th {\n",
       "        text-align: right;\n",
       "    }\n",
       "</style>\n",
       "<table border=\"1\" class=\"dataframe\">\n",
       "  <thead>\n",
       "    <tr style=\"text-align: right;\">\n",
       "      <th></th>\n",
       "      <th>CAMPAÑA</th>\n",
       "      <th>ID_FINCA</th>\n",
       "      <th>ID_ZONA</th>\n",
       "      <th>ID_ESTACION</th>\n",
       "      <th>ALTITUD</th>\n",
       "      <th>VARIEDAD</th>\n",
       "      <th>MODO</th>\n",
       "      <th>TIPO</th>\n",
       "      <th>COLOR</th>\n",
       "      <th>SUPERFICIE</th>\n",
       "      <th>PRODUCCION</th>\n",
       "      <th>Kgxha</th>\n",
       "    </tr>\n",
       "  </thead>\n",
       "  <tbody>\n",
       "    <tr>\n",
       "      <th>7420</th>\n",
       "      <td>20</td>\n",
       "      <td>17977</td>\n",
       "      <td>389</td>\n",
       "      <td>9</td>\n",
       "      <td>470.0</td>\n",
       "      <td>92</td>\n",
       "      <td>1</td>\n",
       "      <td>0</td>\n",
       "      <td>0</td>\n",
       "      <td>1.3546</td>\n",
       "      <td>17690.0</td>\n",
       "      <td>13059.205670</td>\n",
       "    </tr>\n",
       "    <tr>\n",
       "      <th>8475</th>\n",
       "      <td>21</td>\n",
       "      <td>17977</td>\n",
       "      <td>389</td>\n",
       "      <td>9</td>\n",
       "      <td>470.0</td>\n",
       "      <td>92</td>\n",
       "      <td>1</td>\n",
       "      <td>0</td>\n",
       "      <td>0</td>\n",
       "      <td>1.3546</td>\n",
       "      <td>19260.0</td>\n",
       "      <td>14218.219401</td>\n",
       "    </tr>\n",
       "  </tbody>\n",
       "</table>\n",
       "</div>"
      ],
      "text/plain": [
       "      CAMPAÑA  ID_FINCA  ID_ZONA  ID_ESTACION  ALTITUD  VARIEDAD  MODO  TIPO   \n",
       "7420       20     17977      389            9    470.0        92     1     0  \\\n",
       "8475       21     17977      389            9    470.0        92     1     0   \n",
       "\n",
       "      COLOR  SUPERFICIE  PRODUCCION         Kgxha  \n",
       "7420      0      1.3546     17690.0  13059.205670  \n",
       "8475      0      1.3546     19260.0  14218.219401  "
      ]
     },
     "execution_count": 110,
     "metadata": {},
     "output_type": "execute_result"
    }
   ],
   "source": [
    "zona_i = 389\n",
    "df_train_mod.loc[df_train_mod['ID_ZONA'] == zona_i]"
   ]
  },
  {
   "cell_type": "code",
   "execution_count": 111,
   "metadata": {},
   "outputs": [
    {
     "data": {
      "text/plain": [
       "ID_ZONA\n",
       "548    290.004133\n",
       "559    592.592593\n",
       "dtype: float64"
      ]
     },
     "execution_count": 111,
     "metadata": {},
     "output_type": "execute_result"
    }
   ],
   "source": [
    "# Vamos a analizar las zonas con baja produccion por ha\n",
    "df_zon_Kgxha.loc[df_zon_Kgxha < 1000]\n"
   ]
  },
  {
   "cell_type": "code",
   "execution_count": 112,
   "metadata": {},
   "outputs": [
    {
     "data": {
      "text/html": [
       "<div>\n",
       "<style scoped>\n",
       "    .dataframe tbody tr th:only-of-type {\n",
       "        vertical-align: middle;\n",
       "    }\n",
       "\n",
       "    .dataframe tbody tr th {\n",
       "        vertical-align: top;\n",
       "    }\n",
       "\n",
       "    .dataframe thead th {\n",
       "        text-align: right;\n",
       "    }\n",
       "</style>\n",
       "<table border=\"1\" class=\"dataframe\">\n",
       "  <thead>\n",
       "    <tr style=\"text-align: right;\">\n",
       "      <th></th>\n",
       "      <th>CAMPAÑA</th>\n",
       "      <th>ID_FINCA</th>\n",
       "      <th>ID_ZONA</th>\n",
       "      <th>ID_ESTACION</th>\n",
       "      <th>ALTITUD</th>\n",
       "      <th>VARIEDAD</th>\n",
       "      <th>MODO</th>\n",
       "      <th>TIPO</th>\n",
       "      <th>COLOR</th>\n",
       "      <th>SUPERFICIE</th>\n",
       "      <th>PRODUCCION</th>\n",
       "      <th>Kgxha</th>\n",
       "    </tr>\n",
       "  </thead>\n",
       "  <tbody>\n",
       "    <tr>\n",
       "      <th>7535</th>\n",
       "      <td>21</td>\n",
       "      <td>28875</td>\n",
       "      <td>548</td>\n",
       "      <td>14</td>\n",
       "      <td>655.0</td>\n",
       "      <td>17</td>\n",
       "      <td>2</td>\n",
       "      <td>0</td>\n",
       "      <td>1</td>\n",
       "      <td>2.6616</td>\n",
       "      <td>771.875</td>\n",
       "      <td>290.004133</td>\n",
       "    </tr>\n",
       "  </tbody>\n",
       "</table>\n",
       "</div>"
      ],
      "text/plain": [
       "      CAMPAÑA  ID_FINCA  ID_ZONA  ID_ESTACION  ALTITUD  VARIEDAD  MODO  TIPO   \n",
       "7535       21     28875      548           14    655.0        17     2     0  \\\n",
       "\n",
       "      COLOR  SUPERFICIE  PRODUCCION       Kgxha  \n",
       "7535      1      2.6616     771.875  290.004133  "
      ]
     },
     "execution_count": 112,
     "metadata": {},
     "output_type": "execute_result"
    }
   ],
   "source": [
    "zona_i = 548    \n",
    "df_train_mod.loc[df_train_mod['ID_ZONA'] == zona_i]"
   ]
  },
  {
   "cell_type": "code",
   "execution_count": 113,
   "metadata": {},
   "outputs": [
    {
     "data": {
      "text/html": [
       "<div>\n",
       "<style scoped>\n",
       "    .dataframe tbody tr th:only-of-type {\n",
       "        vertical-align: middle;\n",
       "    }\n",
       "\n",
       "    .dataframe tbody tr th {\n",
       "        vertical-align: top;\n",
       "    }\n",
       "\n",
       "    .dataframe thead th {\n",
       "        text-align: right;\n",
       "    }\n",
       "</style>\n",
       "<table border=\"1\" class=\"dataframe\">\n",
       "  <thead>\n",
       "    <tr style=\"text-align: right;\">\n",
       "      <th></th>\n",
       "      <th>CAMPAÑA</th>\n",
       "      <th>ID_FINCA</th>\n",
       "      <th>ID_ZONA</th>\n",
       "      <th>ID_ESTACION</th>\n",
       "      <th>ALTITUD</th>\n",
       "      <th>VARIEDAD</th>\n",
       "      <th>MODO</th>\n",
       "      <th>TIPO</th>\n",
       "      <th>COLOR</th>\n",
       "      <th>SUPERFICIE</th>\n",
       "      <th>PRODUCCION</th>\n",
       "      <th>Kgxha</th>\n",
       "    </tr>\n",
       "  </thead>\n",
       "  <tbody>\n",
       "    <tr>\n",
       "      <th>6970</th>\n",
       "      <td>20</td>\n",
       "      <td>1885</td>\n",
       "      <td>559</td>\n",
       "      <td>19</td>\n",
       "      <td>700.0</td>\n",
       "      <td>59</td>\n",
       "      <td>1</td>\n",
       "      <td>0</td>\n",
       "      <td>1</td>\n",
       "      <td>3.24</td>\n",
       "      <td>1920.0</td>\n",
       "      <td>592.592593</td>\n",
       "    </tr>\n",
       "  </tbody>\n",
       "</table>\n",
       "</div>"
      ],
      "text/plain": [
       "      CAMPAÑA  ID_FINCA  ID_ZONA  ID_ESTACION  ALTITUD  VARIEDAD  MODO  TIPO   \n",
       "6970       20      1885      559           19    700.0        59     1     0  \\\n",
       "\n",
       "      COLOR  SUPERFICIE  PRODUCCION       Kgxha  \n",
       "6970      1        3.24      1920.0  592.592593  "
      ]
     },
     "execution_count": 113,
     "metadata": {},
     "output_type": "execute_result"
    }
   ],
   "source": [
    "zona_i = 559    \n",
    "df_train_mod.loc[df_train_mod['ID_ZONA'] == zona_i]"
   ]
  },
  {
   "attachments": {},
   "cell_type": "markdown",
   "metadata": {},
   "source": [
    "El suelo parece influir en la producción. Variedades como la 17 tienen mucha variabilidad, con producciones muy bajas y muy altas.\n"
   ]
  },
  {
   "attachments": {},
   "cell_type": "markdown",
   "metadata": {},
   "source": [
    "#### Probar técnicas de reducción de la dimensionalidad"
   ]
  },
  {
   "attachments": {},
   "cell_type": "markdown",
   "metadata": {},
   "source": [
    "Si al hacer la PCA (Principal Component Analysis) de los datos se observa que se forman dos clusters que se separan por una cierta variable, esto sugiere que esa variable es importante para explicar las diferencias en la producción.\n",
    "\n",
    "La PCA es una técnica no supervisada que ayuda a identificar patrones en los datos sin tener en cuenta la variable de respuesta o la variable que se quiere predecir. Por lo tanto, una vez que se identifican las variables importantes con la ayuda de la PCA, se debe utilizar técnicas de aprendizaje supervisado para desarrollar un modelo predictivo más preciso."
   ]
  },
  {
   "cell_type": "code",
   "execution_count": 114,
   "metadata": {},
   "outputs": [
    {
     "data": {
      "text/html": [
       "<div>\n",
       "<style scoped>\n",
       "    .dataframe tbody tr th:only-of-type {\n",
       "        vertical-align: middle;\n",
       "    }\n",
       "\n",
       "    .dataframe tbody tr th {\n",
       "        vertical-align: top;\n",
       "    }\n",
       "\n",
       "    .dataframe thead th {\n",
       "        text-align: right;\n",
       "    }\n",
       "</style>\n",
       "<table border=\"1\" class=\"dataframe\">\n",
       "  <thead>\n",
       "    <tr style=\"text-align: right;\">\n",
       "      <th></th>\n",
       "      <th>CAMPAÑA</th>\n",
       "      <th>ID_FINCA</th>\n",
       "      <th>VARIEDAD</th>\n",
       "      <th>COLOR</th>\n",
       "      <th>MODO</th>\n",
       "      <th>SUPERFICIE</th>\n",
       "    </tr>\n",
       "  </thead>\n",
       "  <tbody>\n",
       "    <tr>\n",
       "      <th>6525</th>\n",
       "      <td>20</td>\n",
       "      <td>48626</td>\n",
       "      <td>32</td>\n",
       "      <td>1</td>\n",
       "      <td>2</td>\n",
       "      <td>3.7503</td>\n",
       "    </tr>\n",
       "    <tr>\n",
       "      <th>6526</th>\n",
       "      <td>20</td>\n",
       "      <td>47921</td>\n",
       "      <td>32</td>\n",
       "      <td>1</td>\n",
       "      <td>2</td>\n",
       "      <td>7.3735</td>\n",
       "    </tr>\n",
       "  </tbody>\n",
       "</table>\n",
       "</div>"
      ],
      "text/plain": [
       "      CAMPAÑA  ID_FINCA  VARIEDAD  COLOR  MODO  SUPERFICIE\n",
       "6525       20     48626        32      1     2      3.7503\n",
       "6526       20     47921        32      1     2      7.3735"
      ]
     },
     "execution_count": 114,
     "metadata": {},
     "output_type": "execute_result"
    }
   ],
   "source": [
    "# Generamos el dataset df_train_subset datos: ['CAMPAÑA', 'ID_FINCA','VARIEDAD', 'COLOR', 'MODO', 'SUPERFICIE']\n",
    "años_p = list(range(20,22))\n",
    "df_train_subset = df_train.loc[df_train['CAMPAÑA'].isin(años_p),['CAMPAÑA', 'ID_FINCA','VARIEDAD', 'COLOR', 'MODO', 'SUPERFICIE']]\n",
    "df_train_subset = df_train_subset.dropna()\n",
    "df_train_subset.head(2)"
   ]
  },
  {
   "cell_type": "code",
   "execution_count": 115,
   "metadata": {},
   "outputs": [
    {
     "data": {
      "image/png": "[encoded data removed]",
      "text/plain": [
       "<Figure size 640x480 with 2 Axes>"
      ]
     },
     "metadata": {},
     "output_type": "display_data"
    },
    {
     "data": {
      "image/png": "[encoded data removed]",
      "text/plain": [
       "<Figure size 640x480 with 2 Axes>"
      ]
     },
     "metadata": {},
     "output_type": "display_data"
    },
    {
     "data": {
      "image/png": "[encoded data removed]",
      "text/plain": [
       "<Figure size 640x480 with 2 Axes>"
      ]
     },
     "metadata": {},
     "output_type": "display_data"
    },
    {
     "data": {
      "image/png": "[encoded data removed]",
      "text/plain": [
       "<Figure size 640x480 with 2 Axes>"
      ]
     },
     "metadata": {},
     "output_type": "display_data"
    },
    {
     "data": {
      "image/png": "[encoded data removed]",
      "text/plain": [
       "<Figure size 640x480 with 2 Axes>"
      ]
     },
     "metadata": {},
     "output_type": "display_data"
    }
   ],
   "source": [
    "# PCA sobre el dataset\n",
    "numeric_features = ['SUPERFICIE']\n",
    "categorical_features = ['CAMPAÑA', 'ID_FINCA', 'VARIEDAD', 'COLOR',  'MODO'] \n",
    "\n",
    "encoder = OneHotEncoder()\n",
    "encoded = encoder.fit_transform(df_train_subset[categorical_features]).toarray()\n",
    "scaler = StandardScaler()\n",
    "scaled = scaler.fit_transform(df_train_subset[numeric_features])\n",
    "\n",
    "preprocessed_data = pd.concat([pd.DataFrame(scaled), pd.DataFrame(encoded)], axis=1)\n",
    "\n",
    "pca = PCA(n_components=2)\n",
    "reduced_data = pca.fit_transform(preprocessed_data)\n",
    "\n",
    "# Representar por campaña\n",
    "plt.title('CAMPAÑA')\n",
    "plt.scatter(reduced_data[:,0], reduced_data[:,1], c=df_train_subset['CAMPAÑA'])\n",
    "plt.colorbar()\n",
    "plt.show()\n",
    "\n",
    "# Representar por modo\n",
    "plt.title('MODO')\n",
    "plt.scatter(reduced_data[:,0], reduced_data[:,1], c=df_train_subset['MODO'])\n",
    "plt.colorbar()\n",
    "plt.show()\n",
    "\n",
    "# Ahora lo mismo pero por color\n",
    "plt.title('COLOR')\n",
    "plt.scatter(reduced_data[:,0], reduced_data[:,1], c=df_train_subset['COLOR'])\n",
    "plt.colorbar()\n",
    "plt.show()\n",
    "\n",
    "# Ahora lo mismo pero por numero de finca\n",
    "plt.title('ID_FINCA')\n",
    "plt.scatter(reduced_data[:,0], reduced_data[:,1], c=df_train_subset['ID_FINCA'])\n",
    "plt.colorbar()\n",
    "plt.show()\n",
    "\n",
    "# Ahora lo mismo pero por variedad\n",
    "plt.title('VARIEDAD')\n",
    "plt.scatter(reduced_data[:,0], reduced_data[:,1], c=df_train_subset['VARIEDAD'])\n",
    "plt.colorbar()\n",
    "plt.show()"
   ]
  },
  {
   "attachments": {},
   "cell_type": "markdown",
   "metadata": {},
   "source": [
    "Factores clave:\n",
    "* La campaña (el año) influye enormemente (seguramente por el clima)\n",
    "* El modo de cultivo influye enormemente (sabemos que espaldera tiene una mayor productividad)\n",
    "* El color también parece tener un efecto\n",
    "* La altitud también tiene efecto"
   ]
  },
  {
   "attachments": {},
   "cell_type": "markdown",
   "metadata": {},
   "source": [
    "## Carga de datos METEO y análisis"
   ]
  },
  {
   "attachments": {},
   "cell_type": "markdown",
   "metadata": {},
   "source": [
    "Web:\n",
    "\n",
    "La producción de uvas y la calidad del vino están influenciados por muchos factores ambientales, incluyendo la temperatura, la humedad, la precipitación, la cantidad de luz solar y la calidad del suelo. "
   ]
  },
  {
   "attachments": {},
   "cell_type": "markdown",
   "metadata": {},
   "source": [
    "### Carga de datos TRAIN y análisis"
   ]
  },
  {
   "cell_type": "code",
   "execution_count": 211,
   "metadata": {},
   "outputs": [
    {
     "name": "stdout",
     "output_type": "stream",
     "text": [
      "(1223660, 33)\n"
     ]
    },
    {
     "data": {
      "text/html": [
       "<div>\n",
       "<style scoped>\n",
       "    .dataframe tbody tr th:only-of-type {\n",
       "        vertical-align: middle;\n",
       "    }\n",
       "\n",
       "    .dataframe tbody tr th {\n",
       "        vertical-align: top;\n",
       "    }\n",
       "\n",
       "    .dataframe thead th {\n",
       "        text-align: right;\n",
       "    }\n",
       "</style>\n",
       "<table border=\"1\" class=\"dataframe\">\n",
       "  <thead>\n",
       "    <tr style=\"text-align: right;\">\n",
       "      <th></th>\n",
       "      <th>validTimeUtc</th>\n",
       "      <th>precip1Hour</th>\n",
       "      <th>precip6Hour</th>\n",
       "      <th>precip24Hour</th>\n",
       "      <th>precip2Day</th>\n",
       "      <th>precip3Day</th>\n",
       "      <th>precip7Day</th>\n",
       "      <th>precipMtd</th>\n",
       "      <th>precipYtd</th>\n",
       "      <th>pressureChange</th>\n",
       "      <th>...</th>\n",
       "      <th>temperatureMax24Hour</th>\n",
       "      <th>temperatureMin24Hour</th>\n",
       "      <th>temperatureDewPoint</th>\n",
       "      <th>temperatureFeelsLike</th>\n",
       "      <th>uvIndex</th>\n",
       "      <th>visibility</th>\n",
       "      <th>windDirection</th>\n",
       "      <th>windGust</th>\n",
       "      <th>windSpeed</th>\n",
       "      <th>ID_ESTACION</th>\n",
       "    </tr>\n",
       "  </thead>\n",
       "  <tbody>\n",
       "    <tr>\n",
       "      <th>0</th>\n",
       "      <td>2015-06-29 16:20:00</td>\n",
       "      <td>0.0</td>\n",
       "      <td>0.0</td>\n",
       "      <td>0.0</td>\n",
       "      <td>NaN</td>\n",
       "      <td>NaN</td>\n",
       "      <td>NaN</td>\n",
       "      <td>NaN</td>\n",
       "      <td>NaN</td>\n",
       "      <td>-1.4</td>\n",
       "      <td>...</td>\n",
       "      <td>36.3</td>\n",
       "      <td>17.9</td>\n",
       "      <td>12.8</td>\n",
       "      <td>34.5</td>\n",
       "      <td>2.0</td>\n",
       "      <td>16.09</td>\n",
       "      <td>NaN</td>\n",
       "      <td>NaN</td>\n",
       "      <td>18.7</td>\n",
       "      <td>13</td>\n",
       "    </tr>\n",
       "    <tr>\n",
       "      <th>1</th>\n",
       "      <td>2015-06-29 17:20:00</td>\n",
       "      <td>0.0</td>\n",
       "      <td>0.0</td>\n",
       "      <td>0.0</td>\n",
       "      <td>NaN</td>\n",
       "      <td>NaN</td>\n",
       "      <td>NaN</td>\n",
       "      <td>NaN</td>\n",
       "      <td>NaN</td>\n",
       "      <td>-1.0</td>\n",
       "      <td>...</td>\n",
       "      <td>35.0</td>\n",
       "      <td>17.9</td>\n",
       "      <td>12.3</td>\n",
       "      <td>34.3</td>\n",
       "      <td>1.0</td>\n",
       "      <td>16.09</td>\n",
       "      <td>NaN</td>\n",
       "      <td>NaN</td>\n",
       "      <td>18.0</td>\n",
       "      <td>13</td>\n",
       "    </tr>\n",
       "    <tr>\n",
       "      <th>2</th>\n",
       "      <td>2015-06-29 18:20:00</td>\n",
       "      <td>0.0</td>\n",
       "      <td>0.0</td>\n",
       "      <td>0.0</td>\n",
       "      <td>NaN</td>\n",
       "      <td>NaN</td>\n",
       "      <td>NaN</td>\n",
       "      <td>NaN</td>\n",
       "      <td>NaN</td>\n",
       "      <td>-0.3</td>\n",
       "      <td>...</td>\n",
       "      <td>34.7</td>\n",
       "      <td>17.9</td>\n",
       "      <td>12.4</td>\n",
       "      <td>32.8</td>\n",
       "      <td>0.0</td>\n",
       "      <td>16.09</td>\n",
       "      <td>NaN</td>\n",
       "      <td>NaN</td>\n",
       "      <td>16.6</td>\n",
       "      <td>13</td>\n",
       "    </tr>\n",
       "    <tr>\n",
       "      <th>3</th>\n",
       "      <td>2015-06-29 19:20:00</td>\n",
       "      <td>0.0</td>\n",
       "      <td>0.0</td>\n",
       "      <td>0.0</td>\n",
       "      <td>NaN</td>\n",
       "      <td>NaN</td>\n",
       "      <td>NaN</td>\n",
       "      <td>NaN</td>\n",
       "      <td>NaN</td>\n",
       "      <td>0.3</td>\n",
       "      <td>...</td>\n",
       "      <td>34.7</td>\n",
       "      <td>17.9</td>\n",
       "      <td>12.9</td>\n",
       "      <td>31.0</td>\n",
       "      <td>0.0</td>\n",
       "      <td>16.09</td>\n",
       "      <td>NaN</td>\n",
       "      <td>NaN</td>\n",
       "      <td>15.1</td>\n",
       "      <td>13</td>\n",
       "    </tr>\n",
       "    <tr>\n",
       "      <th>4</th>\n",
       "      <td>2015-06-29 20:20:00</td>\n",
       "      <td>0.0</td>\n",
       "      <td>0.0</td>\n",
       "      <td>0.0</td>\n",
       "      <td>NaN</td>\n",
       "      <td>NaN</td>\n",
       "      <td>NaN</td>\n",
       "      <td>NaN</td>\n",
       "      <td>NaN</td>\n",
       "      <td>0.9</td>\n",
       "      <td>...</td>\n",
       "      <td>34.7</td>\n",
       "      <td>17.9</td>\n",
       "      <td>13.9</td>\n",
       "      <td>28.0</td>\n",
       "      <td>0.0</td>\n",
       "      <td>16.09</td>\n",
       "      <td>NaN</td>\n",
       "      <td>NaN</td>\n",
       "      <td>10.1</td>\n",
       "      <td>13</td>\n",
       "    </tr>\n",
       "  </tbody>\n",
       "</table>\n",
       "<p>5 rows × 33 columns</p>\n",
       "</div>"
      ],
      "text/plain": [
       "          validTimeUtc  precip1Hour  precip6Hour  precip24Hour  precip2Day   \n",
       "0  2015-06-29 16:20:00          0.0          0.0           0.0         NaN  \\\n",
       "1  2015-06-29 17:20:00          0.0          0.0           0.0         NaN   \n",
       "2  2015-06-29 18:20:00          0.0          0.0           0.0         NaN   \n",
       "3  2015-06-29 19:20:00          0.0          0.0           0.0         NaN   \n",
       "4  2015-06-29 20:20:00          0.0          0.0           0.0         NaN   \n",
       "\n",
       "   precip3Day  precip7Day  precipMtd  precipYtd  pressureChange  ...   \n",
       "0         NaN         NaN        NaN        NaN            -1.4  ...  \\\n",
       "1         NaN         NaN        NaN        NaN            -1.0  ...   \n",
       "2         NaN         NaN        NaN        NaN            -0.3  ...   \n",
       "3         NaN         NaN        NaN        NaN             0.3  ...   \n",
       "4         NaN         NaN        NaN        NaN             0.9  ...   \n",
       "\n",
       "   temperatureMax24Hour  temperatureMin24Hour  temperatureDewPoint   \n",
       "0                  36.3                  17.9                 12.8  \\\n",
       "1                  35.0                  17.9                 12.3   \n",
       "2                  34.7                  17.9                 12.4   \n",
       "3                  34.7                  17.9                 12.9   \n",
       "4                  34.7                  17.9                 13.9   \n",
       "\n",
       "   temperatureFeelsLike  uvIndex  visibility  windDirection  windGust   \n",
       "0                  34.5      2.0       16.09            NaN       NaN  \\\n",
       "1                  34.3      1.0       16.09            NaN       NaN   \n",
       "2                  32.8      0.0       16.09            NaN       NaN   \n",
       "3                  31.0      0.0       16.09            NaN       NaN   \n",
       "4                  28.0      0.0       16.09            NaN       NaN   \n",
       "\n",
       "   windSpeed  ID_ESTACION  \n",
       "0       18.7           13  \n",
       "1       18.0           13  \n",
       "2       16.6           13  \n",
       "3       15.1           13  \n",
       "4       10.1           13  \n",
       "\n",
       "[5 rows x 33 columns]"
      ]
     },
     "execution_count": 211,
     "metadata": {},
     "output_type": "execute_result"
    }
   ],
   "source": [
    "file = 'DATOS_METEO.txt'\n",
    "df_meteo = pd.read_csv(file, sep=\"|\")\n",
    "print(df_meteo.shape)\n",
    "df_meteo.head(5)"
   ]
  },
  {
   "cell_type": "code",
   "execution_count": 212,
   "metadata": {},
   "outputs": [],
   "source": [
    "# 0 validTimeUtc\n",
    "#  1 precip1Hour:            volumen de lluvia en la última hora \n",
    "#  2 precip6Hour:            volumen de lluvia en las últimas 6 horas\n",
    "#  3 precip24Hour:           volumen de lluvia en las últimas 24 horas \n",
    "#  4 precip2Day:             volumen de lluvia en los últimos 2 días\n",
    "#  5 precip3Day:             volumen de lluvia en los últimos 3 días \n",
    "#  6 precip7Day:             volumen de lluvia en los últimos 7 días\n",
    "#  7 precipMtd:              Volumen de lluvia en el mes en curso \n",
    "#  8 precipYtd:              Volumen de lluvia en el año en curso\n",
    "#  9 pressureChange:         Variación máxima en la presión atmosférica en las últimas 3 horas \n",
    "# 10 pressureMeanSeaLevel:  Diferencia barométrica respecto al nivel del mar\n",
    "# 11 relativeHumidity:       humedad relativa\n",
    "# 12 snow1Hour:              volumen de nieve en la última hora\n",
    "# 13 snow6Hour:              volumen de nieve en las últimas 6 horas \n",
    "# 14 snow24Hour:             volumen de nieve en las últimas 24 horas\n",
    "# 15 snow2Day:               volumen de nieve en los últimos 2 días \n",
    "# 16 snow3Day:               volumen de nieve en los últimos 3 días\n",
    "# 17 snow7Day:               volumen de nieve en los últimos 7 días \n",
    "# 18 snowMtd:                volumen de nieve en el mes en curso\n",
    "# 19 snowSeason:             volumen de nieve trimestral (DIC-FEB, MAR-MAY, JUN-AGO, SEP-NOV) \n",
    "# 20 snowYtd:                volumen de nieve en el año en curso\n",
    "# 21 temperature:            Temperatura ambiente a 2 metros del suelo \n",
    "# 22 temperatureChange24Hour:variación de temperatura respecto al día anterior\n",
    "# 23 temperatureMax24Hour:   temperatura máxima últimas 24 horas \n",
    "# 24 temperatureMin24Hour:   temperatura mínima últimas 24 horas\n",
    "# 25 temperatureDewPoint:    Punto de rocío, temperatura a la cual el aire debe ser enfriado a presión constante para alcanzar la saturación. El punto de rocío es también una medida indirecta de la humedad del aire. \n",
    "# 26 temperatureFeelsLike:   Sensación térmica. Temperatura aparente resultante de combinación de la temperatura, la humedad y la velocidad del viento.\n",
    "# 27 uvIndex:                radiación ultravioleta categorizada: -2, -1= No disponible / 0-2 = baja / 3-5 = moderada / 6-7 = alta / 8-10 = muy alta / 11-16 = extrema \n",
    "# 28 visibility:             Visibilidad horizontal desde la estación meteorológica, 999 equivale a ilimitada\n",
    "# 29 windDirection:          Dirección del viento en grados 0 – Norte, 90 – Este, 180 – Sur, 270 – Oeste \n",
    "# 30 windGust:               velocidad máxima de ráfaga de viento registrada durante el período de observación\n",
    "# 31 windSpeed:              fuerza del viento \n",
    "# 32 ID_ESTACION:            Identificador de la estación meteorológica"
   ]
  },
  {
   "cell_type": "code",
   "execution_count": 213,
   "metadata": {},
   "outputs": [
    {
     "data": {
      "text/html": [
       "<div>\n",
       "<style scoped>\n",
       "    .dataframe tbody tr th:only-of-type {\n",
       "        vertical-align: middle;\n",
       "    }\n",
       "\n",
       "    .dataframe tbody tr th {\n",
       "        vertical-align: top;\n",
       "    }\n",
       "\n",
       "    .dataframe thead th {\n",
       "        text-align: right;\n",
       "    }\n",
       "</style>\n",
       "<table border=\"1\" class=\"dataframe\">\n",
       "  <thead>\n",
       "    <tr style=\"text-align: right;\">\n",
       "      <th></th>\n",
       "      <th>validTimeUtc</th>\n",
       "      <th>precip1Hour</th>\n",
       "      <th>snow1Hour</th>\n",
       "      <th>temperature</th>\n",
       "      <th>uvIndex</th>\n",
       "      <th>ID_ESTACION</th>\n",
       "    </tr>\n",
       "  </thead>\n",
       "  <tbody>\n",
       "    <tr>\n",
       "      <th>0</th>\n",
       "      <td>2015-06-29 16:20:00</td>\n",
       "      <td>0.0</td>\n",
       "      <td>0.0</td>\n",
       "      <td>34.5</td>\n",
       "      <td>2.0</td>\n",
       "      <td>13</td>\n",
       "    </tr>\n",
       "    <tr>\n",
       "      <th>1</th>\n",
       "      <td>2015-06-29 17:20:00</td>\n",
       "      <td>0.0</td>\n",
       "      <td>0.0</td>\n",
       "      <td>34.3</td>\n",
       "      <td>1.0</td>\n",
       "      <td>13</td>\n",
       "    </tr>\n",
       "    <tr>\n",
       "      <th>2</th>\n",
       "      <td>2015-06-29 18:20:00</td>\n",
       "      <td>0.0</td>\n",
       "      <td>0.0</td>\n",
       "      <td>32.8</td>\n",
       "      <td>0.0</td>\n",
       "      <td>13</td>\n",
       "    </tr>\n",
       "  </tbody>\n",
       "</table>\n",
       "</div>"
      ],
      "text/plain": [
       "          validTimeUtc  precip1Hour  snow1Hour  temperature  uvIndex   \n",
       "0  2015-06-29 16:20:00          0.0        0.0         34.5      2.0  \\\n",
       "1  2015-06-29 17:20:00          0.0        0.0         34.3      1.0   \n",
       "2  2015-06-29 18:20:00          0.0        0.0         32.8      0.0   \n",
       "\n",
       "   ID_ESTACION  \n",
       "0           13  \n",
       "1           13  \n",
       "2           13  "
      ]
     },
     "execution_count": 213,
     "metadata": {},
     "output_type": "execute_result"
    }
   ],
   "source": [
    "# Elegir un subset de parámetros que parecen tener sentido para el problema\n",
    "columns_l = df_meteo.columns\n",
    "# if elem == 'rain': columnas_add.append('precip1Hour')\n",
    "# elif elem == 'Tmax': columnas_add.append('temperatureMax24Hour')\n",
    "# elif elem == 'Tmin': columnas_add.append('temperatureMin24Hour')\n",
    "# elif elem == 'TDew': columnas_add.append('temperatureDewPoint')\n",
    "# elif elem == 'snow': columnas_add.append('snow1Hour')\n",
    "# elif elem == 'Humidity': columnas_add.append('relativeHumidity')\n",
    "# elif elem == 'uvIndex': columnas_add.append('uvIndex')\n",
    "# elif elem == 'visibility': columnas_add.append('visibility')\n",
    "# elif elem == 'presion': columnas_add.append('pressureMeanSeaLevel')\n",
    "# elif elem == 'Tavg': columnas_add.append('temperature')\n",
    "indices = [0, 1, 12, 21, 27, 32]\n",
    "df_meteo = df_meteo[columns_l[indices]]\n",
    "df_meteo.head(3)"
   ]
  },
  {
   "cell_type": "code",
   "execution_count": 214,
   "metadata": {},
   "outputs": [
    {
     "data": {
      "text/html": [
       "<div>\n",
       "<style scoped>\n",
       "    .dataframe tbody tr th:only-of-type {\n",
       "        vertical-align: middle;\n",
       "    }\n",
       "\n",
       "    .dataframe tbody tr th {\n",
       "        vertical-align: top;\n",
       "    }\n",
       "\n",
       "    .dataframe thead th {\n",
       "        text-align: right;\n",
       "    }\n",
       "</style>\n",
       "<table border=\"1\" class=\"dataframe\">\n",
       "  <thead>\n",
       "    <tr style=\"text-align: right;\">\n",
       "      <th></th>\n",
       "      <th>validTimeUtc</th>\n",
       "      <th>precip1Hour</th>\n",
       "      <th>snow1Hour</th>\n",
       "      <th>temperature</th>\n",
       "      <th>uvIndex</th>\n",
       "      <th>ID_ESTACION</th>\n",
       "    </tr>\n",
       "  </thead>\n",
       "  <tbody>\n",
       "    <tr>\n",
       "      <th>4388</th>\n",
       "      <td>2016-01-01 00:20:00</td>\n",
       "      <td>0.0</td>\n",
       "      <td>0.0</td>\n",
       "      <td>9.4</td>\n",
       "      <td>0.0</td>\n",
       "      <td>13</td>\n",
       "    </tr>\n",
       "    <tr>\n",
       "      <th>4389</th>\n",
       "      <td>2016-01-01 01:20:00</td>\n",
       "      <td>0.0</td>\n",
       "      <td>0.0</td>\n",
       "      <td>9.2</td>\n",
       "      <td>0.0</td>\n",
       "      <td>13</td>\n",
       "    </tr>\n",
       "  </tbody>\n",
       "</table>\n",
       "</div>"
      ],
      "text/plain": [
       "            validTimeUtc  precip1Hour  snow1Hour  temperature  uvIndex   \n",
       "4388 2016-01-01 00:20:00          0.0        0.0          9.4      0.0  \\\n",
       "4389 2016-01-01 01:20:00          0.0        0.0          9.2      0.0   \n",
       "\n",
       "      ID_ESTACION  \n",
       "4388           13  \n",
       "4389           13  "
      ]
     },
     "execution_count": 214,
     "metadata": {},
     "output_type": "execute_result"
    }
   ],
   "source": [
    "# Elegir un subset de fechas: campañas 2016-2022 (suposicion: la campaña 2016 empieza tras la vendimia de 2015)\n",
    "df_meteo['validTimeUtc'] = pd.to_datetime(df_meteo['validTimeUtc'])\n",
    "df_meteo = df_meteo.loc[df_meteo['validTimeUtc'] >= '2016-01-01']\n",
    "df_meteo.head(2)"
   ]
  },
  {
   "attachments": {},
   "cell_type": "markdown",
   "metadata": {},
   "source": [
    "### Tipos de datos y NaN"
   ]
  },
  {
   "cell_type": "code",
   "execution_count": 215,
   "metadata": {},
   "outputs": [
    {
     "data": {
      "text/html": [
       "<div>\n",
       "<style scoped>\n",
       "    .dataframe tbody tr th:only-of-type {\n",
       "        vertical-align: middle;\n",
       "    }\n",
       "\n",
       "    .dataframe tbody tr th {\n",
       "        vertical-align: top;\n",
       "    }\n",
       "\n",
       "    .dataframe thead th {\n",
       "        text-align: right;\n",
       "    }\n",
       "</style>\n",
       "<table border=\"1\" class=\"dataframe\">\n",
       "  <thead>\n",
       "    <tr style=\"text-align: right;\">\n",
       "      <th></th>\n",
       "      <th>validTimeUtc</th>\n",
       "      <th>precip1Hour</th>\n",
       "      <th>snow1Hour</th>\n",
       "      <th>temperature</th>\n",
       "      <th>uvIndex</th>\n",
       "      <th>ID_ESTACION</th>\n",
       "    </tr>\n",
       "  </thead>\n",
       "  <tbody>\n",
       "    <tr>\n",
       "      <th>count</th>\n",
       "      <td>1135900</td>\n",
       "      <td>1.135880e+06</td>\n",
       "      <td>1.135880e+06</td>\n",
       "      <td>1.135880e+06</td>\n",
       "      <td>1.135880e+06</td>\n",
       "      <td>1.135900e+06</td>\n",
       "    </tr>\n",
       "    <tr>\n",
       "      <th>mean</th>\n",
       "      <td>2019-04-03 10:14:48.014790656</td>\n",
       "      <td>6.482762e-02</td>\n",
       "      <td>7.969152e-04</td>\n",
       "      <td>1.523417e+01</td>\n",
       "      <td>1.357696e+00</td>\n",
       "      <td>9.500000e+00</td>\n",
       "    </tr>\n",
       "    <tr>\n",
       "      <th>min</th>\n",
       "      <td>2016-01-01 00:20:00</td>\n",
       "      <td>0.000000e+00</td>\n",
       "      <td>0.000000e+00</td>\n",
       "      <td>-7.900000e+00</td>\n",
       "      <td>0.000000e+00</td>\n",
       "      <td>0.000000e+00</td>\n",
       "    </tr>\n",
       "    <tr>\n",
       "      <th>25%</th>\n",
       "      <td>2017-08-19 05:20:00</td>\n",
       "      <td>0.000000e+00</td>\n",
       "      <td>0.000000e+00</td>\n",
       "      <td>9.200000e+00</td>\n",
       "      <td>0.000000e+00</td>\n",
       "      <td>4.750000e+00</td>\n",
       "    </tr>\n",
       "    <tr>\n",
       "      <th>50%</th>\n",
       "      <td>2019-04-04 01:20:00</td>\n",
       "      <td>0.000000e+00</td>\n",
       "      <td>0.000000e+00</td>\n",
       "      <td>1.440000e+01</td>\n",
       "      <td>0.000000e+00</td>\n",
       "      <td>9.500000e+00</td>\n",
       "    </tr>\n",
       "    <tr>\n",
       "      <th>75%</th>\n",
       "      <td>2020-11-16 02:20:00</td>\n",
       "      <td>0.000000e+00</td>\n",
       "      <td>0.000000e+00</td>\n",
       "      <td>2.070000e+01</td>\n",
       "      <td>2.000000e+00</td>\n",
       "      <td>1.425000e+01</td>\n",
       "    </tr>\n",
       "    <tr>\n",
       "      <th>max</th>\n",
       "      <td>2022-06-30 23:20:00</td>\n",
       "      <td>6.030000e+01</td>\n",
       "      <td>5.000000e+00</td>\n",
       "      <td>4.320000e+01</td>\n",
       "      <td>1.000000e+01</td>\n",
       "      <td>1.900000e+01</td>\n",
       "    </tr>\n",
       "    <tr>\n",
       "      <th>std</th>\n",
       "      <td>NaN</td>\n",
       "      <td>5.311995e-01</td>\n",
       "      <td>3.654006e-02</td>\n",
       "      <td>7.975273e+00</td>\n",
       "      <td>2.355252e+00</td>\n",
       "      <td>5.766284e+00</td>\n",
       "    </tr>\n",
       "  </tbody>\n",
       "</table>\n",
       "</div>"
      ],
      "text/plain": [
       "                        validTimeUtc   precip1Hour     snow1Hour   \n",
       "count                        1135900  1.135880e+06  1.135880e+06  \\\n",
       "mean   2019-04-03 10:14:48.014790656  6.482762e-02  7.969152e-04   \n",
       "min              2016-01-01 00:20:00  0.000000e+00  0.000000e+00   \n",
       "25%              2017-08-19 05:20:00  0.000000e+00  0.000000e+00   \n",
       "50%              2019-04-04 01:20:00  0.000000e+00  0.000000e+00   \n",
       "75%              2020-11-16 02:20:00  0.000000e+00  0.000000e+00   \n",
       "max              2022-06-30 23:20:00  6.030000e+01  5.000000e+00   \n",
       "std                              NaN  5.311995e-01  3.654006e-02   \n",
       "\n",
       "        temperature       uvIndex   ID_ESTACION  \n",
       "count  1.135880e+06  1.135880e+06  1.135900e+06  \n",
       "mean   1.523417e+01  1.357696e+00  9.500000e+00  \n",
       "min   -7.900000e+00  0.000000e+00  0.000000e+00  \n",
       "25%    9.200000e+00  0.000000e+00  4.750000e+00  \n",
       "50%    1.440000e+01  0.000000e+00  9.500000e+00  \n",
       "75%    2.070000e+01  2.000000e+00  1.425000e+01  \n",
       "max    4.320000e+01  1.000000e+01  1.900000e+01  \n",
       "std    7.975273e+00  2.355252e+00  5.766284e+00  "
      ]
     },
     "execution_count": 215,
     "metadata": {},
     "output_type": "execute_result"
    }
   ],
   "source": [
    "df_meteo.describe()"
   ]
  },
  {
   "cell_type": "code",
   "execution_count": 216,
   "metadata": {},
   "outputs": [
    {
     "name": "stdout",
     "output_type": "stream",
     "text": [
      "<class 'pandas.core.frame.DataFrame'>\n",
      "Index: 1135900 entries, 4388 to 1223659\n",
      "Data columns (total 6 columns):\n",
      " #   Column        Non-Null Count    Dtype         \n",
      "---  ------        --------------    -----         \n",
      " 0   validTimeUtc  1135900 non-null  datetime64[ns]\n",
      " 1   precip1Hour   1135880 non-null  float64       \n",
      " 2   snow1Hour     1135880 non-null  float64       \n",
      " 3   temperature   1135880 non-null  float64       \n",
      " 4   uvIndex       1135880 non-null  float64       \n",
      " 5   ID_ESTACION   1135900 non-null  int64         \n",
      "dtypes: datetime64[ns](1), float64(4), int64(1)\n",
      "memory usage: 60.7 MB\n"
     ]
    }
   ],
   "source": [
    "df_meteo.info()"
   ]
  },
  {
   "cell_type": "code",
   "execution_count": 217,
   "metadata": {},
   "outputs": [],
   "source": [
    "# Todos los NaN estan acumulados en un dia y una hora, para las 20 estaciones\n",
    "# Cuando se consoliden datos, desapareceran\n",
    "# df_meteo[df_meteo['precip1Hour'].isna()]"
   ]
  },
  {
   "cell_type": "code",
   "execution_count": 218,
   "metadata": {},
   "outputs": [],
   "source": [
    "# Agrupar los datos con escala diaria\n",
    "columns_agg = {}\n",
    "columns_agg['precip1Hour'] = 'sum'\n",
    "columns_agg['snow1Hour'] = 'sum'\n",
    "columns_agg['temperature'] = 'max'\n",
    "columns_agg['uvIndex'] = 'max'\n",
    "df_meteo = df_meteo.groupby([pd.Grouper(key='validTimeUtc', freq='D'),'ID_ESTACION']).agg(columns_agg)"
   ]
  },
  {
   "cell_type": "code",
   "execution_count": 219,
   "metadata": {},
   "outputs": [],
   "source": [
    "df_meteo = df_meteo.reset_index()"
   ]
  },
  {
   "cell_type": "code",
   "execution_count": 220,
   "metadata": {},
   "outputs": [],
   "source": [
    "# Agrupar los datos con escala mensual\n",
    "columns_agg = {}\n",
    "columns_agg['precip1Hour'] = 'sum'\n",
    "columns_agg['snow1Hour'] = 'sum'\n",
    "columns_agg['temperature'] = 'mean'\n",
    "columns_agg['uvIndex'] = 'max'\n",
    "df_meteo = df_meteo.groupby([pd.Grouper(key='validTimeUtc', freq='M'),'ID_ESTACION']).agg(columns_agg)"
   ]
  },
  {
   "cell_type": "code",
   "execution_count": 221,
   "metadata": {},
   "outputs": [],
   "source": [
    "df_meteo = df_meteo.reset_index()"
   ]
  },
  {
   "cell_type": "code",
   "execution_count": 222,
   "metadata": {},
   "outputs": [],
   "source": [
    "# Renombrar columnas   \n",
    "df_meteo.columns = ['validTimeUtc', 'ID_ESTACION', 'precip_cum', 'snow_cum', 'temperature_max_mean', 'uvIndex_max'] \n",
    "df_meteo['month'] = df_meteo['validTimeUtc'].dt.strftime('%m')\n",
    "df_meteo['CAMPAÑA'] = df_meteo['validTimeUtc'].dt.strftime('%y')"
   ]
  },
  {
   "cell_type": "code",
   "execution_count": 223,
   "metadata": {},
   "outputs": [],
   "source": [
    "df_meteo = df_meteo.drop('validTimeUtc', axis=1)"
   ]
  },
  {
   "cell_type": "code",
   "execution_count": 224,
   "metadata": {},
   "outputs": [],
   "source": [
    "df_meteo = df_meteo[~df_meteo['month'].isin(['07', '08', '09', '10', '11', '12'])]"
   ]
  },
  {
   "cell_type": "code",
   "execution_count": 225,
   "metadata": {},
   "outputs": [],
   "source": [
    "# Utilizar la función pivot_table para transformar el DataFrame\n",
    "df_meteo = pd.pivot_table(df_meteo, index=['ID_ESTACION', 'CAMPAÑA'], columns=['month'], values=['precip_cum', 'snow_cum', 'temperature_max_mean', 'uvIndex_max'])\n",
    "# Restablecer los nombres de las columnas\n",
    "df_meteo.columns = [f'{col}_{month}' for col, month in df_meteo.columns]\n",
    "# Restablecer el índice\n",
    "df_meteo = df_meteo.reset_index()\n"
   ]
  },
  {
   "cell_type": "code",
   "execution_count": 226,
   "metadata": {},
   "outputs": [
    {
     "name": "stdout",
     "output_type": "stream",
     "text": [
      "<class 'pandas.core.frame.DataFrame'>\n",
      "RangeIndex: 140 entries, 0 to 139\n",
      "Data columns (total 26 columns):\n",
      " #   Column                   Non-Null Count  Dtype  \n",
      "---  ------                   --------------  -----  \n",
      " 0   ID_ESTACION              140 non-null    int64  \n",
      " 1   CAMPAÑA                  140 non-null    object \n",
      " 2   precip_cum_01            140 non-null    float64\n",
      " 3   precip_cum_02            140 non-null    float64\n",
      " 4   precip_cum_03            140 non-null    float64\n",
      " 5   precip_cum_04            140 non-null    float64\n",
      " 6   precip_cum_05            140 non-null    float64\n",
      " 7   precip_cum_06            140 non-null    float64\n",
      " 8   snow_cum_01              140 non-null    float64\n",
      " 9   snow_cum_02              140 non-null    float64\n",
      " 10  snow_cum_03              140 non-null    float64\n",
      " 11  snow_cum_04              140 non-null    float64\n",
      " 12  snow_cum_05              140 non-null    float64\n",
      " 13  snow_cum_06              140 non-null    float64\n",
      " 14  temperature_max_mean_01  140 non-null    float64\n",
      " 15  temperature_max_mean_02  140 non-null    float64\n",
      " 16  temperature_max_mean_03  140 non-null    float64\n",
      " 17  temperature_max_mean_04  140 non-null    float64\n",
      " 18  temperature_max_mean_05  140 non-null    float64\n",
      " 19  temperature_max_mean_06  140 non-null    float64\n",
      " 20  uvIndex_max_01           140 non-null    float64\n",
      " 21  uvIndex_max_02           140 non-null    float64\n",
      " 22  uvIndex_max_03           140 non-null    float64\n",
      " 23  uvIndex_max_04           140 non-null    float64\n",
      " 24  uvIndex_max_05           140 non-null    float64\n",
      " 25  uvIndex_max_06           140 non-null    float64\n",
      "dtypes: float64(24), int64(1), object(1)\n",
      "memory usage: 28.6+ KB\n"
     ]
    }
   ],
   "source": [
    "df_meteo.info()"
   ]
  },
  {
   "cell_type": "code",
   "execution_count": 227,
   "metadata": {},
   "outputs": [
    {
     "data": {
      "text/html": [
       "<div>\n",
       "<style scoped>\n",
       "    .dataframe tbody tr th:only-of-type {\n",
       "        vertical-align: middle;\n",
       "    }\n",
       "\n",
       "    .dataframe tbody tr th {\n",
       "        vertical-align: top;\n",
       "    }\n",
       "\n",
       "    .dataframe thead th {\n",
       "        text-align: right;\n",
       "    }\n",
       "</style>\n",
       "<table border=\"1\" class=\"dataframe\">\n",
       "  <thead>\n",
       "    <tr style=\"text-align: right;\">\n",
       "      <th></th>\n",
       "      <th>ID_ESTACION</th>\n",
       "      <th>CAMPAÑA</th>\n",
       "      <th>precip_cum_01</th>\n",
       "      <th>precip_cum_02</th>\n",
       "      <th>precip_cum_03</th>\n",
       "      <th>precip_cum_04</th>\n",
       "      <th>precip_cum_05</th>\n",
       "      <th>precip_cum_06</th>\n",
       "      <th>snow_cum_01</th>\n",
       "      <th>snow_cum_02</th>\n",
       "      <th>...</th>\n",
       "      <th>temperature_max_mean_03</th>\n",
       "      <th>temperature_max_mean_04</th>\n",
       "      <th>temperature_max_mean_05</th>\n",
       "      <th>temperature_max_mean_06</th>\n",
       "      <th>uvIndex_max_01</th>\n",
       "      <th>uvIndex_max_02</th>\n",
       "      <th>uvIndex_max_03</th>\n",
       "      <th>uvIndex_max_04</th>\n",
       "      <th>uvIndex_max_05</th>\n",
       "      <th>uvIndex_max_06</th>\n",
       "    </tr>\n",
       "  </thead>\n",
       "  <tbody>\n",
       "    <tr>\n",
       "      <th>0</th>\n",
       "      <td>0</td>\n",
       "      <td>16</td>\n",
       "      <td>15.5</td>\n",
       "      <td>12.2</td>\n",
       "      <td>29.9</td>\n",
       "      <td>136.9</td>\n",
       "      <td>35.1</td>\n",
       "      <td>3.6</td>\n",
       "      <td>0.0</td>\n",
       "      <td>0.0</td>\n",
       "      <td>...</td>\n",
       "      <td>16.416129</td>\n",
       "      <td>19.043333</td>\n",
       "      <td>23.219355</td>\n",
       "      <td>29.476667</td>\n",
       "      <td>3.0</td>\n",
       "      <td>4.0</td>\n",
       "      <td>6.0</td>\n",
       "      <td>8.0</td>\n",
       "      <td>9.0</td>\n",
       "      <td>9.0</td>\n",
       "    </tr>\n",
       "    <tr>\n",
       "      <th>1</th>\n",
       "      <td>0</td>\n",
       "      <td>17</td>\n",
       "      <td>192.4</td>\n",
       "      <td>13.2</td>\n",
       "      <td>170.3</td>\n",
       "      <td>57.5</td>\n",
       "      <td>2.2</td>\n",
       "      <td>21.1</td>\n",
       "      <td>12.4</td>\n",
       "      <td>0.0</td>\n",
       "      <td>...</td>\n",
       "      <td>18.012903</td>\n",
       "      <td>19.386667</td>\n",
       "      <td>24.325806</td>\n",
       "      <td>29.946667</td>\n",
       "      <td>3.0</td>\n",
       "      <td>4.0</td>\n",
       "      <td>6.0</td>\n",
       "      <td>8.0</td>\n",
       "      <td>9.0</td>\n",
       "      <td>9.0</td>\n",
       "    </tr>\n",
       "  </tbody>\n",
       "</table>\n",
       "<p>2 rows × 26 columns</p>\n",
       "</div>"
      ],
      "text/plain": [
       "   ID_ESTACION CAMPAÑA  precip_cum_01  precip_cum_02  precip_cum_03   \n",
       "0            0      16           15.5           12.2           29.9  \\\n",
       "1            0      17          192.4           13.2          170.3   \n",
       "\n",
       "   precip_cum_04  precip_cum_05  precip_cum_06  snow_cum_01  snow_cum_02  ...   \n",
       "0          136.9           35.1            3.6          0.0          0.0  ...  \\\n",
       "1           57.5            2.2           21.1         12.4          0.0  ...   \n",
       "\n",
       "   temperature_max_mean_03  temperature_max_mean_04  temperature_max_mean_05   \n",
       "0                16.416129                19.043333                23.219355  \\\n",
       "1                18.012903                19.386667                24.325806   \n",
       "\n",
       "   temperature_max_mean_06  uvIndex_max_01  uvIndex_max_02  uvIndex_max_03   \n",
       "0                29.476667             3.0             4.0             6.0  \\\n",
       "1                29.946667             3.0             4.0             6.0   \n",
       "\n",
       "   uvIndex_max_04  uvIndex_max_05  uvIndex_max_06  \n",
       "0             8.0             9.0             9.0  \n",
       "1             8.0             9.0             9.0  \n",
       "\n",
       "[2 rows x 26 columns]"
      ]
     },
     "execution_count": 227,
     "metadata": {},
     "output_type": "execute_result"
    }
   ],
   "source": [
    "df_meteo.head(2)"
   ]
  },
  {
   "cell_type": "code",
   "execution_count": 228,
   "metadata": {},
   "outputs": [],
   "source": [
    "# Guardar el archivo modificado\n",
    "df_meteo.to_csv('DATOS_METEO_MES.txt', index=False, sep='|')"
   ]
  },
  {
   "attachments": {},
   "cell_type": "markdown",
   "metadata": {},
   "source": [
    "Resumen:\n",
    "* En las fechas 2016-2022 solo habia una hora con datos NaN para las columnas escogidas\n",
    "* Como se agrupan con escala diaria, estos NaN no tienen mucha importancia\n",
    "* Luego se agrupan por mes, ya que sabemos que en distintos momentos de la planta tendra mas importancia una cosa u otra (luz, lluvia...)"
   ]
  },
  {
   "attachments": {},
   "cell_type": "markdown",
   "metadata": {},
   "source": []
  }
 ],
 "metadata": {
  "kernelspec": {
   "display_name": "Python 3",
   "language": "python",
   "name": "python3"
  },
  "language_info": {
   "codemirror_mode": {
    "name": "ipython",
    "version": 3
   },
   "file_extension": ".py",
   "mimetype": "text/x-python",
   "name": "python",
   "nbconvert_exporter": "python",
   "pygments_lexer": "ipython3",
   "version": "3.10.5"
  },
  "orig_nbformat": 4,
  "vscode": {
   "interpreter": {
    "hash": "7efbd634259f8e5f569f443ec65758432c9a08fec7ecc1e2b0020067d32b9947"
   }
  }
 },
 "nbformat": 4,
 "nbformat_minor": 2
}
